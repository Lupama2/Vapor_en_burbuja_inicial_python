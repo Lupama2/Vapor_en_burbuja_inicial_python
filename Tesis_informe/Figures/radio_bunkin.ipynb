{
 "cells": [
  {
   "cell_type": "markdown",
   "metadata": {},
   "source": [
    "# Gráficos relacionados a la evolución del radio en el tiempo empleando la propuesta de Bunkin\n",
    "\n",
    "Links de interés a la hora de hacer gráficos:  \n",
    "Letras griegas y Latex  \n",
    "https://matplotlib.org/stable/tutorials/text/mathtext.html  \n",
    "Colores  \n",
    "https://matplotlib.org/stable/gallery/color/named_colors.html  \n",
    "Legend's location  \n",
    "https://stackoverflow.com/questions/4700614/how-to-put-the-legend-outside-the-plot  "
   ]
  },
  {
   "cell_type": "code",
   "execution_count": 102,
   "metadata": {},
   "outputs": [],
   "source": [
    "#Importo librerías\n",
    "import numpy as np\n",
    "import matplotlib.pyplot as plt\n",
    "import matplotlib\n",
    "import math\n",
    "from scipy.optimize import fsolve #para resolver ecuaciones algebraicas\n",
    " \n",
    "pi = math.pi"
   ]
  },
  {
   "cell_type": "code",
   "execution_count": 103,
   "metadata": {},
   "outputs": [],
   "source": [
    "#Fuente\n",
    "font = {'family' : 'Arial',\n",
    "        'weight' : 'normal',\n",
    "        'size'   : 14}\n",
    "matplotlib.rc('font', **font)"
   ]
  },
  {
   "cell_type": "markdown",
   "metadata": {},
   "source": [
    "## Evolución desde $N_e = 1$ hasta $N_e = N_{e max}$"
   ]
  },
  {
   "cell_type": "markdown",
   "metadata": {},
   "source": [
    "### Número de electrones en función del radio R_0 del bubston ?? Ver si es necesario esto cuando escriba el informe"
   ]
  },
  {
   "cell_type": "markdown",
   "metadata": {},
   "source": [
    "### Densidad de electrones en función de r para valores de $N_e$ hasta $N_{e max}$"
   ]
  },
  {
   "cell_type": "code",
   "execution_count": 104,
   "metadata": {},
   "outputs": [],
   "source": [
    "#Parámetros del problema\n",
    "\n",
    "Delta = 6 #Energía mecánica para arrancar un electrón de la pared en [eV]\n",
    "T_e_bubs_ini = Delta/3 #Temperatura de los electrones dentro de la burbuja en [eV]. Conversión: (ev)*()\n",
    "T_e_bubs_ini = T_e_bubs_ini*(1.602176565e-19)*(1/1e-7) #en [erg] (CGS). Conversión (1ev)(1.602176565e-19J/1ev)*(1erg/1e-7 J)\n",
    "\n",
    "q_e = -1.602176634e-19 #carga del electrón en [Coulomb]\n",
    "q_e = q_e*(1/3.336641e-10) #en [Fr] (CGS). Conversión (C)*(Fr/3.336641e-10 C)\n",
    "\n",
    "R0 = 1e-6 #Radio inicial de un bubston en [cm]. Este valor lo saqué del supuesto inicial del Bunkin\n",
    "\n",
    "\n",
    "\n",
    "a_i = 2e-5 #radio de Debye de un electrolito dentro de un líquido en [cm]. Valor extraído del Bunkin\n",
    "R1 = a_i #radio de los bubstons tal que comienzan a tocarse entre sí"
   ]
  },
  {
   "cell_type": "code",
   "execution_count": 105,
   "metadata": {},
   "outputs": [],
   "source": [
    "#Defino funciones varias\n",
    "\n",
    "def T_e(R):\n",
    "    #Temperatura bajo el régimen de autoconsistencia\n",
    "    return T_e_bubs_ini*R0/R\n",
    "\n",
    "def N_emax(R):\n",
    "    #Nro máximo de electrones\n",
    "    return 64/9*(T_e(R)*R/q_e**2)**2\n",
    "    \n",
    "def x(R, Ne):\n",
    "    #factor x = R/a_e. Resulta ser el mismo que el factor x del Bunkin. Recordar que por consideraciones cuasiestáticas lo que antes dependía de R0 ahora lo hace de R.\n",
    "    def ec_de_x(x):\n",
    "        #Esta ec está definida en el Bunkin\n",
    "        return T_e(R)*R/q_e**2*(x*np.cosh(x)- np.sinh(x))/(x) - Ne\n",
    "    return fsolve(ec_de_x, 4)[0]\n",
    "\n",
    "def a_e(R, Ne):\n",
    "    #Electron Debye Radius. a_e es solución de la ecuación de N_e asumiendo que N_e está dado por T_e, R0 y q_e al considerar x grande\n",
    "    return R/x(R, Ne)\n",
    "\n",
    "def n_e0(R, Ne):\n",
    "    #Densidad en r = 0\n",
    "    #R: radio de la burbuja\n",
    "    return T_e(R)/(4*pi*q_e**2*a_e(R, Ne)**2)\n",
    "\n",
    "def n_e(r, R, Ne):\n",
    "    return n_e0(R, Ne)*np.sinh(r/a_e(R, Ne))/(r/a_e(R, Ne))"
   ]
  },
  {
   "cell_type": "code",
   "execution_count": 106,
   "metadata": {},
   "outputs": [
    {
     "data": {
      "image/png": "[encoded data removed]",
      "text/plain": [
       "<Figure size 432x288 with 1 Axes>"
      ]
     },
     "metadata": {
      "needs_background": "light"
     },
     "output_type": "display_data"
    }
   ],
   "source": [
    "#Grafico la densidad en función de r para R = R0\n",
    "\n",
    "\n",
    "#Arrays\n",
    "r_array = R0*np.linspace(0.0001,1,100) #Si lo inicio desde 0 da error\n",
    "Ne_array = np.geomspace(N_emax(R0)/5, N_emax(R0), num=4)\n",
    "color_array = np.array([\"lightsteelblue\", \"cornflowerblue\", \"royalblue\", \"mediumblue\" ])\n",
    "\n",
    "#Gráficos\n",
    "for i in range(len(Ne_array)):\n",
    "    Ne = Ne_array[i]\n",
    "    n_e_array = n_e(r_array, R0, Ne)\n",
    "    plt.plot(r_array/R0, n_e_array, label = r'$N_e \\approx$ ' + str(np.around(Ne)), linewidth = 2, color = color_array[i]);\n",
    "\n",
    "plt.legend(fontsize = 12)\n",
    "# plt.legend(loc='lower center', ncol = 4, bbox_to_anchor=(0, 1.02, 1, 0.2),fontsize = 12)\n",
    "plt.xlabel('$r/R_0$')\n",
    "plt.ylabel('$n_e(r) \\, [1/cm^3]$')\n",
    "\n",
    "#Guardo el gráfico\n",
    "plt.savefig('cap1_densidad_vs_r_vs_Ne.pdf', format='pdf',bbox_inches = \"tight\")\n"
   ]
  },
  {
   "cell_type": "code",
   "execution_count": 107,
   "metadata": {},
   "outputs": [
    {
     "name": "stdout",
     "output_type": "stream",
     "text": [
      "1373.4553932506085\n"
     ]
    }
   ],
   "source": [
    "#Verifico que la integral de la densidad sea el nro de electrones\n",
    "from scipy.integrate import quad\n",
    "def integrando(r):\n",
    "    return 4*pi*r**2*n_e(r, R0, Ne)\n",
    "integral = quad(integrando, 0, R0)\n",
    "print(integral[0])"
   ]
  },
  {
   "cell_type": "markdown",
   "metadata": {},
   "source": [
    "### Campo eléctrico en el interior de la burbuja"
   ]
  },
  {
   "cell_type": "code",
   "execution_count": 108,
   "metadata": {},
   "outputs": [],
   "source": [
    "#Defino funciones\n",
    "\n",
    "def E(r,R):\n",
    "    #Campo eléctrico debido a la distribución de carga. No es la misma expresión que el Bunkin porque en el Bunkin están mal algunos factores\n",
    "    ae = a_e(R, N_emax(R))\n",
    "    x = r/ae\n",
    "    return T_e(R)*ae/(q_e*r**2)*(np.sinh(x) - (x)*np.cosh(x))"
   ]
  },
  {
   "cell_type": "code",
   "execution_count": 109,
   "metadata": {},
   "outputs": [
    {
     "data": {
      "image/png": "[encoded data removed]",
      "text/plain": [
       "<Figure size 432x288 with 1 Axes>"
      ]
     },
     "metadata": {
      "needs_background": "light"
     },
     "output_type": "display_data"
    }
   ],
   "source": [
    "#Grafico\n",
    "\n",
    "#Arrays\n",
    "r_array = R0*np.linspace(0.0001,1,100) #Si lo inicio desde 0 da error\n",
    "E_array = np.zeros(len(r_array))\n",
    "\n",
    "for i in range(len(r_array)):\n",
    "        E_array[i] = E(r_array[i],R0)\n",
    "\n",
    "#Gráfico\n",
    "plt.plot(r_array/R0, E_array, linewidth = 2);\n",
    "\n",
    "# plt.legend(fontsize = 12)\n",
    "# plt.legend(loc='lower center', ncol = 4, bbox_to_anchor=(0, 1.02, 1, 0.2),fontsize = 12)\n",
    "plt.xlabel('$r/R_0$')\n",
    "plt.ylabel('$E(r) [statV/cm]$')\n",
    "\n",
    "#Guardo el gráfico\n",
    "plt.savefig('cap1_campoE_vs_r.pdf', format='pdf',bbox_inches = \"tight\")"
   ]
  },
  {
   "cell_type": "markdown",
   "metadata": {},
   "source": [
    "## Evolución desde $N_e = N_{e max}$ hasta $R = R_1$"
   ]
  },
  {
   "cell_type": "markdown",
   "metadata": {},
   "source": [
    "### Presión eléctrica con el radio de la burbuja R hasta $R = R_1$\n",
    "Mostrar dependencia $1/R^4$"
   ]
  },
  {
   "cell_type": "code",
   "execution_count": 110,
   "metadata": {},
   "outputs": [],
   "source": [
    "#Defino funciones varias\n",
    "\n",
    "def x(R):\n",
    "    #factor x = R/a_e. Resulta ser el mismo que el factor x del Bunkin. Recordar que por consideraciones cuasiestáticas lo que antes dependía de R0 ahora lo hace de R.\n",
    "    def ec_de_x(x):\n",
    "        #Esta ec está definida en el Bunkin\n",
    "        return T_e(R)*R/q_e**2*(x*np.cosh(x)- np.sinh(x))/(x) - N_emax(R)\n",
    "    return fsolve(ec_de_x, 4)[0]\n",
    "\n",
    "def a_e(R):\n",
    "    #Electron Debye Radius. a_e es solución de la ecuación de N_e asumiendo que N_e está dado por T_e, R0 y q_e al considerar x grande\n",
    "    return R/x(R)\n",
    "\n",
    "def n_e0(R):\n",
    "    #Densidad en r = 0\n",
    "    #R: radio de la burbuja\n",
    "    return T_e(R)/(4*pi*q_e**2*a_e(R)**2)\n",
    "\n",
    "def N_emax(R):\n",
    "    #Nro máximo de electrones\n",
    "    return 64/9*(T_e(R)*R/q_e**2)**2\n",
    "\n",
    "def n_e_R(R):\n",
    "    #Densidad en r = R\n",
    "    #R: radio de la burbuja\n",
    "    return n_e0(R)*np.sinh(R/a_e(R))/(R/a_e(R))\n",
    "\n",
    "def E(R):\n",
    "    #Campo eléctrico debido a la distribución de carga. No es la misma expresión que el Bunkin porque en el Bunkin están mal algunos factores\n",
    "    ae = a_e(R)\n",
    "    x = R/ae\n",
    "    return T_e(R)*ae/(q_e*R**2)*(np.sinh(x) - (x)*np.cosh(x))\n",
    "\n",
    "def p_gas(R):\n",
    "    #Presión producida por el gas de electrones\n",
    "    return 2/3*n_e_R(R)*T_e(R)\n",
    "\n",
    "def p_coul(R):\n",
    "    #Presión electrostática producida por la distribución de carga (electrones)\n",
    "    return E(R)**2/(8*pi)\n",
    "\n",
    "def p_e(R):\n",
    "    #Presión total producida por los electrones\n",
    "    return p_gas(R) + p_coul(R)"
   ]
  },
  {
   "cell_type": "code",
   "execution_count": 112,
   "metadata": {},
   "outputs": [
    {
     "data": {
      "image/png": "[encoded data removed]",
      "text/plain": [
       "<Figure size 432x288 with 1 Axes>"
      ]
     },
     "metadata": {
      "needs_background": "light"
     },
     "output_type": "display_data"
    }
   ],
   "source": [
    "#Defino arrays\n",
    "R_array = R1*np.linspace(0.001,1,100)\n",
    "p_e_array = np.zeros(len(R_array))\n",
    "for i in range(len(R_array)):\n",
    "    p_e_array[i] = p_e(R_array[i])\n",
    "\n",
    "#Grafico:\n",
    "plt.plot(R_array/R0, p_e_array, linewidth = 2);\n",
    "\n",
    "# plt.legend(fontsize = 12)\n",
    "# plt.legend(loc='lower center', ncol = 4, bbox_to_anchor=(0, 1.02, 1, 0.2),fontsize = 12)\n",
    "plt.xlabel('$R/R_0$')\n",
    "plt.ylabel('$p_e(r) [baria]$')\n",
    "plt.yscale(\"log\")\n",
    "\n",
    "#Guardo el gráfico\n",
    "plt.savefig('cap1_p_e_vs_R.pdf', format='pdf',bbox_inches = \"tight\")"
   ]
  },
  {
   "cell_type": "markdown",
   "metadata": {},
   "source": [
    "### Radio y velocidad en función del tiempo hasta $R = R_1$"
   ]
  },
  {
   "cell_type": "code",
   "execution_count": null,
   "metadata": {},
   "outputs": [],
   "source": [
    "def dydt(t,y):\n",
    "    #Sistema de ecuaciones de primer orden para la evolución del radio en función del tiempo. Entiéndase y = (R, Rp) = (R, v_R)\n",
    "    v_R = y[1]\n",
    "    R = y[0]\n",
    "\n",
    "    #Expreso dydt_0 = dR/dt = v_R\n",
    "    dydt_0 = v_R\n",
    "\n",
    "    #Expreso dydt_2 = d(v_R/dt) = d2(R)/dt2\n",
    "    dydt_1 = (p_e(R)/rho_L - 3/2*v_R**2)/R\n",
    "\n",
    "    return [dydt_0, dydt_1]\n",
    "\n",
    "#Defino la condición de stop de la evolución\n",
    "def event_bubs(t, y):\n",
    "    #Evoluciona hasta que R = R1 = l/2 \\approx a_i\n",
    "    return y[0] - a_i #Da cero cuando la condición ocurre\n"
   ]
  },
  {
   "cell_type": "markdown",
   "metadata": {},
   "source": [
    "## Evolución desde formación del cluster instantánea hasta máxima expansión"
   ]
  },
  {
   "cell_type": "markdown",
   "metadata": {},
   "source": [
    "###  Radio y velocidad en función del tiempo hasta el mínimo\n",
    "Mencionar la condición $R_{cl} = R_{max}$"
   ]
  }
 ],
 "metadata": {
  "kernelspec": {
   "display_name": "Python 3.9.12 ('Maestria')",
   "language": "python",
   "name": "python3"
  },
  "language_info": {
   "codemirror_mode": {
    "name": "ipython",
    "version": 3
   },
   "file_extension": ".py",
   "mimetype": "text/x-python",
   "name": "python",
   "nbconvert_exporter": "python",
   "pygments_lexer": "ipython3",
   "version": "3.9.12"
  },
  "orig_nbformat": 4,
  "vscode": {
   "interpreter": {
    "hash": "cb1dcd6e0b4bfbec9d527d1ab7c6c7d4b743ae11c2e9f2e62e6759bb0aaa74ae"
   }
  }
 },
 "nbformat": 4,
 "nbformat_minor": 2
}
