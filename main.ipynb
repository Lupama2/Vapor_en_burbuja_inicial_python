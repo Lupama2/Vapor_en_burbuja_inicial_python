{
 "cells": [
  {
   "cell_type": "code",
   "execution_count": 52,
   "metadata": {},
   "outputs": [
    {
     "data": {
      "image/png": "[encoded data removed]",
      "text/plain": [
       "<Figure size 432x288 with 1 Axes>"
      ]
     },
     "metadata": {
      "needs_background": "light"
     },
     "output_type": "display_data"
    },
    {
     "name": "stdout",
     "output_type": "stream",
     "text": [
      "[0.         0.05493624 0.59857618 1.        ]\n"
     ]
    }
   ],
   "source": [
    "import scipy\n",
    "from scipy.integrate import solve_ivp\n",
    "\n",
    "def exponential_decay(t, y): return [-0.5 * y[0],0.7 * y[1] + y[0]**5]\n",
    "\n",
    "sol = solve_ivp(exponential_decay, [0, 1], [2,2])\n",
    "#print(sol.y[1])\n",
    "import matplotlib.pyplot as plt\n",
    "plt.plot(sol.t,sol.y[0])\n",
    "plt.plot(sol.t,sol.y[1])\n",
    "plt.show()\n",
    "print(sol.t)"
   ]
  },
  {
   "cell_type": "code",
   "execution_count": 19,
   "metadata": {},
   "outputs": [],
   "source": [
    "import scipy\n",
    "\n",
    "#Radio de la burbuja\n",
    "def R(t): #en metros\n",
    "    return 1\n",
    "\n",
    "#Volumen de la burbuja:\n",
    "def V(t): #en m3\n",
    "    return 4/3 * scipy.pi * R(t)**3\n",
    "\n",
    "#Gráfico R(t):\n",
    "#import matplotlib.pyplot as plt\n",
    "#import numpy as np\n",
    "\n",
    "#t_array = np.linspace(0, 100e-6)\n",
    "#R_array = R(t_array)\n",
    "#plt.plot(R_array,t_array)"
   ]
  },
  {
   "cell_type": "code",
   "execution_count": 12,
   "metadata": {},
   "outputs": [
    {
     "data": {
      "text/plain": [
       "0.0001"
      ]
     },
     "execution_count": 12,
     "metadata": {},
     "output_type": "execute_result"
    }
   ],
   "source": [
    "#Temperatura\n",
    "def T(t): #en kelvin\n",
    "    return 300\n",
    "\n",
    "#Grafico:\n"
   ]
  },
  {
   "cell_type": "code",
   "execution_count": 54,
   "metadata": {},
   "outputs": [
    {
     "ename": "IndentationError",
     "evalue": "expected an indented block (Temp/ipykernel_5960/3246770229.py, line 6)",
     "output_type": "error",
     "traceback": [
      "\u001b[1;36m  File \u001b[1;32m\"C:\\Users\\lupam\\AppData\\Local\\Temp/ipykernel_5960/3246770229.py\"\u001b[1;36m, line \u001b[1;32m6\u001b[0m\n\u001b[1;33m    def k_qca(j,direction,T):\u001b[0m\n\u001b[1;37m    ^\u001b[0m\n\u001b[1;31mIndentationError\u001b[0m\u001b[1;31m:\u001b[0m expected an indented block\n"
     ]
    }
   ],
   "source": [
    "def k_qca(j,direction,T):\n",
    "    #Constante de la cinética química de la reacción j a temperatura T.\n",
    "    #direction indica si es forward or backwards\n",
    "    #En la tesis de Gabriela esta constante está enflobada en k*T^c*exp(-E/KT)\n",
    "    #El orden en los arrays es el orden de las reacciones en la tesis de Gabriela, salteando las que involucran Nitrógeno\n",
    "    \n",
    "    #Estaría bueno importar todos los datos de un .txt para hacer más sencilla la modificación de los datos en caso de ser necesario.\n",
    "    return 1\n",
    "\n",
    "#Ecuaciones diferenciales\n",
    "def reacciones(t,n):\n",
    "    #A modo gral:\n",
    "    #dn/dt = V*(cambios debido a las reacciones) + n/V dV/dt\n",
    "    #donde V es el volumen de la burbuja y n el nro de partículas de una determinada especie\n",
    "    #Aquí se resumen los \"cambios debido a las reacciones\", es decir, la función f(t,n) presente en la ec. dif de varias variables dC/dt = f(t,n) donde C es la concentración. La expresión se construye en base a las reacciones listadas en la tesis de Gabriela\n",
    "\n",
    "    return 1\n",
    "\n",
    "def ecuaciones_diferenciales(t,n):\n",
    "    \n",
    "    return V(t)*reacciones(t,n) + n/V(t) *dVdt\n",
    "\n",
    "\n"
   ]
  },
  {
   "cell_type": "code",
   "execution_count": 18,
   "metadata": {},
   "outputs": [
    {
     "data": {
      "text/plain": [
       "1.0"
      ]
     },
     "execution_count": 18,
     "metadata": {},
     "output_type": "execute_result"
    }
   ],
   "source": [
    "#Resuelvo el sistema de ec. diff:\n",
    "import scipy\n",
    "from scipy.integrate import solve_ivp\n",
    "\n",
    "sol = solve_ivp(exponential_decay, [0, 1], [2,2])\n",
    "#print(sol.y[1])\n",
    "import matplotlib.pyplot as plt\n",
    "plt.plot(sol.t,sol.y[0])\n",
    "plt.plot(sol.t,sol.y[1])\n",
    "plt.show()\n",
    "print(sol.t)"
   ]
  },
  {
   "cell_type": "code",
   "execution_count": null,
   "metadata": {},
   "outputs": [],
   "source": []
  }
 ],
 "metadata": {
  "kernelspec": {
   "display_name": "Python 3.9.7 ('base')",
   "language": "python",
   "name": "python3"
  },
  "language_info": {
   "codemirror_mode": {
    "name": "ipython",
    "version": 3
   },
   "file_extension": ".py",
   "mimetype": "text/x-python",
   "name": "python",
   "nbconvert_exporter": "python",
   "pygments_lexer": "ipython3",
   "version": "3.9.7"
  },
  "orig_nbformat": 4,
  "vscode": {
   "interpreter": {
    "hash": "ad2bdc8ecc057115af97d19610ffacc2b4e99fae6737bb82f5d7fb13d2f2c186"
   }
  }
 },
 "nbformat": 4,
 "nbformat_minor": 2
}
