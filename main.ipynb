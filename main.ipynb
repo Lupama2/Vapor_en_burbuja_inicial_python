{
 "cells": [
  {
   "cell_type": "code",
   "execution_count": null,
   "metadata": {},
   "outputs": [],
   "source": [
    "#REvisar:\n",
    "\n",
    "#Cosntruir posicion(j)\n",
    "#Dudas sobre las dimensiones de Kappa\n",
    "#Derivar V(t) directamente"
   ]
  },
  {
   "cell_type": "code",
   "execution_count": 32,
   "metadata": {},
   "outputs": [
    {
     "data": {
      "image/png": "[encoded data removed]",
      "text/plain": [
       "<Figure size 432x288 with 1 Axes>"
      ]
     },
     "metadata": {
      "needs_background": "light"
     },
     "output_type": "display_data"
    },
    {
     "name": "stdout",
     "output_type": "stream",
     "text": [
      "[0.         0.05493624 0.59857618 1.        ]\n"
     ]
    }
   ],
   "source": [
    "import scipy\n",
    "from scipy.integrate import solve_ivp\n",
    "\n",
    "def exponential_decay(t, y): return [-0.5 * y[0],0.7 * y[1] + y[0]**5]\n",
    "\n",
    "sol = solve_ivp(exponential_decay, [0, 1], [2,2])\n",
    "#print(sol.y[1])\n",
    "import matplotlib.pyplot as plt\n",
    "plt.plot(sol.t,sol.y[0])\n",
    "plt.plot(sol.t,sol.y[1])\n",
    "plt.show()\n",
    "print(sol.t)"
   ]
  },
  {
   "cell_type": "code",
   "execution_count": 33,
   "metadata": {},
   "outputs": [],
   "source": [
    "import scipy\n",
    "import pandas as pd\n",
    "import numpy as np\n",
    "\n",
    "#Importo parámetros:\n",
    "parametros = pd.read_csv('parametros.csv', delimiter='\\t', header=0)\n",
    "#Para ver la tabla de parametros:\n",
    "#parametros\n",
    "[tmax,R0,Rmax,T0,Tmax,sigmaT] = parametros.number\n",
    "\n",
    "def parameter_functions(tmax,R0,Rmax,T0,Tmax,sigmaT):\n",
    "    #Radio de la burbuja\n",
    "    def R(t): #en centimetros\n",
    "        return 1e-2*( (Rmax-R0)/tmax*t  + R0)\n",
    "\n",
    "    #Volumen de la burbuja:\n",
    "    def V(t): #en cm3\n",
    "        return 4/3 * scipy.pi * R(t)**3\n",
    "\n",
    "    #Derivada\n",
    "    def dVdt(t): #en m3/s\n",
    "        return 4*scipy.pi*(R(t)**2)*(Rmax-R0)/tmax\n",
    "\n",
    "    #Temperatura\n",
    "    def T(t): #en kelvin\n",
    "        mean = 0\n",
    "        return (Tmax-T0)*np.exp(-0.5*((t-mean)/sigmaT)**2) + T0\n",
    "    return R,T,V, dVdt\n",
    "\n",
    "[R, T, V, dVdt] = parameter_functions(tmax,R0,Rmax,T0,Tmax,sigmaT)\n",
    "\n",
    "#Gráfico R(t):\n",
    "# import matplotlib.pyplot as plt\n",
    "# import numpy as np\n",
    "# t_array = np.linspace(0, tmax)\n",
    "# R_array = R(t_array)\n",
    "# plt.plot(t_array,R_array)\n",
    "\n",
    "#Grafico T(t):\n",
    "# import matplotlib.pyplot as plt\n",
    "# import numpy as np\n",
    "# t_array = np.linspace(0, 3*sigmaT)\n",
    "# T_array = T(t_array)\n",
    "# plt.plot(t_array,T_array)\n",
    "\n"
   ]
  },
  {
   "cell_type": "code",
   "execution_count": 34,
   "metadata": {},
   "outputs": [
    {
     "name": "stdout",
     "output_type": "stream",
     "text": [
      "   j  tj          k_fj  c_fj  E_fj_Kb          k_bj  c_bj  E_bj_Kb  DeltaEj\n",
      "0  0   1  1.200000e+17  -1.0        0  3.160000e+19  -1.3    59893      498\n",
      "1  1   1  5.000000e+17  -1.0        0  3.540000e+17  -0.9    51217      428\n",
      "2  2   0  3.870000e+04   2.7     3150  1.790000e+04   2.7     2200       -8\n"
     ]
    }
   ],
   "source": [
    "from asyncore import read\n",
    "import pandas as pd\n",
    "\n",
    "Tabla_reacciones = pd.read_csv('Kappa_qca.csv', delimiter='\\t', header=0)\n",
    "print(Tabla_reacciones)\n",
    "\n",
    "#Reacciones consideradas de la tabla de la tesis de Gabriela Puente\n",
    "reacciones_consideradas = (1,2,3)\n",
    "\n",
    "def position(j):\n",
    "    #Da el nro de fila dentro de la tabla Tabla_reacciones del archivo Kappa_qca.csv en la que se encuentra la reaccion j\n",
    "    return j\n",
    "\n",
    "def Kappa_qca(j,direction,T_):\n",
    "    #Constante de la cinética química de la reacción j a temperatura T.\n",
    "    #direction indica si es forward or backwards\n",
    "    #En la tesis de Gabriela esta constante está enflobada en k*T^c*exp(-E/KT)\n",
    "    #El orden en los arrays es el orden de las reacciones en la tesis de Gabriela, salteando las que involucran Nitrógeno\n",
    "    #Estaría bueno importar todos los datos de un .txt para hacer más sencilla la modificación de los datos en caso de ser necesario.\n",
    "    Tabla = Tabla_reacciones\n",
    "    if direction == 'f':\n",
    "        return Tabla.k_fj[position(j)]*T_**Tabla.c_fj[position(j)]*np.exp(-Tabla.E_fj_Kb[position(j)]/T_)\n",
    "    if direction == 'b':\n",
    "        return Tabla.k_bj[position(j)]*T_**Tabla.c_bj[position(j)]*np.exp(-Tabla.E_bj_Kb[position(j)]/T_)\n",
    "    else:\n",
    "        return 'error'\n"
   ]
  },
  {
   "cell_type": "code",
   "execution_count": 164,
   "metadata": {},
   "outputs": [
    {
     "data": {
      "text/plain": [
       "1.2e+17"
      ]
     },
     "execution_count": 164,
     "metadata": {},
     "output_type": "execute_result"
    }
   ],
   "source": []
  },
  {
   "cell_type": "code",
   "execution_count": 35,
   "metadata": {},
   "outputs": [],
   "source": [
    "import numpy as np\n",
    "\n",
    "\n",
    "\n",
    "#Ecuaciones diferenciales\n",
    "def reacciones(t,n):\n",
    "    #n a priori tiene 5 componentes:\n",
    "    #n = [0, 02, H, OH, H2]\n",
    "\n",
    "    #A modo gral:\n",
    "    #dn/dt = V*(cambios debido a las reacciones) + n/V dV/dt\n",
    "    #donde V es el volumen de la burbuja y n el nro de partículas de una determinada especie\n",
    "    #Aquí se resumen los \"cambios debido a las reacciones\", es decir, la función f(t,n) presente en la ec. dif de varias variables dC/dt = f(t,n) donde C es la concentración. La expresión se construye en base a las reacciones listadas en la tesis de Gabriela\n",
    "    \n",
    "    #Creo el vector de concentraciones para facilitar la nomenclatura.\n",
    "    C = []\n",
    "    for i in range(len(n)):\n",
    "        C = np.append(C,n[i]/V(t))\n",
    "\n",
    "    #Términos asocioados a cada reacción. Hacen referencia a la reacción forward\n",
    "    terminos_reacc = np.zeros(3)\n",
    "    terminos_reacc[0] = -Kappa_qca(0,'f',T(t))*C[0]**2 + Kappa_qca(0,'b',T(t))*C[1]\n",
    "    terminos_reacc[1] = -Kappa_qca(1,'f',T(t))*C[0]*C[2] + Kappa_qca(1,'b',T(t))*C[3]\n",
    "    terminos_reacc[2] = -Kappa_qca(2,'f',T(t))*C[0]*C[4] + Kappa_qca(2,'b',T(t))*C[2]*C[3]\n",
    "\n",
    "    x = np.zeros(5)\n",
    "    #Reacciones: cada renglón hace referencia a una reacción distinta\n",
    "\n",
    "    #0:\n",
    "    x[0] = terminos_reacc[0] + terminos_reacc[1] + terminos_reacc[2]\n",
    "    #02:\n",
    "    x[1] = -terminos_reacc[0] \n",
    "    #H:\n",
    "    x[2] = terminos_reacc[1] - terminos_reacc[2]\n",
    "    #OH: \n",
    "    x[3] = -terminos_reacc[1] - terminos_reacc[2]\n",
    "    #H2\n",
    "    x[4] = terminos_reacc[2]\n",
    "\n",
    "    return x\n",
    "\n",
    "def ecuaciones_diferenciales(t,n):\n",
    "    x = []\n",
    "    reacc_array = reacciones(t,n)\n",
    "    for i in range(len(n)):\n",
    "        x = np.append(x,V(t)*reacc_array[i] + n[i]*dVdt(t)/V(t))\n",
    "    return x\n",
    "\n"
   ]
  },
  {
   "cell_type": "code",
   "execution_count": 37,
   "metadata": {},
   "outputs": [
    {
     "name": "stderr",
     "output_type": "stream",
     "text": [
      "C:\\Users\\lupam\\AppData\\Local\\Temp/ipykernel_15376/2891551747.py:22: RuntimeWarning: overflow encountered in double_scalars\n",
      "  terminos_reacc[0] = -Kappa_qca(0,'f',T(t))*C[0]**2 + Kappa_qca(0,'b',T(t))*C[1]\n",
      "C:\\Users\\lupam\\AppData\\Local\\Temp/ipykernel_15376/2891551747.py:23: RuntimeWarning: overflow encountered in double_scalars\n",
      "  terminos_reacc[1] = -Kappa_qca(1,'f',T(t))*C[0]*C[2] + Kappa_qca(1,'b',T(t))*C[3]\n",
      "C:\\Users\\lupam\\AppData\\Local\\Temp/ipykernel_15376/2891551747.py:24: RuntimeWarning: overflow encountered in double_scalars\n",
      "  terminos_reacc[2] = -Kappa_qca(2,'f',T(t))*C[0]*C[4] + Kappa_qca(2,'b',T(t))*C[2]*C[3]\n",
      "C:\\Users\\lupam\\AppData\\Local\\Temp/ipykernel_15376/2891551747.py:34: RuntimeWarning: invalid value encountered in double_scalars\n",
      "  x[2] = terminos_reacc[1] - terminos_reacc[2]\n"
     ]
    },
    {
     "data": {
      "image/png": "[encoded data removed]",
      "text/plain": [
       "<Figure size 432x288 with 1 Axes>"
      ]
     },
     "metadata": {
      "needs_background": "light"
     },
     "output_type": "display_data"
    },
    {
     "name": "stdout",
     "output_type": "stream",
     "text": [
      "0.0 \t 0.0 \t 10000.0 0.0 0.0 2.0\n",
      "1e-24 \t -1.703975441218108e-45 \t 10000.00000000003 1.703975441218108e-45 1.703975441218108e-45 2.0000000000000058\n",
      "1.0583321164659624e-24 \t -2.574368322042454e-12 \t 10000.000000000031 2.5743683238734304e-12 2.574368321792775e-12 1.9999999999974318\n",
      "1.0583328631170532e-24 \t -5.3459579304384195e-09 \t 10000.000000001246 1.669302320005806e-08 4.1307420449302146e-09 1.9999999895881235\n",
      "1.0583330124472713e-24 \t 2.4501373641278386e-08 \t 9999.99999998922 1.6390574727303256e-08 -1.3691062905805632e-08 1.9999999986502501\n",
      "1.0583331096040915e-24 \t -3.518962365600861e-08 \t 9999.999999990232 -2.5330881465245544e-08 4.498894088356657e-08 1.9999999901709764\n",
      "1.0583332067609117e-24 \t -3.6907392054685616e-07 \t 10000.000000033711 -5.407912701806388e-07 3.353932030563013e-07 2.0000001026990395\n",
      "1.0583332125743273e-24 \t -6.087981479701365e-06 \t 10000.000001154607 -5.387669113799233e-06 4.933405254704241e-06 2.0000002271319355\n",
      "1.0583332127963889e-24 \t -1.2305368919406678e-05 \t 10000.000002522751 -1.0300580895277656e-05 9.782649009809063e-06 2.0000002589659487\n",
      "1.0583332129151878e-24 \t -2.6074468149502337e-05 \t 10000.00000565389 -2.100878933121912e-05 2.0420608823440428e-05 2.0000002940902597\n",
      "1.0583332129544552e-24 \t -4.090059527921074e-05 \t 10000.00000908444 -3.2447272454647937e-05 3.181618492116236e-05 2.0000003155437724\n",
      "1.0583332129937226e-24 \t -9.332737009550257e-05 \t 10000.000021378608 -7.265951794235244e-05 7.194879152021548e-05 2.0000003553632166\n",
      "1.0583332130060789e-24 \t -0.0001553712427915849 \t 10000.000036050695 -0.00012008095432100554 0.00011932057797529004 2.0000003801881783\n",
      "1.0583332130184351e-24 \t -0.00045780865453946666 \t 10000.00010804863 -0.00035062642431338005 0.0003497600539632081 2.0000004331851806\n",
      "1.0583332130208056e-24 \t -0.0007289296542865959 \t 10000.000172804557 -0.0005570372223430707 0.000556125126732025 2.000000456047811\n",
      "1.058333213023176e-24 \t -0.0017834602684738351 \t 10000.000425165172 -0.0013592952427364303 0.0013582951259271667 2.0000005000584102\n",
      "1.0583332130236323e-24 \t -0.0024702799023716337 \t 10000.00058969086 -0.0018816212097793332 0.0018805890711573853 2.0000005160693166\n",
      "1.0583332130240885e-24 \t -0.004016216982468901 \t 10000.000960199037 -0.003057097806926905 0.0030560179755234926 2.0000005399157073\n",
      "1.0583332130243453e-24 \t -0.0061984368279348915 \t 10000.001483411512 -0.0047161476198170765 0.00471502534648037 2.000000561136674\n",
      "1.058333213024602e-24 \t -0.013571624951366549 \t 10000.003251875725 -0.010320947517164964 0.010319749257080986 2.000000599130048\n"
     ]
    }
   ],
   "source": [
    "#Resuelvo el sistema de ec. diff:\n",
    "import scipy\n",
    "from scipy.integrate import solve_ivp\n",
    "\n",
    "sol = solve_ivp(ecuaciones_diferenciales, [0, 1e-22], [0,1e4, 0, 0, 2], method = 'RK45', max_step = 1e-24)\n",
    "#Hay un problema cuando el paso es grande. Entiendo que hay errores durante el método que producen partículas negativas.\n",
    "\n",
    "\n",
    "#print(sol.y[1])\n",
    "import matplotlib.pyplot as plt\n",
    "plt.plot(sol.t,sol.y[0])\n",
    "#plt.plot(sol.t,sol.y[1] + sol.y[0])\n",
    "plt.show()\n",
    "\n",
    "for i in range(20):\n",
    "    print(sol.t[i], \"\\t\",sol.y[0][i], \"\\t\", sol.y[1][i], sol.y[2][i], sol.y[3][i], sol.y[4][i])"
   ]
  },
  {
   "cell_type": "code",
   "execution_count": 14,
   "metadata": {},
   "outputs": [
    {
     "data": {
      "text/plain": [
       "array([ 1.78894682e-35, -1.78894682e-35,  0.00000000e+00, -0.00000000e+00,\n",
       "        0.00000000e+00])"
      ]
     },
     "execution_count": 14,
     "metadata": {},
     "output_type": "execute_result"
    }
   ],
   "source": [
    "reacciones(0,[0,1, 0, 0, 0])"
   ]
  },
  {
   "cell_type": "code",
   "execution_count": 11,
   "metadata": {},
   "outputs": [
    {
     "ename": "IndexError",
     "evalue": "index 2 is out of bounds for axis 0 with size 2",
     "output_type": "error",
     "traceback": [
      "\u001b[1;31m---------------------------------------------------------------------------\u001b[0m",
      "\u001b[1;31mIndexError\u001b[0m                                Traceback (most recent call last)",
      "\u001b[1;32m~\\AppData\\Local\\Temp/ipykernel_12752/1910357150.py\u001b[0m in \u001b[0;36m<module>\u001b[1;34m\u001b[0m\n\u001b[0;32m      1\u001b[0m \u001b[1;32mfor\u001b[0m \u001b[0mi\u001b[0m \u001b[1;32min\u001b[0m \u001b[0mrange\u001b[0m\u001b[1;33m(\u001b[0m\u001b[1;36m20\u001b[0m\u001b[1;33m)\u001b[0m\u001b[1;33m:\u001b[0m\u001b[1;33m\u001b[0m\u001b[1;33m\u001b[0m\u001b[0m\n\u001b[1;32m----> 2\u001b[1;33m     \u001b[0mprint\u001b[0m\u001b[1;33m(\u001b[0m\u001b[0msol\u001b[0m\u001b[1;33m.\u001b[0m\u001b[0mt\u001b[0m\u001b[1;33m[\u001b[0m\u001b[0mi\u001b[0m\u001b[1;33m]\u001b[0m\u001b[1;33m,\u001b[0m \u001b[1;34m\"\\t\"\u001b[0m\u001b[1;33m,\u001b[0m\u001b[0msol\u001b[0m\u001b[1;33m.\u001b[0m\u001b[0my\u001b[0m\u001b[1;33m[\u001b[0m\u001b[1;36m0\u001b[0m\u001b[1;33m]\u001b[0m\u001b[1;33m[\u001b[0m\u001b[0mi\u001b[0m\u001b[1;33m]\u001b[0m\u001b[1;33m,\u001b[0m \u001b[1;34m\"\\t\"\u001b[0m\u001b[1;33m,\u001b[0m \u001b[0msol\u001b[0m\u001b[1;33m.\u001b[0m\u001b[0my\u001b[0m\u001b[1;33m[\u001b[0m\u001b[1;36m1\u001b[0m\u001b[1;33m]\u001b[0m\u001b[1;33m[\u001b[0m\u001b[0mi\u001b[0m\u001b[1;33m]\u001b[0m\u001b[1;33m,\u001b[0m \u001b[1;34m\"\\t\"\u001b[0m\u001b[1;33m,\u001b[0m \u001b[0msol\u001b[0m\u001b[1;33m.\u001b[0m\u001b[0my\u001b[0m\u001b[1;33m[\u001b[0m\u001b[1;36m2\u001b[0m\u001b[1;33m]\u001b[0m\u001b[1;33m[\u001b[0m\u001b[0mi\u001b[0m\u001b[1;33m]\u001b[0m\u001b[1;33m,\u001b[0m\u001b[1;33m)\u001b[0m\u001b[1;33m\u001b[0m\u001b[1;33m\u001b[0m\u001b[0m\n\u001b[0m",
      "\u001b[1;31mIndexError\u001b[0m: index 2 is out of bounds for axis 0 with size 2"
     ]
    }
   ],
   "source": [
    "for i in range(20):\n",
    "    print(sol.t[i], \"\\t\",sol.y[0][i], \"\\t\", sol.y[1][i], \"\\t\", sol.y[2][i],)"
   ]
  },
  {
   "cell_type": "code",
   "execution_count": null,
   "metadata": {},
   "outputs": [],
   "source": []
  }
 ],
 "metadata": {
  "kernelspec": {
   "display_name": "Python 3.9.7 ('base')",
   "language": "python",
   "name": "python3"
  },
  "language_info": {
   "codemirror_mode": {
    "name": "ipython",
    "version": 3
   },
   "file_extension": ".py",
   "mimetype": "text/x-python",
   "name": "python",
   "nbconvert_exporter": "python",
   "pygments_lexer": "ipython3",
   "version": "3.9.7"
  },
  "orig_nbformat": 4,
  "vscode": {
   "interpreter": {
    "hash": "ad2bdc8ecc057115af97d19610ffacc2b4e99fae6737bb82f5d7fb13d2f2c186"
   }
  }
 },
 "nbformat": 4,
 "nbformat_minor": 2
}
