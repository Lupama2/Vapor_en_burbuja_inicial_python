{
 "cells": [
  {
   "cell_type": "code",
   "execution_count": null,
   "metadata": {},
   "outputs": [],
   "source": [
    "#REvisar:\n",
    "\n",
    "#Cosntruir posicion(j)\n",
    "#Dudas sobre las dimensiones de Kappa\n",
    "#Derivar V(t) directamente"
   ]
  },
  {
   "cell_type": "code",
   "execution_count": 63,
   "metadata": {},
   "outputs": [
    {
     "data": {
      "image/png": "[encoded data removed]",
      "text/plain": [
       "<Figure size 432x288 with 1 Axes>"
      ]
     },
     "metadata": {
      "needs_background": "light"
     },
     "output_type": "display_data"
    },
    {
     "name": "stdout",
     "output_type": "stream",
     "text": [
      "[0.         0.05493624 0.59857618 1.        ]\n"
     ]
    }
   ],
   "source": [
    "import scipy\n",
    "from scipy.integrate import solve_ivp\n",
    "\n",
    "def exponential_decay(t, y): return [-0.5 * y[0],0.7 * y[1] + y[0]**5]\n",
    "\n",
    "sol = solve_ivp(exponential_decay, [0, 1], [2,2])\n",
    "#print(sol.y[1])\n",
    "import matplotlib.pyplot as plt\n",
    "plt.plot(sol.t,sol.y[0])\n",
    "plt.plot(sol.t,sol.y[1])\n",
    "plt.show()\n",
    "print(sol.t)"
   ]
  },
  {
   "cell_type": "code",
   "execution_count": 1,
   "metadata": {},
   "outputs": [],
   "source": [
    "import scipy\n",
    "import pandas as pd\n",
    "import numpy as np\n",
    "\n",
    "#Importo parámetros:\n",
    "parametros = pd.read_csv('parametros.csv', delimiter='\\t', header=0)\n",
    "#Para ver la tabla de parametros:\n",
    "#parametros\n",
    "[tmax,R0,Rmax,T0,Tmax,sigmaT] = parametros.number\n",
    "\n",
    "def parameter_functions(tmax,R0,Rmax,T0,Tmax,sigmaT):\n",
    "    #Radio de la burbuja\n",
    "    def R(t): #en metros\n",
    "        return (Rmax-R0)/tmax*t  + R0\n",
    "\n",
    "    #Volumen de la burbuja:\n",
    "    def V(t): #en m3\n",
    "        return 4/3 * scipy.pi * R(t)**3\n",
    "\n",
    "    #Derivada\n",
    "    def dVdt(t): #en m3/s\n",
    "        return 4*scipy.pi*(R(t)**2)*(Rmax-R0)/tmax\n",
    "\n",
    "    #Temperatura\n",
    "    def T(t): #en kelvin\n",
    "        mean = 0\n",
    "        return (Tmax-T0)*np.exp(-0.5*((t-mean)/sigmaT)**2) + T0\n",
    "    return R,T,V, dVdt\n",
    "\n",
    "[R, T, V, dVdt] = parameter_functions(tmax,R0,Rmax,T0,Tmax,sigmaT)\n",
    "\n",
    "#Gráfico R(t):\n",
    "# import matplotlib.pyplot as plt\n",
    "# import numpy as np\n",
    "# t_array = np.linspace(0, tmax)\n",
    "# R_array = R(t_array)\n",
    "# plt.plot(t_array,R_array)\n",
    "\n",
    "#Grafico T(t):\n",
    "# import matplotlib.pyplot as plt\n",
    "# import numpy as np\n",
    "# t_array = np.linspace(0, 3*sigmaT)\n",
    "# T_array = T(t_array)\n",
    "# plt.plot(t_array,T_array)\n",
    "\n"
   ]
  },
  {
   "cell_type": "code",
   "execution_count": 3,
   "metadata": {},
   "outputs": [
    {
     "name": "stdout",
     "output_type": "stream",
     "text": [
      "   j  tj          k_fj  c_fj  E_fj_Kb          k_bj  c_bj  E_bj_Kb  DeltaEj\n",
      "0  0   1  1.200000e+17  -1.0        0  3.160000e+19  -1.3    59893      498\n",
      "1  1   1  5.000000e+17  -1.0        0  3.540000e+17  -0.9    51217      428\n",
      "2  2   0  3.870000e+04   2.7     3150  1.790000e+04   2.7     2200       -8\n"
     ]
    }
   ],
   "source": [
    "from asyncore import read\n",
    "import pandas as pd\n",
    "\n",
    "Tabla_reacciones = pd.read_csv('Kappa_qca.csv', delimiter='\\t', header=0)\n",
    "print(Tabla_reacciones)\n",
    "\n",
    "#Reacciones consideradas de la tabla de la tesis de Gabriela Puente\n",
    "reacciones_consideradas = (1,2,3)\n",
    "\n",
    "def position(j):\n",
    "    #Da el nro de fila dentro de la tabla Tabla_reacciones del archivo Kappa_qca.csv en la que se encuentra la reaccion j\n",
    "    return j\n",
    "\n",
    "def Kappa_qca(j,direction,T_):\n",
    "    #Constante de la cinética química de la reacción j a temperatura T.\n",
    "    #direction indica si es forward or backwards\n",
    "    #En la tesis de Gabriela esta constante está enflobada en k*T^c*exp(-E/KT)\n",
    "    #El orden en los arrays es el orden de las reacciones en la tesis de Gabriela, salteando las que involucran Nitrógeno\n",
    "    #Estaría bueno importar todos los datos de un .txt para hacer más sencilla la modificación de los datos en caso de ser necesario.\n",
    "    Tabla = Tabla_reacciones\n",
    "    if direction == 'f':\n",
    "        return Tabla.k_fj[position(j)]*T_**Tabla.c_fj[position(j)]*np.exp(-Tabla.E_fj_Kb[position(j)]/T_)\n",
    "    if direction == 'b':\n",
    "        return Tabla.k_bj[position(j)]*T_**Tabla.c_bj[position(j)]*np.exp(-Tabla.E_bj_Kb[position(j)]/T_)\n",
    "    else:\n",
    "        return 'error'\n"
   ]
  },
  {
   "cell_type": "code",
   "execution_count": 164,
   "metadata": {},
   "outputs": [
    {
     "data": {
      "text/plain": [
       "1.2e+17"
      ]
     },
     "execution_count": 164,
     "metadata": {},
     "output_type": "execute_result"
    }
   ],
   "source": []
  },
  {
   "cell_type": "code",
   "execution_count": 12,
   "metadata": {},
   "outputs": [
    {
     "name": "stderr",
     "output_type": "stream",
     "text": [
      "C:\\Users\\lupam\\AppData\\Local\\Temp/ipykernel_12752/1443227590.py:28: RuntimeWarning: overflow encountered in double_scalars\n",
      "  terminos_reacc[0] = -Kappa_qca(0,'f',T(t))*C[0]**2 + Kappa_qca(0,'b',T(t))*C[1]\n",
      "C:\\Users\\lupam\\AppData\\Local\\Temp/ipykernel_12752/1443227590.py:29: RuntimeWarning: overflow encountered in double_scalars\n",
      "  terminos_reacc[1] = -Kappa_qca(1,'f',T(t))*C[0]*C[2] + Kappa_qca(1,'b',T(t))*C[3]\n",
      "C:\\Users\\lupam\\AppData\\Local\\Temp/ipykernel_12752/1443227590.py:30: RuntimeWarning: overflow encountered in double_scalars\n",
      "  terminos_reacc[2] = -Kappa_qca(2,'f',T(t))*C[0]*C[4] + Kappa_qca(2,'b',T(t))*C[2]*C[3]\n",
      "C:\\Users\\lupam\\AppData\\Local\\Temp/ipykernel_12752/1443227590.py:30: RuntimeWarning: invalid value encountered in double_scalars\n",
      "  terminos_reacc[2] = -Kappa_qca(2,'f',T(t))*C[0]*C[4] + Kappa_qca(2,'b',T(t))*C[2]*C[3]\n",
      "C:\\Users\\lupam\\AppData\\Local\\Temp/ipykernel_12752/1443227590.py:36: RuntimeWarning: invalid value encountered in double_scalars\n",
      "  x[0] = terminos_reacc[0] + terminos_reacc[1] + terminos_reacc[2]\n"
     ]
    }
   ],
   "source": [
    "import numpy as np\n",
    "\n",
    "\n",
    "\n",
    "#Ecuaciones diferenciales\n",
    "def reacciones(t,n):\n",
    "    #n a priori tiene 5 componentes:\n",
    "    #n = [0, 02, H, OH, H2]\n",
    "\n",
    "    #A modo gral:\n",
    "    #dn/dt = V*(cambios debido a las reacciones) + n/V dV/dt\n",
    "    #donde V es el volumen de la burbuja y n el nro de partículas de una determinada especie\n",
    "    #Aquí se resumen los \"cambios debido a las reacciones\", es decir, la función f(t,n) presente en la ec. dif de varias variables dC/dt = f(t,n) donde C es la concentración. La expresión se construye en base a las reacciones listadas en la tesis de Gabriela\n",
    "    \n",
    "    #Creo el vector de concentraciones para facilitar la nomenclatura.\n",
    "    C = []\n",
    "    for i in range(len(n)):\n",
    "        C = np.append(C,n[i]/V(t))\n",
    "\n",
    "    #Términos asocioados a cada reacción. Hacen referencia a la reacción forward\n",
    "    terminos_reacc = np.zeros(3)\n",
    "    terminos_reacc[0] = -Kappa_qca(0,'f',T(t))*C[0]**2 + Kappa_qca(0,'b',T(t))*C[1]\n",
    "    terminos_reacc[1] = -Kappa_qca(1,'f',T(t))*C[0]*C[2] + Kappa_qca(1,'b',T(t))*C[3]\n",
    "    terminos_reacc[2] = -Kappa_qca(2,'f',T(t))*C[0]*C[4] + Kappa_qca(2,'b',T(t))*C[2]*C[3]\n",
    "\n",
    "    x = np.zeros(5)\n",
    "    #Reacciones: cada renglón hace referencia a una reacción distinta\n",
    "\n",
    "    #0:\n",
    "    x[0] = terminos_reacc[0] + terminos_reacc[1] + terminos_reacc[2]\n",
    "    #02:\n",
    "    x[1] = -terminos_reacc[0] \n",
    "    #H:\n",
    "    x[2] = terminos_reacc[1] - terminos_reacc[2]\n",
    "    #OH: \n",
    "    x[3] = -terminos_reacc[1] - terminos_reacc[2]\n",
    "    #H2\n",
    "    x[4] = terminos_reacc[2]\n",
    "\n",
    "    return x\n",
    "\n",
    "\n",
    "def ecuaciones_diferenciales(t,n):\n",
    "    x = []\n",
    "    for i in range(len(n)):\n",
    "        reacc_array = reacciones(t,n)\n",
    "        x = np.append(x,V(t)*reacc_array[i] + n[i]*dVdt(t)/V(t))\n",
    "    return x\n",
    "\n",
    "#Resuelvo el sistema de ec. diff:\n",
    "import scipy\n",
    "from scipy.integrate import solve_ivp\n",
    "\n",
    "sol = solve_ivp(ecuaciones_diferenciales, [0, 1e-23], [0,1e4, 0, 0, 1e4], method = 'RK45', max_step = 1e-24)\n",
    "#Hay un problema cuando el paso es grande. Entiendo que hay errores durante el método que producen partículas negativas.\n",
    "\n",
    "\n",
    "#print(sol.y[1])\n",
    "import matplotlib.pyplot as plt\n",
    "plt.plot(sol.t,sol.y[0])\n",
    "#plt.plot(sol.t,sol.y[1] + sol.y[0])\n",
    "plt.show()\n",
    "\n",
    "for i in range(20):\n",
    "    print(sol.t[i], \"\\t\",sol.y[0][i], \"\\t\", sol.y[1][i])"
   ]
  },
  {
   "cell_type": "code",
   "execution_count": 114,
   "metadata": {},
   "outputs": [
    {
     "name": "stdout",
     "output_type": "stream",
     "text": [
      "[0.00023945 0.        ]\n"
     ]
    },
    {
     "data": {
      "text/plain": [
       "-95779989901.09923"
      ]
     },
     "execution_count": 114,
     "metadata": {},
     "output_type": "execute_result"
    }
   ],
   "source": [
    "ecuaciones_diferenciales(1,[1,0])"
   ]
  },
  {
   "cell_type": "code",
   "execution_count": 11,
   "metadata": {},
   "outputs": [
    {
     "ename": "IndexError",
     "evalue": "index 2 is out of bounds for axis 0 with size 2",
     "output_type": "error",
     "traceback": [
      "\u001b[1;31m---------------------------------------------------------------------------\u001b[0m",
      "\u001b[1;31mIndexError\u001b[0m                                Traceback (most recent call last)",
      "\u001b[1;32m~\\AppData\\Local\\Temp/ipykernel_12752/1910357150.py\u001b[0m in \u001b[0;36m<module>\u001b[1;34m\u001b[0m\n\u001b[0;32m      1\u001b[0m \u001b[1;32mfor\u001b[0m \u001b[0mi\u001b[0m \u001b[1;32min\u001b[0m \u001b[0mrange\u001b[0m\u001b[1;33m(\u001b[0m\u001b[1;36m20\u001b[0m\u001b[1;33m)\u001b[0m\u001b[1;33m:\u001b[0m\u001b[1;33m\u001b[0m\u001b[1;33m\u001b[0m\u001b[0m\n\u001b[1;32m----> 2\u001b[1;33m     \u001b[0mprint\u001b[0m\u001b[1;33m(\u001b[0m\u001b[0msol\u001b[0m\u001b[1;33m.\u001b[0m\u001b[0mt\u001b[0m\u001b[1;33m[\u001b[0m\u001b[0mi\u001b[0m\u001b[1;33m]\u001b[0m\u001b[1;33m,\u001b[0m \u001b[1;34m\"\\t\"\u001b[0m\u001b[1;33m,\u001b[0m\u001b[0msol\u001b[0m\u001b[1;33m.\u001b[0m\u001b[0my\u001b[0m\u001b[1;33m[\u001b[0m\u001b[1;36m0\u001b[0m\u001b[1;33m]\u001b[0m\u001b[1;33m[\u001b[0m\u001b[0mi\u001b[0m\u001b[1;33m]\u001b[0m\u001b[1;33m,\u001b[0m \u001b[1;34m\"\\t\"\u001b[0m\u001b[1;33m,\u001b[0m \u001b[0msol\u001b[0m\u001b[1;33m.\u001b[0m\u001b[0my\u001b[0m\u001b[1;33m[\u001b[0m\u001b[1;36m1\u001b[0m\u001b[1;33m]\u001b[0m\u001b[1;33m[\u001b[0m\u001b[0mi\u001b[0m\u001b[1;33m]\u001b[0m\u001b[1;33m,\u001b[0m \u001b[1;34m\"\\t\"\u001b[0m\u001b[1;33m,\u001b[0m \u001b[0msol\u001b[0m\u001b[1;33m.\u001b[0m\u001b[0my\u001b[0m\u001b[1;33m[\u001b[0m\u001b[1;36m2\u001b[0m\u001b[1;33m]\u001b[0m\u001b[1;33m[\u001b[0m\u001b[0mi\u001b[0m\u001b[1;33m]\u001b[0m\u001b[1;33m,\u001b[0m\u001b[1;33m)\u001b[0m\u001b[1;33m\u001b[0m\u001b[1;33m\u001b[0m\u001b[0m\n\u001b[0m",
      "\u001b[1;31mIndexError\u001b[0m: index 2 is out of bounds for axis 0 with size 2"
     ]
    }
   ],
   "source": [
    "for i in range(20):\n",
    "    print(sol.t[i], \"\\t\",sol.y[0][i], \"\\t\", sol.y[1][i], \"\\t\", sol.y[2][i],)"
   ]
  },
  {
   "cell_type": "code",
   "execution_count": null,
   "metadata": {},
   "outputs": [],
   "source": []
  }
 ],
 "metadata": {
  "kernelspec": {
   "display_name": "Python 3.9.7 ('base')",
   "language": "python",
   "name": "python3"
  },
  "language_info": {
   "codemirror_mode": {
    "name": "ipython",
    "version": 3
   },
   "file_extension": ".py",
   "mimetype": "text/x-python",
   "name": "python",
   "nbconvert_exporter": "python",
   "pygments_lexer": "ipython3",
   "version": "3.9.7"
  },
  "orig_nbformat": 4,
  "vscode": {
   "interpreter": {
    "hash": "ad2bdc8ecc057115af97d19610ffacc2b4e99fae6737bb82f5d7fb13d2f2c186"
   }
  }
 },
 "nbformat": 4,
 "nbformat_minor": 2
}
