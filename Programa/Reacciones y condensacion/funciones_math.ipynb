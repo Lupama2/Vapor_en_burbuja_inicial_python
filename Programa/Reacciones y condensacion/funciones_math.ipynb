{
 "cells": [
  {
   "cell_type": "markdown",
   "metadata": {},
   "source": [
    "## Funciones matemáticas\n",
    "\n",
    "Aquí se resumen funciones matemáticas necesarias para el problema"
   ]
  },
  {
   "cell_type": "code",
   "execution_count": null,
   "metadata": {},
   "outputs": [],
   "source": [
    "#Importo librerías\n",
    "import math\n",
    "pi = math.pi"
   ]
  },
  {
   "cell_type": "code",
   "execution_count": null,
   "metadata": {},
   "outputs": [],
   "source": [
    "def fact (n):\n",
    "   return math.factorial(n)\n",
    "\n",
    "def erf(omega):\n",
    "#Calcula la función error.\n",
    "\n",
    "#Antes pedía como argumentos (omega, int N) porque usaba N para hacer la aproximación de la integral.\n",
    "# double sum=0.0;\n",
    "# int i;\n",
    "# double valor;\n",
    "\n",
    "# if (fabs(omega)<4){\n",
    "#    for(i=0;i<=N;i++)\n",
    "#       sum=sum+pow(-1.0,i)*pow(omega,2.0*i+1.0)/((2.0*i+1.0)*fact(i));\n",
    "#    valor=2.0/sqrt(3.14159)*sum;\n",
    "# }\n",
    "# else {\n",
    "#    if(omega>=4)\n",
    "#       valor=1.0;\n",
    "#    if(omega<=-4)\n",
    "#       valor=-1.0;\n",
    "# }\n",
    "\n",
    "# return valor;\n",
    "\n",
    "    return math.erf(omega)"
   ]
  },
  {
   "cell_type": "code",
   "execution_count": null,
   "metadata": {},
   "outputs": [],
   "source": [
    "def Vol(R):\n",
    "    #Volumen de una esfera de radio R\n",
    "    return 4/3*pi*R**3\n"
   ]
  }
 ],
 "metadata": {
  "kernelspec": {
   "display_name": "Python 3.10.5 64-bit",
   "language": "python",
   "name": "python3"
  },
  "language_info": {
   "name": "python",
   "version": "3.10.5"
  },
  "orig_nbformat": 4,
  "vscode": {
   "interpreter": {
    "hash": "2a8dfe095fce2b5e88c64a2c3ee084c8e0e0d70b23e7b95b1cfb538be294c5c8"
   }
  }
 },
 "nbformat": 4,
 "nbformat_minor": 2
}
