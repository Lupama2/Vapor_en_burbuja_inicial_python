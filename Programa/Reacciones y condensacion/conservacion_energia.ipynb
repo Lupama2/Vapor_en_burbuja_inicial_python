{
 "cells": [
  {
   "cell_type": "markdown",
   "metadata": {},
   "source": [
    "## Conservación de la energía\n",
    "\n",
    "El objetivo es implementar el módulo de conservación de la energía copiando lo que hace Gabriela en C++\n",
    "\n",
    "Consideraciones:  \n",
    "* En el código de Gabriela el vector y tiene: y[1]-> radio, y[2]-> velocidad, y[3]-> temperatura (T_bc), y[4]-> nh2o, y[5]-> TLi\n",
    "* Uso el modelo de Toegel (modelo 2) solamente para la parte de conductividad térmica"
   ]
  },
  {
   "cell_type": "markdown",
   "metadata": {},
   "source": [
    "### Importo dependencias"
   ]
  },
  {
   "cell_type": "code",
   "execution_count": null,
   "metadata": {},
   "outputs": [],
   "source": [
    "#Importo librerías\n",
    "\n"
   ]
  },
  {
   "cell_type": "code",
   "execution_count": null,
   "metadata": {},
   "outputs": [],
   "source": [
    "#Código necesario para importar funciones de otros notebooks .ipynb\n",
    "\n",
    "import io, os, sys, types\n",
    "from IPython import get_ipython\n",
    "from nbformat import read\n",
    "from IPython.core.interactiveshell import InteractiveShell\n",
    "\n",
    "def find_notebook(fullname, path=None):\n",
    "    \"\"\"find a notebook, given its fully qualified name and an optional path\n",
    "\n",
    "    This turns \"foo.bar\" into \"foo/bar.ipynb\"\n",
    "    and tries turning \"Foo_Bar\" into \"Foo Bar\" if Foo_Bar\n",
    "    does not exist.\n",
    "    \"\"\"\n",
    "    name = fullname.rsplit('.', 1)[-1]\n",
    "    if not path:\n",
    "        path = ['']\n",
    "    for d in path:\n",
    "        nb_path = os.path.join(d, name + \".ipynb\")\n",
    "        if os.path.isfile(nb_path):\n",
    "            return nb_path\n",
    "        # let import Notebook_Name find \"Notebook Name.ipynb\"\n",
    "        nb_path = nb_path.replace(\"_\", \" \")\n",
    "        if os.path.isfile(nb_path):\n",
    "            return nb_path\n",
    "\n",
    "class NotebookLoader(object):\n",
    "    \"\"\"Module Loader for Jupyter Notebooks\"\"\"\n",
    "    def __init__(self, path=None):\n",
    "        self.shell = InteractiveShell.instance()\n",
    "        self.path = path\n",
    "\n",
    "    def load_module(self, fullname):\n",
    "        \"\"\"import a notebook as a module\"\"\"\n",
    "        path = find_notebook(fullname, self.path)\n",
    "\n",
    "        print (\"importing Jupyter notebook from %s\" % path)\n",
    "\n",
    "        # load the notebook object\n",
    "        with io.open(path, 'r', encoding='utf-8') as f:\n",
    "            nb = read(f, 4)\n",
    "\n",
    "\n",
    "        # create the module and add it to sys.modules\n",
    "        # if name in sys.modules:\n",
    "        #    return sys.modules[name]\n",
    "        mod = types.ModuleType(fullname)\n",
    "        mod.__file__ = path\n",
    "        mod.__loader__ = self\n",
    "        mod.__dict__['get_ipython'] = get_ipython\n",
    "        sys.modules[fullname] = mod\n",
    "\n",
    "        # extra work to ensure that magics that would affect the user_ns\n",
    "        # actually affect the notebook module's ns\n",
    "        save_user_ns = self.shell.user_ns\n",
    "        self.shell.user_ns = mod.__dict__\n",
    "\n",
    "        try:\n",
    "          for cell in nb.cells:\n",
    "            if cell.cell_type == 'code':\n",
    "                # transform the input to executable Python\n",
    "                code = self.shell.input_transformer_manager.transform_cell(cell.source)\n",
    "                # run the code in themodule\n",
    "                exec(code, mod.__dict__)\n",
    "        finally:\n",
    "            self.shell.user_ns = save_user_ns\n",
    "        return mod\n",
    "\n",
    "\n",
    "class NotebookFinder(object):\n",
    "    \"\"\"Module finder that locates Jupyter Notebooks\"\"\"\n",
    "    def __init__(self):\n",
    "        self.loaders = {}\n",
    "\n",
    "    def find_module(self, fullname, path=None):\n",
    "        nb_path = find_notebook(fullname, path)\n",
    "        if not nb_path:\n",
    "            return\n",
    "\n",
    "        key = path\n",
    "        if path:\n",
    "            # lists aren't hashable\n",
    "            key = os.path.sep.join(path)\n",
    "\n",
    "        if key not in self.loaders:\n",
    "            self.loaders[key] = NotebookLoader(path)\n",
    "        return self.loaders[key]\n",
    "\n",
    "sys.meta_path.append(NotebookFinder())\n",
    "\n",
    "#Ejemplo\n",
    "# from derivada_reacciones import *"
   ]
  },
  {
   "cell_type": "code",
   "execution_count": null,
   "metadata": {},
   "outputs": [],
   "source": [
    "#Importo notebooks"
   ]
  },
  {
   "cell_type": "markdown",
   "metadata": {},
   "source": [
    "### Funciones"
   ]
  },
  {
   "cell_type": "markdown",
   "metadata": {},
   "source": [
    "### Derivada_temperatura\n"
   ]
  },
  {
   "cell_type": "code",
   "execution_count": 3,
   "metadata": {},
   "outputs": [
    {
     "ename": "ModuleNotFoundError",
     "evalue": "No module named 'parametros'",
     "output_type": "error",
     "traceback": [
      "\u001b[1;31m---------------------------------------------------------------------------\u001b[0m",
      "\u001b[1;31mModuleNotFoundError\u001b[0m                       Traceback (most recent call last)",
      "\u001b[1;32mc:\\Users\\lupam\\OneDrive\\Escritorio\\GitHub\\Vapor_en_burbuja_inicial_python\\Programa\\Reacciones y condensacion\\conservacion_energia.ipynb Celda 8\u001b[0m in \u001b[0;36m<cell line: 1>\u001b[1;34m()\u001b[0m\n\u001b[1;32m----> <a href='vscode-notebook-cell:/c%3A/Users/lupam/OneDrive/Escritorio/GitHub/Vapor_en_burbuja_inicial_python/Programa/Reacciones%20y%20condensacion/conservacion_energia.ipynb#X16sZmlsZQ%3D%3D?line=0'>1</a>\u001b[0m \u001b[39mfrom\u001b[39;00m \u001b[39mparametros\u001b[39;00m \u001b[39mimport\u001b[39;00m alfaM, pvap0, n_species\n\u001b[0;32m      <a href='vscode-notebook-cell:/c%3A/Users/lupam/OneDrive/Escritorio/GitHub/Vapor_en_burbuja_inicial_python/Programa/Reacciones%20y%20condensacion/conservacion_energia.ipynb#X16sZmlsZQ%3D%3D?line=1'>2</a>\u001b[0m \u001b[39mfrom\u001b[39;00m \u001b[39mconductividad_termica\u001b[39;00m \u001b[39mimport\u001b[39;00m Conductividad1, Conductividad2\n\u001b[0;32m      <a href='vscode-notebook-cell:/c%3A/Users/lupam/OneDrive/Escritorio/GitHub/Vapor_en_burbuja_inicial_python/Programa/Reacciones%20y%20condensacion/conservacion_energia.ipynb#X16sZmlsZQ%3D%3D?line=2'>3</a>\u001b[0m \u001b[39mfrom\u001b[39;00m \u001b[39mfunciones_qcas\u001b[39;00m \u001b[39mimport\u001b[39;00m n_tot\n",
      "\u001b[1;31mModuleNotFoundError\u001b[0m: No module named 'parametros'"
     ]
    }
   ],
   "source": [
    "from parametros import alfaM, pvap0, n_species\n",
    "from conductividad_termica import Conductividad1, Conductividad2\n",
    "from funciones_qcas import n_tot\n",
    "import numpy as np\n",
    "\n",
    "import math\n",
    "pi = math.pi"
   ]
  },
  {
   "cell_type": "code",
   "execution_count": null,
   "metadata": {},
   "outputs": [],
   "source": [
    "from parametros import var_termo"
   ]
  },
  {
   "cell_type": "code",
   "execution_count": null,
   "metadata": {},
   "outputs": [],
   "source": [
    "def dkdt(y, n, dndt, dTdt, dT2dt, dntdt):\n",
    "    #Calculo dk1dt y dk2dt y los guardo en las variables dk1dt y dk2dt (son números, no vectores)\n",
    "\n",
    "    #Calculo k1 y k2\n",
    "    k1 = np.zeros(n_species)\n",
    "    k2 = np.zeros(n_species)\n",
    "    Conductividad1(k1)\n",
    "    Conductividad2(k2)\n",
    "\n",
    "    #Calculo dk1dt\n",
    "\n",
    "    #Calculo dk2dt\n",
    "\n",
    "    dk1dt=0.0\n",
    "\n",
    "    ntot = n_tot(n)\n",
    "\n",
    "    T_bc = y[var_termo[\"T_bc\"]]\n",
    "\n",
    "\n",
    "    for i in range(n_species):\n",
    "        dk1dt=dk1dt+k2[i]*n[i]/ntot*dTdt-(k1[i]+k2[i]*T_bc)*n[i]/ntot/ntot*dntdt+(k1[i]+k2[i]*T_bc)*dndt[i]/ntot\n",
    "\n",
    "    dk2dt=0.0\n",
    "\n",
    "    for i in range(n_species):\n",
    "        dk2dt=dk2dt+k2[i]*n[i]/ntot*dT2dt;\n",
    "\n",
    "    return dk1dt, dk2dt\n"
   ]
  },
  {
   "cell_type": "code",
   "execution_count": null,
   "metadata": {},
   "outputs": [],
   "source": [
    "def calcula_dmdt(ntot):\n",
    "    #Calcula dmdt\n",
    "\n",
    "    dmdt=0.0\n",
    "\n",
    "    icont=1;\n",
    "\n",
    "    while(icont<=NumEsp){\n",
    "        dmdt=dmdt+(Masa[icont]*dydt[Nvar2+icont])/ntot/Na;\n",
    "        icont=icont+1;\n",
    "    }\n",
    "\n",
    "    dmdt=dmdt-m/ntot*dntdt;\n",
    "\n",
    "    return dmdt\n",
    "\n",
    "\n",
    "def calcula_dnpdt():\n",
    "    #Calcula dnpdt\n",
    "    dnpdt=dntdt/V-4.0*3.14159*ntot*y[1]*y[1]*y[2]/V/V;\n",
    "    return dnpdt\n",
    "\n",
    "def calcula_dlandadt():\n",
    "    dlandadt= 4.0*3.14159*y[1]*y[1]*y[2]/(sqrt(2.0)*sigmap*ntot)-V/(sqrt(2.0)*sigmap*ntot*ntot)*dntdt;\n",
    "\n",
    "    return dlandadt\n"
   ]
  },
  {
   "cell_type": "code",
   "execution_count": null,
   "metadata": {},
   "outputs": [],
   "source": [
    "def calcula_dlthdt(R, v_R, Xi):\n",
    "   #Calcula dlth1dt y dlth2dt\n",
    "   if(v_R == 0):\n",
    "      dlth1dt=v_R/pi\n",
    "      dlth2dt=0.0\n",
    "   else:\n",
    "      if((R/pi)<(np.sqrt(R*Xi/abs(v_R)))):\n",
    "         dlth1dt=v_R/pi\n",
    "         dlth2dt=0.0\n",
    "      else:\n",
    "         dlth1dt=0.5*np.sqrt(Xi/R/v_R)*v_R\n",
    "         dlth2dt=-0.5*np.sqrt(R*Xi/v_R/v_R/v_R)\n",
    "      \n",
    "   return dlth1dt, dlth2dt"
   ]
  },
  {
   "cell_type": "code",
   "execution_count": null,
   "metadata": {},
   "outputs": [],
   "source": [
    "from parametros import Tinf\n",
    "from conductividad_termica import longitud_termica, Conductividad_termica_k\n",
    "from funciones_qcas import n_gas, n_tot\n",
    "from parametros import ap, alfae, K, rapidez"
   ]
  },
  {
   "cell_type": "code",
   "execution_count": null,
   "metadata": {},
   "outputs": [],
   "source": [
    "def calcula_mpp(y,n, dndt, dTdt, dT2dt, dntdt):\n",
    "   #Calculo mpp1 y mpp2\n",
    "   \n",
    "   if(alfaM==0):\n",
    "      mpp1=0.0\n",
    "      mpp2=0.0\n",
    "   else:\n",
    "      #Asigno las variables termodinámicas\n",
    "      v_R = y[var_termo[\"v_R\"]]\n",
    "      T_bc = y[var_termo[\"T_bc\"]]\n",
    "\n",
    "      #Calculo el nro de partículas no condensable\n",
    "      ngas = n_gas(n)\n",
    "      #Calculo el nro total de partículas\n",
    "      ntot = n_tot(n)\n",
    "\n",
    "      pvap=pvap0\n",
    "      dpvapdt=0.0\n",
    "\n",
    "      #Calculo dk1dt y dk2dt\n",
    "      dk1dt, dk2dt = dkdt(y, n, dndt, dTdt, dT2dt, dntdt)\n",
    "\n",
    "      #Calculo dmdt\n",
    "      dmdt = calcula_dmdt()\n",
    "\n",
    "      #Calculo dnpdt\n",
    "      dnpdt = calcula_dnpdt()\n",
    "\n",
    "      #Calculo dlandadt\n",
    "      dlandadt = calcula_dlandadt()\n",
    "\n",
    "      #Calculo dlth1dt y dlth2dt\n",
    "      dlth1dt, dlth2dt = calcula_dlthdt()\n",
    "\n",
    "\n",
    "      #Uso el modelo 2 (modelo de Toegel):\n",
    "\n",
    "      #Calculo k\n",
    "      k = Conductividad_termica_k(T_bc, n)\n",
    "\n",
    "      #Calculo lth\n",
    "      lth = longitud_termica(y,k,nh2o0, ngas)\n",
    "\n",
    "      dqdTB=0.0\n",
    "      dq1dt=dk1dt*(Tinf-T_bc)/lth-k/lth*dTdt-k/lth/lth*(Tinf-T_bc)*dlth1dt\n",
    "      dq2dt=dk2dt*(Tinf-T_bc)/lth-k/lth*dT2dt-k/lth/lth*(Tinf-T_bc)*dlth2dt\n",
    "\n",
    "      #Termina el uso del modelo 2\n",
    "\n",
    "\n",
    "\n",
    "      dTB1dt=(dydt[5]-(2.0-ap*alfae)/2.0/K/alfae*np.sqrt(pi/2.0/K)*(-1.0/np/np*dnpdt*np.sqrt(m/TB)*qpp+\n",
    "         1.0/2.0/np*np.sqrt(1.0/m/TB)*dmdt*qpp+1.0/np*np.sqrt(m/TB)*dq1dt))/\n",
    "         (1.0+(2.0-ap*alfae)/2.0/K/alfae*np.sqrt(pi/2.0/K)*\n",
    "         (-1.0/2.0/np*np.sqrt(m/TB/TB/TB)*qpp+1.0/np*np.sqrt(m/TB)*dqdTB));\n",
    "\n",
    "      dTB2dt=-(2.0-ap*alfae)/2.0/K/alfae*np.sqrt(pi/2.0/K)/np*np.sqrt(m/TB)*dq2dt/\n",
    "         (1.0+(2.0-ap*alfae)/2.0/K/alfae*np.sqrt(pi/2.0/K)*\n",
    "         (-1.0/2.0/np*np.sqrt(m/TB/TB/TB)*qpp+1.0/np*np.sqrt(m/TB)*dqdTB));\n",
    "\n",
    "      dpv1dt=(1.0-y[Nvar2+6]/ntot)*pg/ntot*dntdt+y[Nvar2+6]/ntot*dpgdt;\n",
    "\n",
    "      dpv2dt=y[Nvar2+6]/ntot*dpg2dt;\n",
    "\n",
    "\n",
    "\n",
    "      if(rapidez ==1):\n",
    "         mpp1=alfaM/np.sqrt(2.0*pi*Rv)*(dpvapdt/np.sqrt(y[5])-0.5*pvap/pow(y[5],1.5)*dydt[5]-\n",
    "         1.0/np.sqrt(TB)*dpv1dt+0.5*pv/pow(TB,1.5)*dTB1dt);\n",
    "\n",
    "         mpp2=alfaM/np.sqrt(2.0*pi*Rv)*(-1.0/np.sqrt(TB)*dpv2dt+0.5*pv/pow(TB,1.5)*dTB2dt);\n",
    "      else:\n",
    "         Omega=mp/pv*np.sqrt(Rv*T_bc/2.0);\n",
    "\n",
    "         Gama=exp(-Omega*Omega)-Omega*np.sqrt(3.14159)*(1.0-erf(Omega,N));\n",
    "\n",
    "         mpp1=alfaM/np.sqrt(2.0*pi*Rv)*(dpvapdt/np.sqrt(y[5])-0.5*pvap/pow(y[5],1.5)*dydt[5]-\n",
    "         mp/pv*(1.0-erf(Omega,N))*dpv1dt*np.sqrt(pi*Rv*T_bc/2.0/TB)+\n",
    "         0.5*mp*(1.0-erf(Omega,N))*np.sqrt(pi*Rv/2.0/TB/T_bc)*dTdt-\n",
    "         Gama/np.sqrt(TB)*dpv1dt+0.5*Gama*pv/pow(TB,1.5)*dTB1dt)/\n",
    "         (1.0-alfaM/2.0*(1.0-erf(Omega,N))*np.sqrt(T_bc/TB));\n",
    "\n",
    "         mpp2=alfaM/np.sqrt(2.0*pi*Rv)*(-mp/pv*(1.0-erf(Omega,N))*dpv2dt*np.sqrt(pi*Rv*T_bc/\n",
    "         2.0/TB)+0.5*mp*(1.0-erf(Omega,N))*np.sqrt(pi*Rv/2.0/TB/T_bc)*dT2dt-\n",
    "         Gama/np.sqrt(TB)*dpv2dt+0.5*Gama*pv/pow(TB,1.5)*dTB2dt)/\n",
    "         (1.0-alfaM/2.0*(1.0-erf(Omega,N))*np.sqrt(T_bc/TB));\n",
    "\n",
    "\n",
    "   return mpp1, mpp2\n",
    "\n",
    "\n",
    "\n",
    "\n",
    "\n",
    "\n",
    "\n"
   ]
  },
  {
   "cell_type": "code",
   "execution_count": null,
   "metadata": {},
   "outputs": [],
   "source": [
    "from parametros import rol, cl, Pinf, sigma, mu, \n",
    "from parametros import var_termo\n",
    "from funciones_qcas import rog"
   ]
  },
  {
   "cell_type": "code",
   "execution_count": 2,
   "metadata": {},
   "outputs": [
    {
     "ename": "NameError",
     "evalue": "name 'y' is not defined",
     "output_type": "error",
     "traceback": [
      "\u001b[1;31m---------------------------------------------------------------------------\u001b[0m",
      "\u001b[1;31mNameError\u001b[0m                                 Traceback (most recent call last)",
      "\u001b[1;32mc:\\Users\\lupam\\OneDrive\\Escritorio\\GitHub\\Vapor_en_burbuja_inicial_python\\Programa\\Reacciones y condensacion\\conservacion_energia.ipynb Celda 9\u001b[0m in \u001b[0;36m<cell line: 3>\u001b[1;34m()\u001b[0m\n\u001b[0;32m      <a href='vscode-notebook-cell:/c%3A/Users/lupam/OneDrive/Escritorio/GitHub/Vapor_en_burbuja_inicial_python/Programa/Reacciones%20y%20condensacion/conservacion_energia.ipynb#X12sZmlsZQ%3D%3D?line=0'>1</a>\u001b[0m ps\u001b[39m=\u001b[39m\u001b[39m0\u001b[39m \u001b[39m#presion acustica\u001b[39;00m\n\u001b[1;32m----> <a href='vscode-notebook-cell:/c%3A/Users/lupam/OneDrive/Escritorio/GitHub/Vapor_en_burbuja_inicial_python/Programa/Reacciones%20y%20condensacion/conservacion_energia.ipynb#X12sZmlsZQ%3D%3D?line=2'>3</a>\u001b[0m mp \u001b[39m=\u001b[39m y[var_termo[\u001b[39m\"\u001b[39m\u001b[39mmp\u001b[39m\u001b[39m\"\u001b[39m]]\n\u001b[0;32m      <a href='vscode-notebook-cell:/c%3A/Users/lupam/OneDrive/Escritorio/GitHub/Vapor_en_burbuja_inicial_python/Programa/Reacciones%20y%20condensacion/conservacion_energia.ipynb#X12sZmlsZQ%3D%3D?line=3'>4</a>\u001b[0m v_R \u001b[39m=\u001b[39m y[var_termo[\u001b[39m\"\u001b[39m\u001b[39mv_R\u001b[39m\u001b[39m\"\u001b[39m]]\n\u001b[0;32m      <a href='vscode-notebook-cell:/c%3A/Users/lupam/OneDrive/Escritorio/GitHub/Vapor_en_burbuja_inicial_python/Programa/Reacciones%20y%20condensacion/conservacion_energia.ipynb#X12sZmlsZQ%3D%3D?line=4'>5</a>\u001b[0m R \u001b[39m=\u001b[39m y[var_termo]\n",
      "\u001b[1;31mNameError\u001b[0m: name 'y' is not defined"
     ]
    }
   ],
   "source": [
    "ps=0 #presion acustica\n",
    "\n",
    "\n",
    "\n",
    "#Calculo mpp1 y mpp2\n",
    "mpp1, mpp2 = calcula_mpp(y,n)\n",
    "\n",
    "\n",
    "\n",
    "def cons_ener_dpB1dt(v_R, R):\n",
    "        rog_ = rog(y)\n",
    "        \n",
    "        return dpgdt+2.0*sigma*v_R/R/R+4.0*mu*v_R/R/R*(v_R-mp/rol)+ 4.0*mu/R/rol*mpp1-2.0*mp*mpp1*(1.0/rol-1.0/rog_)-mp*mp/rog_/rog_*drogdt;\n",
    "\n",
    "def cons_enerdpB2dt(R):\n",
    "        rog_ = rog(y)\n",
    "        return dpg2dt-4.0*mu/R+4.0*mu/R/rol*mpp2-2.0*mp*mpp2*(1.0/rol-1.0/rog_);\n",
    "\n",
    "\n",
    "\n",
    "\n",
    "\n",
    " dydt[4]=dpgdt; ??\n",
    "\n",
    "#Asigno variables termodinámicas\n",
    "mp = y[var_termo[\"mp\"]]\n",
    "v_R = y[var_termo[\"v_R\"]]\n",
    "R = y[var_termo[\"R\"]]\n",
    "\n",
    "\n",
    "\n",
    "dpB1dt = cons_ener_dpB1dt()\n",
    "dpB2dt = cons_enerdpB2dt()\n",
    "\n",
    "dydt[var_termo[\"v_R\"]]=(1.0/rol*(1.0+v_R/cl)*(pB-ps-Pinf)+mp/rol*(v_R+mp/2.0/rol+mp*v_R/2.0/cl/rol)-\n",
    "        3.0/2.0*v_R*v_R*(1.0-1.0/3.0*v_R/cl+2.0*mp/3.0/cl/rol)+R/cl/rol*dpB1dt+\n",
    "        mpp1*R/rol*(1.0-v_R/cl+mp/cl/rol))/(R*(1.0-v_R/cl+mp/cl/rol)-\n",
    "        mpp2*R/rol*(1.0-v_R/cl+mp/cl/rol)-R/cl/rol*dpB2dt);\n"
   ]
  },
  {
   "cell_type": "code",
   "execution_count": null,
   "metadata": {},
   "outputs": [],
   "source": []
  },
  {
   "cell_type": "code",
   "execution_count": null,
   "metadata": {},
   "outputs": [
    {
     "ename": "",
     "evalue": "",
     "output_type": "error",
     "traceback": [
      "\u001b[1;31mLa ejecución de celdas con 'Python 3.10.5 64-bit' requieren el paquete ipykernel.\n",
      "\u001b[1;31mEjecute el siguiente comando para instalar 'ipykernel' en el entorno de Python. comando \n",
      "\u001b[1;31m: 'c:/msys64/mingw64/bin/python.exe -m pip install ipykernel -U --user --force-reinstall'"
     ]
    }
   ],
   "source": [
    "#dydt_v_R: dydt[var_termo[\"v_R\"]]. Valor luego de aplicar la ecuación de evolución de R(t)\n",
    "\n",
    "def derivada_energia(y, n, dydt, dydt_v_R):\n",
    "    dydt[var_termo[\"T_bc\"]] = dTdt+dT2dt*dydt_v_R\n"
   ]
  },
  {
   "cell_type": "code",
   "execution_count": null,
   "metadata": {},
   "outputs": [],
   "source": []
  }
 ],
 "metadata": {
  "kernelspec": {
   "display_name": "Python 3.9.12 ('Maestria')",
   "language": "python",
   "name": "python3"
  },
  "language_info": {
   "codemirror_mode": {
    "name": "ipython",
    "version": 3
   },
   "file_extension": ".py",
   "mimetype": "text/x-python",
   "name": "python",
   "nbconvert_exporter": "python",
   "pygments_lexer": "ipython3",
   "version": "3.9.12"
  },
  "orig_nbformat": 4,
  "vscode": {
   "interpreter": {
    "hash": "cb1dcd6e0b4bfbec9d527d1ab7c6c7d4b743ae11c2e9f2e62e6759bb0aaa74ae"
   }
  }
 },
 "nbformat": 4,
 "nbformat_minor": 2
}
