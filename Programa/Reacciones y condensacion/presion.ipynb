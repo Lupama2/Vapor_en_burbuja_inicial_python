{
 "cells": [
  {
   "cell_type": "markdown",
   "metadata": {},
   "source": [
    "## Presión dentro de la burbuja\n",
    "\n",
    "Calculo la presión dentro de la burbuja"
   ]
  },
  {
   "cell_type": "markdown",
   "metadata": {},
   "source": [
    "### Importo dependencias"
   ]
  },
  {
   "cell_type": "code",
   "execution_count": null,
   "metadata": {},
   "outputs": [],
   "source": [
    "#Código necesario para importar funciones de otros notebooks .ipynb\n",
    "\n",
    "import io, os, sys, types\n",
    "from IPython import get_ipython\n",
    "from nbformat import read\n",
    "from IPython.core.interactiveshell import InteractiveShell\n",
    "\n",
    "def find_notebook(fullname, path=None):\n",
    "    \"\"\"find a notebook, given its fully qualified name and an optional path\n",
    "\n",
    "    This turns \"foo.bar\" into \"foo/bar.ipynb\"\n",
    "    and tries turning \"Foo_Bar\" into \"Foo Bar\" if Foo_Bar\n",
    "    does not exist.\n",
    "    \"\"\"\n",
    "    name = fullname.rsplit('.', 1)[-1]\n",
    "    if not path:\n",
    "        path = ['']\n",
    "    for d in path:\n",
    "        nb_path = os.path.join(d, name + \".ipynb\")\n",
    "        if os.path.isfile(nb_path):\n",
    "            return nb_path\n",
    "        # let import Notebook_Name find \"Notebook Name.ipynb\"\n",
    "        nb_path = nb_path.replace(\"_\", \" \")\n",
    "        if os.path.isfile(nb_path):\n",
    "            return nb_path\n",
    "\n",
    "class NotebookLoader(object):\n",
    "    \"\"\"Module Loader for Jupyter Notebooks\"\"\"\n",
    "    def __init__(self, path=None):\n",
    "        self.shell = InteractiveShell.instance()\n",
    "        self.path = path\n",
    "\n",
    "    def load_module(self, fullname):\n",
    "        \"\"\"import a notebook as a module\"\"\"\n",
    "        path = find_notebook(fullname, self.path)\n",
    "\n",
    "        print (\"importing Jupyter notebook from %s\" % path)\n",
    "\n",
    "        # load the notebook object\n",
    "        with io.open(path, 'r', encoding='utf-8') as f:\n",
    "            nb = read(f, 4)\n",
    "\n",
    "\n",
    "        # create the module and add it to sys.modules\n",
    "        # if name in sys.modules:\n",
    "        #    return sys.modules[name]\n",
    "        mod = types.ModuleType(fullname)\n",
    "        mod.__file__ = path\n",
    "        mod.__loader__ = self\n",
    "        mod.__dict__['get_ipython'] = get_ipython\n",
    "        sys.modules[fullname] = mod\n",
    "\n",
    "        # extra work to ensure that magics that would affect the user_ns\n",
    "        # actually affect the notebook module's ns\n",
    "        save_user_ns = self.shell.user_ns\n",
    "        self.shell.user_ns = mod.__dict__\n",
    "\n",
    "        try:\n",
    "          for cell in nb.cells:\n",
    "            if cell.cell_type == 'code':\n",
    "                # transform the input to executable Python\n",
    "                code = self.shell.input_transformer_manager.transform_cell(cell.source)\n",
    "                # run the code in themodule\n",
    "                exec(code, mod.__dict__)\n",
    "        finally:\n",
    "            self.shell.user_ns = save_user_ns\n",
    "        return mod\n",
    "\n",
    "\n",
    "class NotebookFinder(object):\n",
    "    \"\"\"Module finder that locates Jupyter Notebooks\"\"\"\n",
    "    def __init__(self):\n",
    "        self.loaders = {}\n",
    "\n",
    "    def find_module(self, fullname, path=None):\n",
    "        nb_path = find_notebook(fullname, path)\n",
    "        if not nb_path:\n",
    "            return\n",
    "\n",
    "        key = path\n",
    "        if path:\n",
    "            # lists aren't hashable\n",
    "            key = os.path.sep.join(path)\n",
    "\n",
    "        if key not in self.loaders:\n",
    "            self.loaders[key] = NotebookLoader(path)\n",
    "        return self.loaders[key]\n",
    "\n",
    "sys.meta_path.append(NotebookFinder())\n",
    "\n",
    "#Ejemplo\n",
    "# from derivada_reacciones import *"
   ]
  },
  {
   "cell_type": "code",
   "execution_count": null,
   "metadata": {},
   "outputs": [],
   "source": [
    "#Importo notebooks\n",
    "from funciones_math import Vol\n",
    "from parametros import var_termo, sigma, mu, rol, a_h2o, b_h2o, Na, Rg\n",
    "from funciones_qcas import n_tot"
   ]
  },
  {
   "cell_type": "markdown",
   "metadata": {},
   "source": [
    "### Van-der-Waals"
   ]
  },
  {
   "cell_type": "code",
   "execution_count": null,
   "metadata": {},
   "outputs": [],
   "source": [
    "def ctes_VanderWaals(ngas, nvap, ntot):\n",
    "   #Calculo las ctes de Van de Waals a partir de las ecs 2.2.2.2 y 2.2.2.3\n",
    "   #ngas = ng es la cantidad de partículas de gas no condensable\n",
    "   #nvap = nv es la cantidad de partículas de vapor (h2o)\n",
    "   #ntot = nt es la cantidad de partículas totales.\n",
    "\n",
    "   # a_g = a_Ar\n",
    "   # b_g = b_Ar\n",
    "   # a_v = a_h2o\n",
    "   # b_v = b_h2o\n",
    "   # a_gv = math.sqrt(a_g*a_v) #VW gas-vapor a_{g-v}. Antes se llamaba a_Arh2o\n",
    "   # b_gv = pow(0.5*(pow(b_g,1.0/3.0)+pow(b_v,1.0/3.0)),3.0) #VW gas-vapor b_{g-v}. Antes se llamaba b_Arh2o\n",
    "   # a = a_g*(ngas/ntot)**2 + 2.0*a_gv*(ngas/ntot)*(nvap/ntot)+ a_v*(nvap/ntot)*(nvap/ntot) #const a de VW promediada con la cantidad de particulas\n",
    "   # b = b_g*(ngas/ntot)**2 + 2.0*b_gv*(ngas/ntot)*(nvap/ntot)+ b_v*(nvap/ntot)*(nvap/ntot) #const b de VW promediada con la cantidad de particulas\n",
    "\n",
    "   return a_h2o,b_h2o\n",
    "\n",
    "def volumen_molar(V, ntot):\n",
    "   # Calcula el volumen molar, necesario en el cálculo de la presión del gas empleando la ec. de Van der Waals.\n",
    "   # V es el volumen total\n",
    "   # ntot es el nro total de partículas\n",
    "   # Na es el nro de Avogadro\n",
    "   return V/ntot*Na #volumen molar\n",
    "\n",
    "def volumen_molar_deriv():\n",
    "   # dvdt=-V*Na/(ntot*ntot)*dntdt+4.0*pi*y[1]*y[1]*Na/ntot*y[2];\n",
    "   # //derivada del volumen molar con respecto a t\n",
    "   return 0\n",
    "\n",
    "def ctes_VanderWaals_deriv():\n",
    "   # dadt=-2.0/pow(ntot,3.0)*(a_Ar*ngas*ngas+2.0*a_Arh2o*ngas*y[Nvar2+6]-a_Arh2o*ngas*ntot+\n",
    "   # a_h2o*y[Nvar2+6]*y[Nvar2+6]-a_h2o*y[Nvar2+6]*ntot)*dntdt;\n",
    "   # //derivada respecto del tiempo de la const. a de VW\n",
    "\n",
    "   # dbdt=-2.0/pow(ntot,3.0)*(b_Ar*ngas*ngas+2.0*b_Arh2o*ngas*y[Nvar2+6]-b_Arh2o*ngas*ntot+\n",
    "   # b_h2o*y[Nvar2+6]*y[Nvar2+6]-b_h2o*y[Nvar2+6]*ntot)*dntdt;\n",
    "   # //derivada respecto del tiempo de la const. b de VW\n",
    "\n",
    "   return 0, 0"
   ]
  },
  {
   "cell_type": "markdown",
   "metadata": {},
   "source": [
    "### p_g"
   ]
  },
  {
   "cell_type": "code",
   "execution_count": null,
   "metadata": {},
   "outputs": [],
   "source": [
    "from funciones_qcas import n_gas, n_tot"
   ]
  },
  {
   "cell_type": "code",
   "execution_count": null,
   "metadata": {},
   "outputs": [],
   "source": [
    "def p_g(n, Vol, T_bc):\n",
    "\n",
    "   #Cuentas previas\n",
    "   ngas = n_gas(n) #Nro de partículas de gas no condensable.\n",
    "   n_H2O = n[5]\n",
    "   ntot = n_tot(n)\n",
    "\n",
    "   #Calculo las constantes de Van der Waals:\n",
    "   a,b = ctes_VanderWaals(ngas, n_H2O, ntot)\n",
    "   v = volumen_molar(Vol, ntot) #volumen molar\n",
    "\n",
    "   #Presion del gas calculada a partir de 2.2.2.1 empleando la ec. de Van der Waals.\n",
    "   pg=Rg*T_bc/(v-b)-a/(v*v)\n",
    "   \n",
    "   return pg"
   ]
  },
  {
   "cell_type": "markdown",
   "metadata": {},
   "source": [
    "### p_B"
   ]
  },
  {
   "cell_type": "code",
   "execution_count": null,
   "metadata": {},
   "outputs": [],
   "source": [
    "from funciones_qcas import rog"
   ]
  },
  {
   "cell_type": "code",
   "execution_count": null,
   "metadata": {},
   "outputs": [],
   "source": [
    "def p_B(y, n):\n",
    "    #Presion en la interfase del lado del liquido\n",
    "    #t: tiempo necesario para calcular y(3)\n",
    "    #y: conjunto de variables termodinámicas\n",
    "    #n: número de partículas de cada especia\n",
    "    #n0: número de partículas de cada especia en el estado inicial\n",
    "    #nAr: número de partículas de argón. Necesario para calcular mp, aunque no debería serlo\n",
    "\n",
    "    #Asigno las variables termodinámicas\n",
    "    R = y[var_termo[\"R\"]]\n",
    "    v_R = y[var_termo[\"v_R\"]]\n",
    "    mp = y[var_termo[\"mp\"]]\n",
    "    T_bc = y[var_termo[\"T_bc\"]]\n",
    "    M = y[var_termo[\"m\"]]\n",
    "\n",
    "\n",
    "    #Calculo la presión del gas dentro de la burbuja (pg)\n",
    "    pg = p_g(n, Vol(R), T_bc)\n",
    "\n",
    "    #Calculo la presión pB\n",
    "    pB=pg-2.0*sigma/R-4.0*mu/R*(v_R-mp/rol)-mp*mp*(1.0/rol-1.0/rog(M, R))\n",
    "\n",
    "    return pB"
   ]
  },
  {
   "cell_type": "code",
   "execution_count": null,
   "metadata": {},
   "outputs": [],
   "source": [
    "def dpBdt(y,n):\n",
    "    #Hacer esta cuenta puede llegar a ser muy complicado. Necesito en el camino usar conservación de la energía. Por ahora no lo implemento \n",
    "    return 0"
   ]
  }
 ],
 "metadata": {
  "kernelspec": {
   "display_name": "Python 3.10.5 64-bit",
   "language": "python",
   "name": "python3"
  },
  "language_info": {
   "name": "python",
   "version": "3.10.5"
  },
  "orig_nbformat": 4,
  "vscode": {
   "interpreter": {
    "hash": "2a8dfe095fce2b5e88c64a2c3ee084c8e0e0d70b23e7b95b1cfb538be294c5c8"
   }
  }
 },
 "nbformat": 4,
 "nbformat_minor": 2
}
