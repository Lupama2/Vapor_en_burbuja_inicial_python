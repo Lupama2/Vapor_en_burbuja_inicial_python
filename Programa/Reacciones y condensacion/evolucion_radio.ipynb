{
 "cells": [
  {
   "cell_type": "markdown",
   "metadata": {},
   "source": [
    "## Evolución del radio R(t)\n",
    "\n",
    "Calculo el efecto de la presión p_g debido a las moléculas presentes en el radio (variable termodinámica) empleando la ecuación diferencial 2.2.1.1 de la tesis de Gabriela y lo aprendido en la evolución del radio para el caso de la presión eléctrica. Por lo pronto sólo expreso la presión y su derivada"
   ]
  },
  {
   "cell_type": "markdown",
   "metadata": {},
   "source": [
    "### Importo dependencias"
   ]
  },
  {
   "cell_type": "code",
   "execution_count": 1,
   "metadata": {},
   "outputs": [],
   "source": [
    "#Importo librerías"
   ]
  },
  {
   "cell_type": "code",
   "execution_count": 2,
   "metadata": {},
   "outputs": [],
   "source": [
    "#Código necesario para importar funciones de otros notebooks .ipynb\n",
    "\n",
    "import io, os, sys, types\n",
    "from IPython import get_ipython\n",
    "from nbformat import read\n",
    "from IPython.core.interactiveshell import InteractiveShell\n",
    "\n",
    "def find_notebook(fullname, path=None):\n",
    "    \"\"\"find a notebook, given its fully qualified name and an optional path\n",
    "\n",
    "    This turns \"foo.bar\" into \"foo/bar.ipynb\"\n",
    "    and tries turning \"Foo_Bar\" into \"Foo Bar\" if Foo_Bar\n",
    "    does not exist.\n",
    "    \"\"\"\n",
    "    name = fullname.rsplit('.', 1)[-1]\n",
    "    if not path:\n",
    "        path = ['']\n",
    "    for d in path:\n",
    "        nb_path = os.path.join(d, name + \".ipynb\")\n",
    "        if os.path.isfile(nb_path):\n",
    "            return nb_path\n",
    "        # let import Notebook_Name find \"Notebook Name.ipynb\"\n",
    "        nb_path = nb_path.replace(\"_\", \" \")\n",
    "        if os.path.isfile(nb_path):\n",
    "            return nb_path\n",
    "\n",
    "class NotebookLoader(object):\n",
    "    \"\"\"Module Loader for Jupyter Notebooks\"\"\"\n",
    "    def __init__(self, path=None):\n",
    "        self.shell = InteractiveShell.instance()\n",
    "        self.path = path\n",
    "\n",
    "    def load_module(self, fullname):\n",
    "        \"\"\"import a notebook as a module\"\"\"\n",
    "        path = find_notebook(fullname, self.path)\n",
    "\n",
    "        print (\"importing Jupyter notebook from %s\" % path)\n",
    "\n",
    "        # load the notebook object\n",
    "        with io.open(path, 'r', encoding='utf-8') as f:\n",
    "            nb = read(f, 4)\n",
    "\n",
    "\n",
    "        # create the module and add it to sys.modules\n",
    "        # if name in sys.modules:\n",
    "        #    return sys.modules[name]\n",
    "        mod = types.ModuleType(fullname)\n",
    "        mod.__file__ = path\n",
    "        mod.__loader__ = self\n",
    "        mod.__dict__['get_ipython'] = get_ipython\n",
    "        sys.modules[fullname] = mod\n",
    "\n",
    "        # extra work to ensure that magics that would affect the user_ns\n",
    "        # actually affect the notebook module's ns\n",
    "        save_user_ns = self.shell.user_ns\n",
    "        self.shell.user_ns = mod.__dict__\n",
    "\n",
    "        try:\n",
    "          for cell in nb.cells:\n",
    "            if cell.cell_type == 'code':\n",
    "                # transform the input to executable Python\n",
    "                code = self.shell.input_transformer_manager.transform_cell(cell.source)\n",
    "                # run the code in themodule\n",
    "                exec(code, mod.__dict__)\n",
    "        finally:\n",
    "            self.shell.user_ns = save_user_ns\n",
    "        return mod\n",
    "\n",
    "\n",
    "class NotebookFinder(object):\n",
    "    \"\"\"Module finder that locates Jupyter Notebooks\"\"\"\n",
    "    def __init__(self):\n",
    "        self.loaders = {}\n",
    "\n",
    "    def find_module(self, fullname, path=None):\n",
    "        nb_path = find_notebook(fullname, path)\n",
    "        if not nb_path:\n",
    "            return\n",
    "\n",
    "        key = path\n",
    "        if path:\n",
    "            # lists aren't hashable\n",
    "            key = os.path.sep.join(path)\n",
    "\n",
    "        if key not in self.loaders:\n",
    "            self.loaders[key] = NotebookLoader(path)\n",
    "        return self.loaders[key]\n",
    "\n",
    "sys.meta_path.append(NotebookFinder())\n",
    "\n",
    "#Ejemplo\n",
    "# from derivada_reacciones import *"
   ]
  },
  {
   "cell_type": "code",
   "execution_count": 3,
   "metadata": {},
   "outputs": [
    {
     "name": "stdout",
     "output_type": "stream",
     "text": [
      "importing Jupyter notebook from parametros.ipynb\n",
      "1.673557692882144e-27\n",
      "importing Jupyter notebook from conductividad_termica.ipynb\n",
      "importing Jupyter notebook from funciones_math.ipynb\n",
      "importing Jupyter notebook from funciones_qcas.ipynb\n"
     ]
    }
   ],
   "source": [
    "#Importo notebooks\n",
    "from parametros import Rg, rol, rapidez, mu, sigma, var_termo\n",
    "from conductividad_termica import p_g, calculamp\n",
    "from funciones_math import Vol\n",
    "from funciones_qcas import masa"
   ]
  },
  {
   "cell_type": "markdown",
   "metadata": {},
   "source": [
    "### p_B"
   ]
  },
  {
   "cell_type": "code",
   "execution_count": 4,
   "metadata": {},
   "outputs": [],
   "source": [
    "def p_B(y, n):\n",
    "    #Presion en la interfase del lado del liquido\n",
    "    #t: tiempo necesario para calcular y(3)\n",
    "    #y: conjunto de variables termodinámicas\n",
    "    #n: número de partículas de cada especia\n",
    "    #n0: número de partículas de cada especia en el estado inicial\n",
    "    #nAr: número de partículas de argón. Necesario para calcular mp, aunque no debería serlo\n",
    "\n",
    "    #Asigno las variables termodinámicas\n",
    "    R = y[var_termo[\"R\"]]\n",
    "    v_R = y[var_termo[\"R\"]]\n",
    "    mp = y[var_termo[\"mp\"]]\n",
    "    T_bc = y[var_termo[\"T_bc\"]]\n",
    "\n",
    "    #Calculo la presión del gas dentro de la burbuja (pg)\n",
    "    pg = p_g(n, Vol(R), T_bc)\n",
    "\n",
    "    #Calculo la densidad de la mezcla rog\n",
    "    M = y[var_termo[\"m\"]]\n",
    "    rog=M/Vol(R)\n",
    "\n",
    "    #Calculo la presión pB\n",
    "    pB=pg-2.0*sigma/R-4.0*mu/R*(v_R-mp/rol)-mp*mp*(1.0/rol-1.0/rog)\n",
    "\n",
    "    return pB"
   ]
  },
  {
   "cell_type": "code",
   "execution_count": 5,
   "metadata": {},
   "outputs": [],
   "source": [
    "def dpBdt(y,n):\n",
    "    #Hacer esta cuenta puede llegar a ser muy complicado. Necesito en el camino usar conservación de la energía. Por ahora no lo implemento \n",
    "    return 0"
   ]
  },
  {
   "cell_type": "code",
   "execution_count": 6,
   "metadata": {},
   "outputs": [],
   "source": [
    "from parametros import cl, rol, p_inf"
   ]
  },
  {
   "cell_type": "code",
   "execution_count": 7,
   "metadata": {},
   "outputs": [],
   "source": [
    "def derivada_radio(y,n,dydt):\n",
    "    #Existen 2 opciones: (1) usar la versión simplificada de la ecuación de momento del Bunkin o (2) usar la expresión completa de Gabriela.\n",
    "\n",
    "    # #Asigno variables termodinámicas\n",
    "    # v_R = y[var_termo[\"v_R\"]]\n",
    "    # mp = y[var_termo[\"mp\"]]\n",
    "    \n",
    "    # #Asigno valores de ctes\n",
    "    # rho_L_i = rol\n",
    "\n",
    "    # term1 = -(3/2)*v_R**2*(1 - v_R/(3*cl) + 2*mp/(3*cl*rho_L_i))\n",
    "    # term2 = (1/rho_L_i)*(1 + v_R/cl)*(p_B(R,T_e_, q_e_, R0_) - p_inf)\n",
    "    # term3 = (mpp(t)*R/rho_L_i)*(1 - v_R/cl + mp/(cl*rho_L_i))\n",
    "    # term4 = (mp/rho_L_i)*(v_R - mp/(2*rho_L_i) + mp*v_R/(2*cl*rho_L_i))\n",
    "    # term5 = (R/cl*rho_L_inf)*dpBdt(R, v_R,T_e_, q_e_, R0_)\n",
    "    # dydt_1 = (1/(R*(1 - v_R/cl + mp/(cl*rho_L_i))     ))*(term1 + term2 + term3 + term4 + term5)\n",
    "\n",
    "    #Opto por (1):\n",
    "    #Sistema de ecuaciones de primer orden para la evolución del radio en función del tiempo.\n",
    "\n",
    "    #Asigno variables termodinámicas\n",
    "    R = y[var_termo[\"R\"]]\n",
    "    v_R = y[var_termo[\"v_R\"]]\n",
    "    \n",
    "    #Asigno valores de ctes\n",
    "    rho_L = rol\n",
    "\n",
    "    #Expreso dydt_0 = dR/dt = v_R\n",
    "    dydt[var_termo[\"R\"]] = v_R\n",
    "\n",
    "    #Expreso dydt_2 = d(v_R/dt) = d2(R)/dt2\n",
    "    dydt[var_termo[\"v_R\"]] = ((p_B(y, n)-p_inf)/rho_L - 3/2*v_R**2)/R\n",
    "\n",
    "    return\n"
   ]
  }
 ],
 "metadata": {
  "kernelspec": {
   "display_name": "Python 3.9.12 ('Maestria')",
   "language": "python",
   "name": "python3"
  },
  "language_info": {
   "codemirror_mode": {
    "name": "ipython",
    "version": 3
   },
   "file_extension": ".py",
   "mimetype": "text/x-python",
   "name": "python",
   "nbconvert_exporter": "python",
   "pygments_lexer": "ipython3",
   "version": "3.9.12"
  },
  "orig_nbformat": 4,
  "vscode": {
   "interpreter": {
    "hash": "cb1dcd6e0b4bfbec9d527d1ab7c6c7d4b743ae11c2e9f2e62e6759bb0aaa74ae"
   }
  }
 },
 "nbformat": 4,
 "nbformat_minor": 2
}
