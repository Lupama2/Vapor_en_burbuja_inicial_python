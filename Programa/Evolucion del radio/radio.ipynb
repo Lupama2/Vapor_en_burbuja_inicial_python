{
 "cells": [
  {
   "cell_type": "markdown",
   "metadata": {},
   "source": [
    "## R(t)\n",
    "\n",
    "Busco reproducir numéricamente algunas cuentas del paper de Bunkin 1993. El objetivo es conocer cómo se comporta la presión y el radio en función del tiempo tanto para la evolución de un solo bubston como la evolución de la burbuja formada por un conjunto de bubstons.\n",
    "\n",
    "\n",
    "\n",
    "Calculo el radio en función del tiempo usando la ecuación 2.2.1.1 de la tesis de Gabriela  \n",
    "1. A través del cambio de variables R = R, v_R = R', transformo la ecuación diferencial de orden 2 en dos ecuaciones diferenciales de orden 1\n",
    "2. Me armo el sistema dy/dt = f(y,t) donde y = (R, v_R) y resuelvo la ecuación numéricamente\n",
    "(El desarrollo de las ecuaciones está en el cuadernillo)\n",
    "\n",
    "Comentarios:  \n",
    "* La dependencia de la presión de la burbuja p_B está dada por la presión eléctrica p_e del paper de Bunkin\n",
    "* La dependencia de la masa m(t) se asume conocida pero realmente habría que estimarla usando el problema de reacciones + condensación o, mejor dicho, resolviendo todo autoconsistentemente.\n",
    "* Las fórmulas del paper están en el sistema CGS, así que expreso todo en esas unidades\n",
    "\n",
    "DUDAS:\n",
    "* Estoy considerando rho_L_inf = rho_L_i, está bien?\n",
    "* Estoy tomando x_max = 6 (aproximación del paper antes de la ec. (18)), está bien?\n",
    "* rho_Bunkin = rho_L_inf  o rho_L_i ? Estoy considerando a priori lo primero, está bien?\n",
    "* u0 (mu) da igual que a lo que da la ec. 19a (19b)? Sí, da lo mismo. u0 da ligeramente distinto pero creo que puede deberse a que estoy tomando una densidad distinta.\n",
    "* Estoy asumiendo que las ecuaciones de Bunkin están en el sistema MKS y por lo tanto los parámetros del problema están en MKS\n",
    "* Verificar si T_e = Delta/3 siempre o cambia durante la evolución\n",
    "* R0 = 1e-6 \n",
    "* v_R0 = 0? condición inicial\n",
    "* En la solución numérica se asumió que el problema no es stiff\n",
    "* a_i = 2e-5 para nuestro problema? radio del electrolito\n",
    "* l = 2*a_i #aproximación hecha en el Bunkin"
   ]
  },
  {
   "cell_type": "code",
   "execution_count": 1,
   "metadata": {},
   "outputs": [],
   "source": [
    "#Importo librerías\n",
    "import numpy as np\n",
    "import matplotlib.pyplot as plt\n",
    "from scipy.integrate import solve_ivp\n",
    "\n",
    "from math import pi"
   ]
  },
  {
   "cell_type": "markdown",
   "metadata": {},
   "source": [
    "### Parámetros del problema general\n",
    "en sistema de unidades CGS:\n",
    "https://es.wikipedia.org/wiki/Sistema_Cegesimal_de_Unidades"
   ]
  },
  {
   "cell_type": "code",
   "execution_count": 2,
   "metadata": {},
   "outputs": [],
   "source": [
    "#En CGS:\n",
    "#Parámetros de la ecuación diferencial\n",
    "p_inf = 0.925 #Presión ambiente en el infinito en [atm]. Son 0.925 atm correspondientes a Bariloche. \n",
    "p_inf = p_inf*(101325)*(1/0.1) #en [baria] (CGS). Conversión: (atm)(101325 Pa/atm)(baria/ 0.1 Pa)\n",
    "c_L = 1415.1 #velocidad del sonido del líquido en [m/s] para agua D2O a Tinf=35+273.15. Lo copié del código de Gabriela.\n",
    "c_L = c_L*100 #en [cm/s] (CGS). Conversión (m/s)*(100 cm/m)\n",
    "rho_L_i = 1101.8 #densidad del líquido en la superficie de la burbuja en [kg/m3] para agua D2O a Tinf=35+273.15. Lo copié del código de Gabriela. \n",
    "rho_L_i = rho_L_i*(1/100)**3*(1000) #en [g/cm3] (CGS). Conversión (kg/m3)*(1m/100cm)^3*(1000g/1Kg)\n",
    "rho_L_inf = rho_L_i #densidad del líquido en el infinito. A priori considero rho_L_inf = rho_L_i\n",
    "\n",
    "#Parámetros de la presión eléctrica p_e\n",
    "\n",
    "#En CGS:\n",
    "#Condiciones iniciales de la ecuación diferencial\n",
    "Delta = 6 #Energía mecánica para arrancar un electrón de la pared en [eV]\n",
    "T_e = Delta/3 #Temperatura de los electrones dentro de la burbuja en [eV]. Conversión: (ev)*()\n",
    "T_e = T_e*(1.602176565e-19)*(1/1e-7) #en [erg] (CGS). Conversión (1ev)(1.602176565e-19J/1ev)*(1erg/1e-7 J)\n",
    "\n",
    "x_max = 6 #Esto es una aproximación considerada en el paper antes de la ec. (18)\n",
    "q_e = -1.602176634e-19 #carga del electrón en [Coulomb]\n",
    "q_e = q_e*(1/3.336641e-10) #en [Fr] (CGS). Conversión (C)*(Fr/3.336641e-10 C)\n",
    "\n",
    "R0 = 1e-6 #Radio inicial de un bubston en [cm]. Este valor lo saqué del supuesto inicial del Bunkin\n",
    "\n",
    "rho_Bunkin = rho_L_inf #densidad del líquido\n"
   ]
  },
  {
   "cell_type": "markdown",
   "metadata": {},
   "source": [
    "### Desarrollo de la avalancha de electrones\n",
    "\n",
    "Durante este breve proceso (de alrededor de 6e-11 s) el nro de electrones alcanza su valor máximo. Verifico el comportamiento de x y expreso la presión eléctrica"
   ]
  },
  {
   "cell_type": "code",
   "execution_count": 6,
   "metadata": {},
   "outputs": [
    {
     "data": {
      "text/plain": [
       "5.878449643520933"
      ]
     },
     "execution_count": 6,
     "metadata": {},
     "output_type": "execute_result"
    }
   ],
   "source": [
    "#Verifico la aproximación x \\approx 6 antes de (18)\n",
    "\n",
    "def T_e_bubs(R):\n",
    "    #Calcula la temperatura de los electrones en función del radio\n",
    "    return T_e\n",
    "\n",
    "def n_e_max_mean(T_e,R0):\n",
    "    #Calcula la densidad media máxima a partir de la expresión (11)\n",
    "    return (16/3)*T_e**2/(pi*q_e**4*R0)\n",
    "\n",
    "def Ne_max(T_e,R0):\n",
    "    #Calcula el nro máximo de electrones en un bubston a partir de la expresión siguiente a la (11)\n",
    "    return n_e_max_mean(T_e, R0)*4/3*pi*R0**3\n",
    "\n",
    "from scipy.optimize import fsolve\n",
    "\n",
    "#Defino la expresión (9) cuya solución es x\n",
    "\n",
    "def x(T_e, R0, Ne):\n",
    "\n",
    "    def ec_9(x):\n",
    "        #Expresión (9) del paper de Bunkin tal que está igualada a cero\n",
    "        return np.log(3*Ne*q_e**2/(T_e*R0)) + np.log(1/(1-1/x)) - x\n",
    "\n",
    "    return fsolve(ec_9, 2)[0]\n",
    "\n",
    "x(T_e, R0, Ne_max(T_e, R0))\n",
    "\n",
    "#La solución es aproximadamente 6"
   ]
  },
  {
   "cell_type": "code",
   "execution_count": null,
   "metadata": {},
   "outputs": [],
   "source": [
    "\n",
    "\n",
    "# def p_e(T_e, R0, Ne):\n",
    "#     #Presión de electrones a partir de la expresión (17) del paper de Bunkin\n",
    "#     x = x(T_e, R0, Ne)\n",
    "\n",
    "#     ne_mean = \n",
    "#     T_e\n",
    "\n",
    "#     return 0"
   ]
  },
  {
   "cell_type": "markdown",
   "metadata": {},
   "source": [
    "### Coalescencia de los bubston (evolución temporal de un único bubston)\n",
    "\n",
    "\n",
    "Durante este proceso el bubston crece en tamaño hasta tocar a otros bubstons. Este proceso se enmarca en el régimen llamado \"régimen de autoconsistencia\" en el cual la temperatura depende del Radio y, por lo tanto, tengo que calcular x radio a radio"
   ]
  },
  {
   "cell_type": "code",
   "execution_count": 21,
   "metadata": {},
   "outputs": [],
   "source": [
    "#Bajo este régimen\n",
    "\n",
    "# def T_e_bubs(R):\n",
    "#     #Calcula la temperatura de los electrones en función del radio\n",
    "#     return T_e\n",
    "\n",
    "def n_e_max_mean(T_e,q_e, R0):\n",
    "    #Calcula la densidad media máxima a partir de la expresión (11)\n",
    "    return (16/3)*T_e**2/(pi*q_e**4*R0)\n",
    "\n",
    "def u0(T_e, q_e, R0):\n",
    "    #Calculo u0 a partir de expresión (19a) del paper de Bunkin\n",
    "    return np.sqrt( (2*x_max/9)*n_e_max_mean(T_e, q_e, R0)*T_e/rho_Bunkin )\n",
    "\n",
    "def mu(T_e, q_e, R0):\n",
    "    #Calculo mu a partir de expresión (19b) del paper de Bunkin\n",
    "    return (8/(3*x_max))*((x_max-1)/x_max)**2*(T_e*R0/q_e**2)"
   ]
  },
  {
   "cell_type": "code",
   "execution_count": 5,
   "metadata": {},
   "outputs": [
    {
     "name": "stdout",
     "output_type": "stream",
     "text": [
      "n_e_max_mean =  <function n_e_max_mean at 0x0000020D9C4F2F70>\n",
      "u0 =  <function u0 at 0x0000020DBB87E550>\n",
      "mu =  <function mu at 0x0000020DBD348670>\n"
     ]
    }
   ],
   "source": [
    "#Verifico si obtengo los mismos valores\n",
    "print(\"n_e_max_mean = \", n_e_max_mean)\n",
    "print(\"u0 = \", u0)\n",
    "print(\"mu = \", mu)"
   ]
  },
  {
   "cell_type": "markdown",
   "metadata": {},
   "source": [
    "### Funciones de presión y masa"
   ]
  },
  {
   "cell_type": "code",
   "execution_count": 22,
   "metadata": {},
   "outputs": [],
   "source": [
    "#Defino la función de masa y sus derivadas\n",
    "\n",
    "#Asumo que a t = 0 hay N_H2O_0 partículas de agua vapor (es indistinto que sea vapor o líquido)\n",
    "Na = 6.02214076e23 #Nro de Avogadro\n",
    "m_H2O = 18/Na #Masa de una molécula de agua en [g]\n",
    "N_H2O_0 = 1e3 #Nro de partículas de agua iniciales\n",
    "m0 = N_H2O_0*m_H2O #Masa inicial\n",
    "\n",
    "def m(t):\n",
    "    # Dependencia de la masa en [g] en función del tiempo. \n",
    "    # A priori se asume que es conocida e igual a parábola de coeficientes alpha y m0 arbitrarios\n",
    "    # Realmente habría que estimarla usando el problema reacciones + condensación o, mejor dicho, resolviendo todo autoconsistentemente\n",
    "    #Asumo que a t=0 la masa es m0 y a t=100 mu s la masa es 10*m0:\n",
    "    alpha = 9*m0/(100e-6)**2\n",
    "    return alpha*t**2 + m0\n",
    "\n",
    "def mp(t):\n",
    "    #Derivada de la masa en función del tiempo\n",
    "    alpha = 9*m0/(100e-6)**2\n",
    "    return 2*alpha*t\n",
    "\n",
    "def mpp(t):\n",
    "    #Segunda derivada de la masa en función del tiempo\n",
    "    alpha = 9*m0/(100e-6)**2\n",
    "    return 2*alpha"
   ]
  },
  {
   "cell_type": "code",
   "execution_count": 23,
   "metadata": {},
   "outputs": [
    {
     "data": {
      "image/png": "[encoded data removed]",
      "text/plain": [
       "<Figure size 432x288 with 1 Axes>"
      ]
     },
     "metadata": {
      "needs_background": "light"
     },
     "output_type": "display_data"
    }
   ],
   "source": [
    "#Grafico m(t)\n",
    "t = np.linspace(0, 100e-6, 1000)\n",
    "plt.plot(t, m(t));"
   ]
  },
  {
   "cell_type": "code",
   "execution_count": 24,
   "metadata": {},
   "outputs": [],
   "source": [
    "#Presión eléctrica del paper de Bunkin\n",
    "def p_e(R, T_e, q_e, R0):\n",
    "    #Presión eléctrica en [baria] (CGS) del paper de Bunkin ec. (24)\n",
    "    #R: radio del bubston en cm\n",
    "    return rho_Bunkin*u0(T_e, q_e, R0)**2*(1 + 2*mu(T_e, q_e, R0))*(R0/R)**4\n",
    "\n",
    "def dpdt_e(R, v_R, T_e, q_e, R0):\n",
    "    #Derivada de la presión eléctrica respecto a t en [baria/s] del paper de Bunkin\n",
    "    #R: radio del bubston en cm\n",
    "    dpdR_e = rho_Bunkin*u0(T_e, q_e, R0)**2*(1 + 2*mu(T_e, q_e, R0))*(-4/R0)*(R0/R)**5 #Derivada respecto al radio\n",
    "    dpdt_e = dpdR_e*v_R #Derivada respecto al tiempo\n",
    "    return dpdt_e"
   ]
  },
  {
   "cell_type": "code",
   "execution_count": 25,
   "metadata": {},
   "outputs": [],
   "source": [
    "#Presión de las partículas de gas asumiendo comportamiento ideal (MODELO FENOMENOLOGICO)\n",
    "\n",
    "def V(R):\n",
    "    #Volumen de una esfera de radio R\n",
    "    return (4/3)*pi*R**3\n",
    "\n",
    "def dVdR(R):\n",
    "    #Derivada del volumen de una esfera de radio R respecto a su radio\n",
    "    return 4*pi*R**2\n",
    "\n",
    "def p_GI(R):\n",
    "    #Presión de las partículas de gas asumiendo comportamiento ideal en [baria] (CGS). Asumo que la temperatura corresponde a la del líquido en el infinito\n",
    "    \n",
    "    Tinf=35+273.15 #Esto lo usamos para calcular rho_L_i\n",
    "\n",
    "    m_H20 = 18/Na #Masa de una partícula de H20 en [g]. Está en g porque m(R) también lo está\n",
    "    N = m(R)/m_H20 #Nro de partículas\n",
    "\n",
    "    K_B = 1.380649e-23 #cte de Boltzmann en [J/K]\n",
    "    K_B = K_B/1e-7 #en [ergio/K]. Conversión: (J/K)*(1erg/10−7J)\n",
    "\n",
    "    P = N * K_B * Tinf / V(R)\n",
    "    return 0\n",
    "    return P\n",
    "\n",
    "def dpdt_GI(R, v_R):\n",
    "    #Derivada de la presión del gas respecto al tiempo en [baria/s] (CGS)\n",
    "    dpdR_GI = -p_GI(R)/V(R)*dVdR(R) #Derivada respecto al radio\n",
    "    dpdt_GI = dpdR_GI*v_R #Derivada respecto al tiempo\n",
    "    return 0\n",
    "    return dpdt_GI\n"
   ]
  },
  {
   "cell_type": "code",
   "execution_count": 26,
   "metadata": {},
   "outputs": [],
   "source": [
    "#Defino funciones de presión\n",
    "\n",
    "def p_B(R,T_e, q_e, R0):\n",
    "    #Presión de la burbuja. Se considera que es igual a la presión de eléctrica p_e del paper de Bunkin más una presión de GI. El objetivo de esta presión es verificar si tienen o no efecto las moléculas dentro del bubston.\n",
    "    return p_e(R,T_e, q_e, R0) + p_GI(R)\n",
    "\n",
    "def dpBdt(R, v_R,T_e, q_e, R0):\n",
    "    #Derivada de la presión de la burbuja\n",
    "    return dpdt_e(R, v_R,T_e, q_e, R0) + dpdt_GI(R, v_R)\n"
   ]
  },
  {
   "cell_type": "markdown",
   "metadata": {},
   "source": [
    "### Sistema de ecuaciones diferenciales"
   ]
  },
  {
   "cell_type": "code",
   "execution_count": 27,
   "metadata": {},
   "outputs": [],
   "source": [
    "#Defino el sistema de ecuaciones de primer orden\n",
    "\n",
    "def dydt(t,y):\n",
    "    #Sistema de ecuaciones de primer orden para la evolución del radio en función del tiempo. Entiéndase y = (R, Rp) = (R, v_R)\n",
    "    v_R = y[1]\n",
    "    R = y[0]\n",
    "\n",
    "    #Defino las ctes del sistema\n",
    "    T_e_ = T_e\n",
    "    q_e_ = q_e\n",
    "    R0_ = R0\n",
    "\n",
    "    #Defino los términos de la ecuación diferencial de R(t). Genéricamente coloco como inputs mp, mpp, R y v_R aunque no haya tal dependencia\n",
    "    #Los términos se encuentran definidos en mi cuadernillo\n",
    "\n",
    "    #Expreso dydt_0 = dR/dt = v_R\n",
    "    dydt_0 = v_R\n",
    "\n",
    "    #Para dydt_2 = d(v_R/dt) = d2(R)/dt2 hay 2 posibilidades\n",
    "    #(1) usar la ecuación diferencial de la tesis de Gabriela\n",
    "    #(2) usar la ecuación diferencial del paper de Bunkin que es una aproximación de la ecuación diferencial de Gabriela\n",
    "\n",
    "\n",
    "    #(1)\n",
    "    # term1 = -(3/2)*v_R**2*(1 - v_R/(3*c_L) + 2*mp(t)/(3*c_L*rho_L_i))\n",
    "    # term2 = (1/rho_L_i)*(1 + v_R/c_L)*(p_B(R,T_e_, q_e_, R0_) - p_inf)\n",
    "    # term3 = (mpp(t)*R/rho_L_i)*(1 - v_R/c_L + mp(t)/(c_L*rho_L_i))\n",
    "    # term4 = (mp(t)/rho_L_i)*(v_R - mp(t)/(2*rho_L_i) + mp(t)*v_R/(2*c_L*rho_L_i))\n",
    "    # term5 = (R/c_L*rho_L_inf)*dpBdt(R, v_R,T_e_, q_e_, R0_)\n",
    "    # dydt_1 = (1/(R*(1 - v_R/c_L + mp(t)/(c_L*rho_L_i))     ))*(term1 + term2 + term3 + term4 + term5)\n",
    "\n",
    "    #(2)\n",
    "    dydt_1 = (p_B(R,T_e_, q_e_, R0_)/(rho_L_i) - 3/2*v_R**2)/R\n",
    "\n",
    "    \n",
    "    return [dydt_0, dydt_1]\n"
   ]
  },
  {
   "cell_type": "markdown",
   "metadata": {},
   "source": [
    "### Solución numérica"
   ]
  },
  {
   "cell_type": "code",
   "execution_count": 28,
   "metadata": {},
   "outputs": [],
   "source": [
    "#Resuelvo el sistema dy/dt usando solve_ivp\n",
    "t_ini = 0\n",
    "t_max = 70e-9 #70 ns\n",
    "y_ini = [R0, 0] #Condición inicial\n",
    "rtol = 1e-12 #tolerancia relativa para el método numérico\n",
    "sol = solve_ivp(dydt, [t_ini, t_max], y_ini, method = \"DOP853\", rtol = rtol, atol = rtol)\n",
    "#asumo que el problema no es stiff\n"
   ]
  },
  {
   "cell_type": "code",
   "execution_count": 29,
   "metadata": {},
   "outputs": [
    {
     "name": "stdout",
     "output_type": "stream",
     "text": [
      "  message: 'The solver successfully reached the end of the integration interval.'\n",
      "     nfev: 1886\n",
      "     njev: 0\n",
      "      nlu: 0\n",
      "      sol: None\n",
      "   status: 0\n",
      "  success: True\n",
      "        t: array([0.00000000e+00, 8.21086416e-23, 9.03195058e-22, 9.11405922e-21,\n",
      "       8.95575020e-20, 6.93558594e-19, 3.23710135e-18, 1.23359087e-17,\n",
      "       3.91533481e-17, 1.36267984e-16, 3.63704180e-16, 1.05955518e-15,\n",
      "       2.89676787e-15, 9.37484101e-15, 3.91616684e-14, 2.57956183e-13,\n",
      "       6.79308586e-13, 1.08600943e-12, 1.48694222e-12, 1.89609638e-12,\n",
      "       2.32233843e-12, 2.77587896e-12, 3.27296176e-12, 3.84950512e-12,\n",
      "       4.50657597e-12, 5.05147823e-12, 5.48505516e-12, 5.91863209e-12,\n",
      "       6.41408780e-12, 6.99311966e-12, 7.65001238e-12, 8.40742253e-12,\n",
      "       9.32453008e-12, 1.06752740e-11, 1.17730574e-11, 1.28708409e-11,\n",
      "       1.39683304e-11, 1.50930637e-11, 1.62612111e-11, 1.74841972e-11,\n",
      "       1.87715457e-11, 2.01318387e-11, 2.15729855e-11, 2.31019791e-11,\n",
      "       2.47239042e-11, 2.64392348e-11, 2.82359208e-11, 2.96773256e-11,\n",
      "       3.10058621e-11, 3.31456485e-11, 3.57807602e-11, 3.91692965e-11,\n",
      "       4.42842501e-11, 4.95326946e-11, 5.42771047e-11, 5.91460752e-11,\n",
      "       6.42466810e-11, 6.96384415e-11, 7.53663701e-11, 8.14702522e-11,\n",
      "       8.79882651e-11, 9.49587380e-11, 1.02421157e-10, 1.10416823e-10,\n",
      "       1.18989345e-10, 1.28185037e-10, 1.38053280e-10, 1.48646858e-10,\n",
      "       1.60022295e-10, 1.72240195e-10, 1.85365592e-10, 1.99468319e-10,\n",
      "       2.14623399e-10, 2.30911458e-10, 2.48419165e-10, 2.67239706e-10,\n",
      "       2.87473289e-10, 3.09227687e-10, 3.32618816e-10, 3.57771365e-10,\n",
      "       3.84819466e-10, 4.13907419e-10, 4.45190461e-10, 4.78835608e-10,\n",
      "       5.15022550e-10, 5.53944620e-10, 5.95809831e-10, 6.40841995e-10,\n",
      "       6.89281923e-10, 7.41388726e-10, 7.97441204e-10, 8.57739342e-10,\n",
      "       9.22605926e-10, 9.92388278e-10, 1.06746012e-09, 1.14822359e-09,\n",
      "       1.23511140e-09, 1.32858915e-09, 1.42915784e-09, 1.53735659e-09,\n",
      "       1.65376549e-09, 1.77900876e-09, 1.91375806e-09, 2.05873617e-09,\n",
      "       2.21472081e-09, 2.38254886e-09, 2.56312084e-09, 2.75740578e-09,\n",
      "       2.96644640e-09, 3.19136471e-09, 3.43336812e-09, 3.69375583e-09,\n",
      "       3.97392589e-09, 4.27538270e-09, 4.59974509e-09, 4.94875505e-09,\n",
      "       5.32428709e-09, 5.72835831e-09, 6.16313928e-09, 6.63096571e-09,\n",
      "       7.13435099e-09, 7.67599976e-09, 8.25882244e-09, 8.88595090e-09,\n",
      "       9.56075527e-09, 1.02868622e-08, 1.10681741e-08, 1.19088906e-08,\n",
      "       1.28135307e-08, 1.37869574e-08, 1.48344038e-08, 1.59615011e-08,\n",
      "       1.71743092e-08, 1.84793491e-08, 1.98836381e-08, 2.13947277e-08,\n",
      "       2.30207441e-08, 2.47704322e-08, 2.66532021e-08, 2.86791808e-08,\n",
      "       3.08592658e-08, 3.32051843e-08, 3.57295565e-08, 3.84459629e-08,\n",
      "       4.13690185e-08, 4.45144509e-08, 4.78991853e-08, 5.15414356e-08,\n",
      "       5.54608027e-08, 5.96783801e-08, 6.42168682e-08, 6.91006959e-08,\n",
      "       7.00000000e-08])\n",
      " t_events: None\n",
      "        y: array([[1.00000000e-06, 1.00000000e-06, 1.00000000e-06, 1.00000000e-06,\n",
      "        1.00000000e-06, 1.00000000e-06, 1.00000000e-06, 1.00000000e-06,\n",
      "        1.00000000e-06, 1.00000000e-06, 1.00000000e-06, 1.00000001e-06,\n",
      "        1.00000005e-06, 1.00000054e-06, 1.00000934e-06, 1.00040498e-06,\n",
      "        1.00279959e-06, 1.00711425e-06, 1.01322855e-06, 1.02128079e-06,\n",
      "        1.03149310e-06, 1.04423898e-06, 1.06021065e-06, 1.08102419e-06,\n",
      "        1.10725640e-06, 1.13066177e-06, 1.15015006e-06, 1.17026460e-06,\n",
      "        1.19386980e-06, 1.22210305e-06, 1.25473181e-06, 1.29284008e-06,\n",
      "        1.33928340e-06, 1.40754412e-06, 1.46240793e-06, 1.51643053e-06,\n",
      "        1.56943941e-06, 1.62263552e-06, 1.67662925e-06, 1.73177586e-06,\n",
      "        1.78831671e-06, 1.84642683e-06, 1.90622984e-06, 1.96779211e-06,\n",
      "        2.03109074e-06, 2.09592571e-06, 2.16166379e-06, 2.21289862e-06,\n",
      "        2.25900524e-06, 2.33115402e-06, 2.41669005e-06, 2.52181950e-06,\n",
      "        2.67140972e-06, 2.81511168e-06, 2.93769825e-06, 3.05722623e-06,\n",
      "        3.17644371e-06, 3.29657758e-06, 3.41833708e-06, 3.54219823e-06,\n",
      "        3.66851410e-06, 3.79756642e-06, 3.92959282e-06, 4.06480246e-06,\n",
      "        4.20338569e-06, 4.34552026e-06, 4.49137549e-06, 4.64111524e-06,\n",
      "        4.79490005e-06, 4.95288868e-06, 5.11523934e-06, 5.28211066e-06,\n",
      "        5.45366239e-06, 5.63005612e-06, 5.81145567e-06, 5.99802766e-06,\n",
      "        6.18994183e-06, 6.38737138e-06, 6.59049333e-06, 6.79948876e-06,\n",
      "        7.01454311e-06, 7.23584645e-06, 7.46359364e-06, 7.69798466e-06,\n",
      "        7.93922478e-06, 8.18752482e-06, 8.44310137e-06, 8.70617696e-06,\n",
      "        8.97698035e-06, 9.25574674e-06, 9.54271797e-06, 9.83814277e-06,\n",
      "        1.01422770e-05, 1.04553838e-05, 1.07777340e-05, 1.11096062e-05,\n",
      "        1.14512872e-05, 1.18030720e-05, 1.21652643e-05, 1.25381767e-05,\n",
      "        1.29221308e-05, 1.33174579e-05, 1.37244988e-05, 1.41436045e-05,\n",
      "        1.45751361e-05, 1.50194657e-05, 1.54769761e-05, 1.59480616e-05,\n",
      "        1.64331279e-05, 1.69325929e-05, 1.74468869e-05, 1.79764528e-05,\n",
      "        1.85217468e-05, 1.90832385e-05, 1.96614114e-05, 2.02567634e-05,\n",
      "        2.08698073e-05, 2.15010709e-05, 2.21510978e-05, 2.28204478e-05,\n",
      "        2.35096972e-05, 2.42194397e-05, 2.49502862e-05, 2.57028663e-05,\n",
      "        2.64778279e-05, 2.72758384e-05, 2.80975850e-05, 2.89437753e-05,\n",
      "        2.98151382e-05, 3.07124240e-05, 3.16364055e-05, 3.25878785e-05,\n",
      "        3.35676626e-05, 3.45766017e-05, 3.56155648e-05, 3.66854469e-05,\n",
      "        3.77871697e-05, 3.89216824e-05, 4.00899623e-05, 4.12930162e-05,\n",
      "        4.25318806e-05, 4.38076231e-05, 4.51213431e-05, 4.64741728e-05,\n",
      "        4.78672782e-05, 4.93018603e-05, 5.07791556e-05, 5.23004379e-05,\n",
      "        5.38670188e-05, 5.54802490e-05, 5.71415200e-05, 5.88522645e-05,\n",
      "        5.91592890e-05],\n",
      "       [0.00000000e+00, 9.99999000e-07, 1.09999890e-05, 1.10999889e-04,\n",
      "        1.09071848e-03, 8.44683198e-03, 3.94245727e-02, 1.50238709e-01,\n",
      "        4.76847603e-01, 1.65960422e+00, 4.42954370e+00, 1.29042946e+01,\n",
      "        3.52796554e+01, 1.14175781e+02, 4.76937058e+02, 3.13825113e+03,\n",
      "        8.21181246e+03, 1.29785901e+04, 1.74848383e+04, 2.18284992e+04,\n",
      "        2.60312725e+04, 3.01039223e+04, 3.40700436e+04, 3.80151635e+04,\n",
      "        4.16903513e+04, 4.41295195e+04, 4.57166174e+04, 4.70234398e+04,\n",
      "        4.82127046e+04, 4.92472464e+04, 5.00334121e+04, 5.05296151e+04,\n",
      "        5.06823427e+04, 5.02902308e+04, 4.96244740e+04, 4.87732014e+04,\n",
      "        4.78139914e+04, 4.67730119e+04, 4.56690159e+04, 4.45170136e+04,\n",
      "        4.33293170e+04, 4.21163623e+04, 4.08873533e+04, 3.96508914e+04,\n",
      "        3.84158227e+04, 3.71928222e+04, 3.59984895e+04, 3.51001977e+04,\n",
      "        3.43162355e+04, 3.31354265e+04, 3.18064984e+04, 3.02742869e+04,\n",
      "        2.82735802e+04, 2.65326584e+04, 2.51738158e+04, 2.39500387e+04,\n",
      "        2.28197950e+04, 2.17637789e+04, 2.07705976e+04, 1.98325852e+04,\n",
      "        1.89441321e+04, 1.81008843e+04, 1.72993137e+04, 1.65364660e+04,\n",
      "        1.58098038e+04, 1.51171047e+04, 1.44563914e+04, 1.38258823e+04,\n",
      "        1.32239562e+04, 1.26491256e+04, 1.21000169e+04, 1.15753545e+04,\n",
      "        1.10739484e+04, 1.05946845e+04, 1.01365165e+04, 9.69845926e+03,\n",
      "        9.27958291e+03, 8.87900843e+03, 8.49590337e+03, 8.12947841e+03,\n",
      "        7.77898422e+03, 7.44370870e+03, 7.12297463e+03, 6.81613743e+03,\n",
      "        6.52258321e+03, 6.24172695e+03, 5.97301090e+03, 5.71590307e+03,\n",
      "        5.46989587e+03, 5.23450480e+03, 5.00926727e+03, 4.79374151e+03,\n",
      "        4.58750554e+03, 4.39015617e+03, 4.20130814e+03, 4.02059321e+03,\n",
      "        3.84765942e+03, 3.68217028e+03, 3.52380407e+03, 3.37225315e+03,\n",
      "        3.22722334e+03, 3.08843329e+03, 2.95561391e+03, 2.82850781e+03,\n",
      "        2.70686878e+03, 2.59046131e+03, 2.47906007e+03, 2.37244951e+03,\n",
      "        2.27042341e+03, 2.17278444e+03, 2.07934383e+03, 1.98992095e+03,\n",
      "        1.90434294e+03, 1.82244444e+03, 1.74406718e+03, 1.66905975e+03,\n",
      "        1.59727722e+03, 1.52858094e+03, 1.46283821e+03, 1.39992204e+03,\n",
      "        1.33971093e+03, 1.28208858e+03, 1.22694370e+03, 1.17416980e+03,\n",
      "        1.12366496e+03, 1.07533163e+03, 1.02907648e+03, 9.84810183e+02,\n",
      "        9.42447240e+02, 9.01905843e+02, 8.63107688e+02, 8.25977846e+02,\n",
      "        7.90444604e+02, 7.56439332e+02, 7.23896350e+02, 6.92752799e+02,\n",
      "        6.62948523e+02, 6.34425948e+02, 6.07129977e+02, 5.81007881e+02,\n",
      "        5.56009195e+02, 5.32085623e+02, 5.09190945e+02, 4.87280929e+02,\n",
      "        4.66313239e+02, 4.46247363e+02, 4.27044527e+02, 4.08667624e+02,\n",
      "        3.91081144e+02, 3.74251100e+02, 3.58144968e+02, 3.42731619e+02,\n",
      "        3.40082277e+02]])\n",
      " y_events: None\n"
     ]
    }
   ],
   "source": [
    "#Imprimo propiedades de la solución\n",
    "print(sol)"
   ]
  },
  {
   "cell_type": "code",
   "execution_count": 30,
   "metadata": {},
   "outputs": [
    {
     "data": {
      "image/png": "[encoded data removed]",
      "text/plain": [
       "<Figure size 432x288 with 1 Axes>"
      ]
     },
     "metadata": {
      "needs_background": "light"
     },
     "output_type": "display_data"
    },
    {
     "data": {
      "image/png": "[encoded data removed]",
      "text/plain": [
       "<Figure size 432x288 with 1 Axes>"
      ]
     },
     "metadata": {
      "needs_background": "light"
     },
     "output_type": "display_data"
    },
    {
     "name": "stderr",
     "output_type": "stream",
     "text": [
      "C:\\Users\\lupam\\AppData\\Local\\Temp\\ipykernel_26664\\3442091702.py:5: RuntimeWarning: divide by zero encountered in true_divide\n",
      "  return rho_Bunkin*u0(T_e, q_e, R0)**2*(1 + 2*mu(T_e, q_e, R0))*(R0/R)**4\n",
      "C:\\Users\\lupam\\AppData\\Local\\Temp\\ipykernel_26664\\2798353852.py:22: RuntimeWarning: divide by zero encountered in true_divide\n",
      "  P = N * K_B * Tinf / V(R)\n"
     ]
    },
    {
     "data": {
      "image/png": "[encoded data removed]",
      "text/plain": [
       "<Figure size 432x288 with 1 Axes>"
      ]
     },
     "metadata": {
      "needs_background": "light"
     },
     "output_type": "display_data"
    }
   ],
   "source": [
    "#Grafico\n",
    "plt.plot(sol.t, sol.y[0]/R0, label = \"R(t)/R0\")\n",
    "plt.legend()\n",
    "plt.show()\n",
    "\n",
    "plt.plot(sol.t, sol.y[1], label = \"v_R(t)\")\n",
    "plt.legend()\n",
    "plt.show()\n",
    "\n",
    "plt.plot(sol.t, p_B(sol.t,T_e, q_e, R0), label = \"p_B(t)\")\n",
    "plt.legend()\n",
    "plt.show()\n"
   ]
  },
  {
   "cell_type": "markdown",
   "metadata": {},
   "source": [
    "### Verificación\n",
    "\n",
    "Según el paper de Bunkin, a t = t_coal debe ocurrir que R = R1, ambos parámetros bien definidos\n",
    "Supongamos por lo pronto que m = 0 para todo tiempo, asumiendo que la masa de los electrones entrantes, que son los responsables de la expansión inicial, es despreciable"
   ]
  },
  {
   "cell_type": "code",
   "execution_count": 31,
   "metadata": {},
   "outputs": [
    {
     "name": "stdout",
     "output_type": "stream",
     "text": [
      "tiempo de coalescencia (t_coal):  4.584739171374519e-09\n",
      "radio relativo teórico del bubston en t = t_coal (R1/R0):  20.000000000000004\n"
     ]
    }
   ],
   "source": [
    "a_i = 2e-5 #radio de Debye de un ion electrolito en un líquido. En este caso el agua (valor sacado del Bunkin) en [cm]\n",
    "t_coal = ( 2/5*(R0/u0(T_e, q_e, R0)) )/np.sqrt(2*(1 + 2*mu(T_e, q_e, R0)))*(a_i/R0)**(5/2) #tiempo de coalescencia en [s] (creo)\n",
    "l = 2*a_i #aproximación hecha en el Bunkin*\n",
    "R1 = l/2 #radio del bubston necesario para que las burbujas se toquen\n",
    "\n",
    "print(\"tiempo de coalescencia (t_coal): \", t_coal)\n",
    "print(\"radio relativo teórico del bubston en t = t_coal (R1/R0): \", R1/R0)"
   ]
  },
  {
   "cell_type": "code",
   "execution_count": 33,
   "metadata": {},
   "outputs": [
    {
     "name": "stdout",
     "output_type": "stream",
     "text": [
      "radio numérico del bubston en t = t_coal (R1):  19.63521432788798\n",
      "velocidad radial del bubston en t = t_coal (R1):  1747.4962431181277\n"
     ]
    }
   ],
   "source": [
    "#Resuelvo el sistema dy/dt usando solve_ivp\n",
    "t_ini = 0\n",
    "t_max = t_coal\n",
    "y_ini = [R0, 0] #Condición inicial\n",
    "rtol = 1e-12 #tolerancia relativa para el método numérico\n",
    "sol = solve_ivp(dydt, [t_ini, t_max], y_ini, method = \"DOP853\", rtol = rtol, atol = rtol)\n",
    "#asumo que el problema no es stiff\n",
    "\n",
    "print(\"radio numérico del bubston en t = t_coal (R1): \", sol.y[0][-1]/R0)\n",
    "print(\"velocidad radial del bubston en t = t_coal (R1): \", sol.y[1][-1])"
   ]
  },
  {
   "cell_type": "markdown",
   "metadata": {},
   "source": [
    "#### Consideraciones\n",
    "Encontré que el resultado es independiente de si m(t) = 0 o no. Esto tiene sentido porque m(t) hace referencia a los iones/moléculas de dentro y según el paper de Bunkin no tienen efecto inicialmente tales partículas. Habría que verificar esto formalmente poniendo una presión debido a tales partículas, por ejemplo debido a un GI.\n",
    "\n",
    "A continuación se detallan el radio del bubston en t = t_coal(R1) considerando o no la masa y la presión de las partículas:\n",
    "* m = 0, p_GI = 0: 16.028292831866146\n",
    "* m!= 0 (N_H2O_0 = 1e9), p_GI = 0: 16.028292831866146\n",
    "* m!= 0 (N_H2O_0 = 1e9), p_GI!= 0: 81.30913083691735 \n",
    "CAMBIA CONSIDERABLEMENTE! Quizás el problema está en la cantidad de partículas consideradas. Gustavo me había dicho que el nro de partículas iniciales era despreciable respecto al nro de electrones máximos\n",
    "* m!= 0 (N_H2O_0 = 1e3), p_GI!= 0: 81.30913083691735 \n",
    "Tal cantidad de partículas de vapor implicaría una presión de 10 atm (p_GI(R0)*0.1*9.86923e-6\n",
    ") dentro de la burbuja. Es exagerado? Sí, pero con 109 partículas tengo 107 atm....\n",
    "\n",
    "\n",
    "Cambié la ecuación diferencial para la evolución del radio R(t). Ahora uso la misma expresión que Bunkin. Bajo esas condiciones obtengo que el radio R1 a t = t_coal es 19.635\n",
    "\n",
    "\n",
    "\n",
    "\n",
    "Los nros siguientes los obtuve haciendo mal la cuenta. Había considerado que dpdt = dpdR y no es así\n",
    "* m != 0, p_GI = 0: 19.185427198440635\n",
    "* m = 0, p_GI = 0: 19.185427198440635\n",
    "* m != 0, p_GI != 0:"
   ]
  },
  {
   "cell_type": "markdown",
   "metadata": {},
   "source": [
    "## Formación de burbuja a partir del cluster\n",
    "\n",
    "1. Calculamos el tiempo tal que R = R1\n",
    "2. Supongo que a ese tiempo, instantáneamente se forma una burbuja con todos los bubston del cluster, de tamaño n_bubston*R1\n",
    "3. Calculo la evolución de la nueva burbuja considerando tmb que hay una carga de n_bubston*e\n",
    "4. Ver el efecto de considerar o no una presión de gas p_GI\n",
    "\n",
    "Durante la evolución estoy asumiendo Te constante aunque no sea así necesariamente. También asumí que la carga \"inicial\" es q_e*n_bubston."
   ]
  },
  {
   "cell_type": "code",
   "execution_count": 17,
   "metadata": {},
   "outputs": [
    {
     "name": "stdout",
     "output_type": "stream",
     "text": [
      "0.010263277913696248\n"
     ]
    }
   ],
   "source": [
    "#Parámetros del cluster inicial\n",
    "n_bubston = 1e8\n",
    "Beta = 0.74 #factor que determina cuán compacto está el cluster. Este valor corresponde a the closest packing in the hard-sphere model\n",
    "R_cl = a_i*(n_bubston/Beta)**(1/3) #cm\n",
    "print(R_cl)\n",
    "\n",
    "T_e_ = 0.1*(1.602176565e-19)*(1/1e-7)\n"
   ]
  },
  {
   "cell_type": "code",
   "execution_count": 18,
   "metadata": {},
   "outputs": [
    {
     "name": "stdout",
     "output_type": "stream",
     "text": [
      "3.058396578058406e-06\n",
      "4.52842184301231e-06\n"
     ]
    }
   ],
   "source": [
    "print(n_bubston*4/3*pi*(19.4*R0)**3)\n",
    "\n",
    "print(4/3*pi*(R_cl)**3)"
   ]
  },
  {
   "cell_type": "code",
   "execution_count": 19,
   "metadata": {},
   "outputs": [],
   "source": [
    "#Defino el sistema de ecuaciones diferenciales. La diferencia con el anterior es el radio inicial y la carga contenida\n",
    "\n",
    "\n",
    "\n",
    "def dydt(t,y):\n",
    "    #Sistema de ecuaciones de primer orden para la evolución del radio en función del tiempo. Entiéndase y = (R, Rp) = (R, v_R)\n",
    "    v_R = y[1]\n",
    "    R = y[0]\n",
    "\n",
    "    #Defino las ctes del sistema\n",
    "    \n",
    "    R0_ = R1*n_bubston\n",
    "    q_e_ = q_e*n_bubston #NO SÉ SI ESTO ESTÁ BIEN\n",
    "\n",
    "    #Defino los términos de la ecuación diferencial de R(t). Genéricamente coloco como inputs mp, mpp, R y v_R aunque no haya tal dependencia\n",
    "    #Los términos se encuentran definidos en mi cuadernillo\n",
    "\n",
    "    #Expreso dydt_0 = dR/dt = v_R\n",
    "    dydt_0 = v_R\n",
    "\n",
    "\n",
    "    #Para dydt_2 = d(v_R/dt) = d2(R)/dt2 hay 2 posibilidades\n",
    "    #(1) usar la ecuación diferencial de la tesis de Gabriela\n",
    "    #(2) usar la ecuación diferencial del paper de Bunkin que es una aproximación de la ecuación diferencial de Gabriela\n",
    "\n",
    "    #(1)\n",
    "    # term1 = -(3/2)*v_R**2*(1 - v_R/(3*c_L) + 2*mp(t)/(3*c_L*rho_L_i))\n",
    "    # term2 = (1/rho_L_i)*(1 + v_R/c_L)*(p_B(R,T_e_, q_e_, R0_) - p_inf)\n",
    "    # term3 = (mpp(t)*R/rho_L_i)*(1 - v_R/c_L + mp(t)/(c_L*rho_L_i))\n",
    "    # term4 = (mp(t)/rho_L_i)*(v_R - mp(t)/(2*rho_L_i) + mp(t)*v_R/(2*c_L*rho_L_i))\n",
    "    # term5 = (R/c_L*rho_L_inf)*dpBdt(R, v_R,T_e_, q_e_, R0_)\n",
    "    # dydt_1 = (1/(R*(1 - v_R/c_L + mp(t)/(c_L*rho_L_i))     ))*(term1 + term2 + term3 + term4 + term5)\n",
    "\n",
    "    #(2)\n",
    "    dydt_1 = (p_B(R,T_e_, q_e_, R0_)/(rho_L_i) - 3/2*v_R**2)/R\n",
    "\n",
    "\n",
    "    return [dydt_0, dydt_1]"
   ]
  },
  {
   "cell_type": "code",
   "execution_count": 20,
   "metadata": {},
   "outputs": [
    {
     "name": "stdout",
     "output_type": "stream",
     "text": [
      "  message: 'The solver successfully reached the end of the integration interval.'\n",
      "     nfev: 74\n",
      "     njev: 0\n",
      "      nlu: 0\n",
      "      sol: None\n",
      "   status: 0\n",
      "  success: True\n",
      "        t: array([0.0000e+00, 1.0000e-04, 1.1000e-03, 1.1100e-02, 1.1110e-01,\n",
      "       1.1111e+00, 2.0000e+00])\n",
      " t_events: None\n",
      "        y: array([[1.02632779e-02, 1.02632779e-02, 1.02632779e-02, 1.02632779e-02,\n",
      "        1.02632779e-02, 1.02632779e-02, 1.02632779e-02],\n",
      "       [0.00000000e+00, 1.11653382e-17, 1.22818720e-16, 1.23935254e-15,\n",
      "        1.24046907e-14, 1.24058072e-13, 2.23306763e-13]])\n",
      " y_events: None\n"
     ]
    }
   ],
   "source": [
    "#Resuelvo el sistema dy/dt usando solve_ivp\n",
    "t_ini = 0\n",
    "t_max = 2 #2.5e-6 #70 ns\n",
    "\n",
    "y_ini = [R_cl, 0] #Condición inicial\n",
    "rtol = 1e-8 #tolerancia relativa para el método numérico\n",
    "sol = solve_ivp(dydt, [t_ini, t_max], y_ini, method = \"DOP853\", rtol = rtol, atol = rtol)\n",
    "#asumo que el problema no es stiff\n",
    "\n",
    "print(sol)"
   ]
  },
  {
   "cell_type": "code",
   "execution_count": 21,
   "metadata": {},
   "outputs": [
    {
     "data": {
      "image/png": "[encoded data removed]",
      "text/plain": [
       "<Figure size 432x288 with 1 Axes>"
      ]
     },
     "metadata": {
      "needs_background": "light"
     },
     "output_type": "display_data"
    },
    {
     "data": {
      "image/png": "[encoded data removed]",
      "text/plain": [
       "<Figure size 432x288 with 1 Axes>"
      ]
     },
     "metadata": {
      "needs_background": "light"
     },
     "output_type": "display_data"
    },
    {
     "name": "stderr",
     "output_type": "stream",
     "text": [
      "C:\\Users\\lupam\\AppData\\Local\\Temp\\ipykernel_14452\\3442091702.py:5: RuntimeWarning: divide by zero encountered in true_divide\n",
      "  return rho_Bunkin*u0(T_e, q_e, R0)**2*(1 + 2*mu(T_e, q_e, R0))*(R0/R)**4\n",
      "C:\\Users\\lupam\\AppData\\Local\\Temp\\ipykernel_14452\\2798353852.py:22: RuntimeWarning: divide by zero encountered in true_divide\n",
      "  P = N * K_B * Tinf / V(R)\n"
     ]
    },
    {
     "data": {
      "image/png": "[encoded data removed]",
      "text/plain": [
       "<Figure size 432x288 with 1 Axes>"
      ]
     },
     "metadata": {
      "needs_background": "light"
     },
     "output_type": "display_data"
    }
   ],
   "source": [
    "#Grafico\n",
    "plt.plot(sol.t, sol.y[0]/R0, label = \"R(t)/R0\")\n",
    "plt.legend()\n",
    "plt.show()\n",
    "\n",
    "plt.plot(sol.t, sol.y[1], label = \"v_R(t)\")\n",
    "plt.legend()\n",
    "plt.show()\n",
    "\n",
    "plt.plot(sol.t, p_B(sol.t,T_e, q_e, R0), label = \"p_B(t)\")\n",
    "plt.legend()\n",
    "plt.show()\n"
   ]
  },
  {
   "cell_type": "code",
   "execution_count": null,
   "metadata": {},
   "outputs": [],
   "source": []
  },
  {
   "cell_type": "markdown",
   "metadata": {},
   "source": [
    "### Consideraciones\n",
    "* A tal tamaño y tal cantidad de cargas la burbuja comienza a decrecer en tamaño. Esto es lo que se obtiene en el papaer?\n",
    "* Con n_bubston = 10e2, a t = 2e-6 s aproximadamente se llega al mínimo. Esto ocurre independientemente de la presión producida por el GI en el interior. Luego de que la burbuja llega al cero, se produce un comportamiento oscilatorio en el que se genera una nueva burbuja y así sucesivamente.\n",
    "* Con n_bubston = 10e8, el comportamiento anterior ocurre a los 2 s. Con el método numérico no puedo ejecutar el código para tiempos mayores, me da el error \"Required step size is less than spacing between numbers\". Según entiendo en ese punto hay una singularidad (infinito) en v_R que el solver no puede manejar\n",
    "Cambié el radio del cluster. Antes estaba en "
   ]
  },
  {
   "cell_type": "code",
   "execution_count": 22,
   "metadata": {},
   "outputs": [
    {
     "data": {
      "text/plain": [
       "7000.0"
      ]
     },
     "execution_count": 22,
     "metadata": {},
     "output_type": "execute_result"
    }
   ],
   "source": [
    "70e2"
   ]
  },
  {
   "cell_type": "code",
   "execution_count": null,
   "metadata": {},
   "outputs": [],
   "source": []
  },
  {
   "cell_type": "markdown",
   "metadata": {},
   "source": [
    "## (I) Evolución de cluster\n",
    "\n",
    "Me olvido de las cuentas que hice antes y arranco desde cero. El objetivo es calcular la dinámica del cluster hasta que se llega a Rmax y ver si obtengo el mismo Rmax que el paper.\n",
    "\n",
    "La presión tenida en cuenta en la ecuación diferencial de evolución de R(t) es la presión hidrostática y la de electrones, dada por la expresión (17) del Bunkin"
   ]
  },
  {
   "cell_type": "code",
   "execution_count": 3,
   "metadata": {},
   "outputs": [],
   "source": [
    "#Importo librerías\n",
    "import numpy as np\n",
    "from math import pi\n",
    "from scipy.integrate import solve_ivp\n",
    "import matplotlib.pyplot as plt"
   ]
  },
  {
   "cell_type": "code",
   "execution_count": 31,
   "metadata": {},
   "outputs": [
    {
     "data": {
      "text/plain": [
       "0.0"
      ]
     },
     "execution_count": 31,
     "metadata": {},
     "output_type": "execute_result"
    }
   ],
   "source": [
    "10**-2 - 1e-2"
   ]
  },
  {
   "cell_type": "code",
   "execution_count": 4,
   "metadata": {},
   "outputs": [],
   "source": [
    "#Defino parámetros\n",
    "\n",
    "q_e = -1.602176634e-19 #carga del electrón en [Coulomb]\n",
    "q_e = q_e*(1/3.336641e-10) #en [Fr] (CGS). Conversión (C)*(Fr/3.336641e-10 C)\n",
    "\n",
    "rho_L_i = 1101.8 #densidad del líquido en la superficie de la burbuja en [kg/m3] para agua D2O a Tinf=35+273.15. Lo copié del código de Gabriela. \n",
    "rho_L_i = rho_L_i*(1/100)**3*(1000) #en [g/cm3] (CGS). Conversión (kg/m3)*(1m/100cm)^3*(1000g/1Kg)\n",
    "rho_L_inf = rho_L_i #densidad del líquido en el infinito. A priori considero rho_L_inf = rho_L_i\n",
    "\n",
    "\n",
    "rho_Bunkin = rho_L_inf #densidad del líquido\n",
    "\n",
    "n_bubston = 1e8 #nro de bubston que forman un cluster\n",
    "\n",
    "R0_1b = 1e-6 #radio inicial de un bubston en [cm]\n",
    "R_cl_ini = 1e-2 #radio inicial del cluster en [cm]\n",
    "\n",
    "N_e_max_1b = 1.4e3 #nro máximo de electrones en un bubston\n",
    "\n",
    "T_e_ini = 2 #temperatura inicial de los electrones a R0_1b [eV]\n",
    "T_e_ini = T_e_ini*(1.602176565e-19)*(1/1e-7) #en [erg] (CGS). Conversión (1ev)(1.602176565e-19J/1ev)*(1erg/1e-7 J)\n",
    "\n",
    "p_inf = 1 #0.925 #Presión ambiente en el infinito en [atm]. Son 0.925 atm correspondientes a Bariloche. \n",
    "p_inf = p_inf*(101325)*(1/0.1) #en [baria] (CGS). Conversión: (atm)(101325 Pa/atm)(baria/ 0.1 Pa)\n",
    "p0 = p_inf\n",
    "\n",
    "\n",
    "sigma = 7.275e-2 #Tensión superficial en [N/m]\n",
    "sigma = sigma/100/1e-5  #en [dyn/cm] (CGS). Conversión (N/m)*(1m/100cm)*(1dyn/1e-5N)\n",
    "\n",
    "mu_vis = 0.001  #viscosidad en [Pa*s]\n",
    "mu_vis = mu_vis/0.1 #en [baria*s] (CGS). Conversión: (Pa*s)(1baria/0.1Pa)\n",
    "#Extra:\n",
    "c_L = 1415.1 #velocidad del sonido del líquido en [m/s] para agua D2O a Tinf=35+273.15. Lo copié del código de Gabriela.\n",
    "c_L = c_L*100 #en [cm/s] (CGS). Conversión (m/s)*(100 cm/m)\n",
    "\n",
    "\n",
    "\n"
   ]
  },
  {
   "cell_type": "code",
   "execution_count": 12,
   "metadata": {},
   "outputs": [
    {
     "data": {
      "text/plain": [
       "1.0002467917077986"
      ]
     },
     "execution_count": 12,
     "metadata": {},
     "output_type": "execute_result"
    }
   ],
   "source": [
    "(101325)*(1/0.1) / 1.013e6"
   ]
  },
  {
   "cell_type": "code",
   "execution_count": 172,
   "metadata": {},
   "outputs": [
    {
     "name": "stdout",
     "output_type": "stream",
     "text": [
      "1013250.0\n"
     ]
    }
   ],
   "source": [
    "print(p0)"
   ]
  },
  {
   "cell_type": "markdown",
   "metadata": {},
   "source": [
    "### Factor x\n",
    "\n",
    "Calculo el factor x para el caso del cluster y verifico el resultado con el Bunkin"
   ]
  },
  {
   "cell_type": "code",
   "execution_count": 5,
   "metadata": {},
   "outputs": [
    {
     "data": {
      "text/plain": [
       "17.97444125009335"
      ]
     },
     "execution_count": 5,
     "metadata": {},
     "output_type": "execute_result"
    }
   ],
   "source": [
    "from scipy.optimize import fsolve\n",
    "#Defino la expresión (9) cuya solución es x\n",
    "\n",
    "def x(T_e, R0, Ne):\n",
    "\n",
    "    def ec_9(x):\n",
    "        #Expresión (9) del paper de Bunkin tal que está igualada a cero\n",
    "        return np.log(3*Ne*q_e**2/(T_e*R0)) + np.log(1/(1-1/x)) - x\n",
    "\n",
    "    return fsolve(ec_9, 2)[0]\n",
    "\n",
    "x(T_e_ini*(R0_1b/(20*R0_1b)), R_cl_ini, N_e_max_1b*n_bubston)\n",
    "\n",
    "#Da aproximadamente 17.97"
   ]
  },
  {
   "cell_type": "markdown",
   "metadata": {},
   "source": [
    "### Presión eléctrica\n",
    "Defino la presión eléctrica para el caso de un cluster formado por n_bubston."
   ]
  },
  {
   "cell_type": "code",
   "execution_count": 6,
   "metadata": {},
   "outputs": [],
   "source": [
    "\n",
    "\n",
    "\n",
    "def Vol(R):\n",
    "    #Calcula el volumen de una esfera de radio R\n",
    "    return 4/3*pi*R**3\n",
    "\n",
    "def n_e_mean(R):\n",
    "    #Densidad media de los electrones. En el modelo de Bunkin se asume que en un tiempo muy corto cada bubston alcanza el valor máximo de electrones. Luego, cuando se forma el cluster, se tienen n_bubston*N_emax_1bubston electrones\n",
    "    return  N_e_max_1b*n_bubston/Vol(R)\n",
    "\n",
    "def T_e(R):\n",
    "    #Asumo que para la evolución del cluster sigue valiendo la aproximación de régimen autoconsistente\n",
    "\n",
    "    #Está hecho para que a R = R_cl_ini obtenga 0.1 ev. De este modo, se está asumiendo que los electrones del cluster están a la misma temperatura que los electrones en la máxima expansión de cada bubston.\n",
    "    return 0.1*(1.602176565e-19)*(1/1e-7)\n",
    "    return 0.1*(1.602176565e-19)*(1/1e-7)*(R_cl_ini/R)\n",
    "    # return T_e_ini*(R0_1b/R)\n",
    "\n",
    "def n_e_mean_test(R):\n",
    "    return n_e_mean(R)*(R_cl_ini/R)**4\n",
    "    # return (16/3)*T_e(R)**2/(pi*q_e**4*R)*n_bubston\n",
    "\n",
    "def p_electrica(n_e_mean, T_e, x, R):\n",
    "    #Presión eléctrica calculada a partir de la expresión (17) del paper de Bunkin\n",
    "    #n_e_mean es la densidad media de electrones\n",
    "    #T_e es la temperatura de los electrones\n",
    "    #x es un parámetros que depende de la densidad de electrones. Es un numerito\n",
    "    #R_ini es el radio inicial de la burbuja. En el caso de la evolución del cluster es el radio inicial del cluster R_ini_cl\n",
    "    return (2/3)*n_e_mean*T_e*(x/3)*(1 + pi*((x-1)/x)**2*((q_e*R)**2*n_e_mean/T_e))\n",
    "\n",
    "from scipy.integrate import quad\n",
    "\n",
    "def p_electrica_mean(n_e_mean, T_e, x, R):\n",
    "    #Presión eléctrica promedio calculada integrando la presión eléctrica de la expresión (17) de Bunkin\n",
    "    #n_e_mean es la densidad media de electrones. Depende solo del radio R de la burbuja\n",
    "    #T_e es la temperatura de los electrones\n",
    "    #x es un parámetros que depende de la densidad de electrones. Es un numerito\n",
    "    #R es el radio inicial de la burbuja. En el caso de la evolución del cluster es el radio del cluster R_cl\n",
    "    def integrando(r):\n",
    "        return p_electrica(n_e_mean, T_e, x, r)*4*pi*r**2\n",
    "\n",
    "    return (1/Vol(R))*quad(integrando,0,R)[0]\n"
   ]
  },
  {
   "cell_type": "code",
   "execution_count": 43,
   "metadata": {},
   "outputs": [
    {
     "name": "stdout",
     "output_type": "stream",
     "text": [
      "3.3422538049298016e+16\n",
      "8.197208060707932e+21\n"
     ]
    }
   ],
   "source": [
    "print(n_e_mean(R_cl_ini))\n",
    "# print(n_e_mean_test(R_cl_ini))\n",
    "\n",
    "#3.3422538049298016e+16"
   ]
  },
  {
   "cell_type": "code",
   "execution_count": 5,
   "metadata": {},
   "outputs": [
    {
     "data": {
      "text/plain": [
       "2.969049419063652"
      ]
     },
     "execution_count": 5,
     "metadata": {},
     "output_type": "execute_result"
    }
   ],
   "source": [
    "p_electrica(3.4e16,0.1*(1.602176565e-19)*(1/1e-7),17.9,1e-2)/1e11"
   ]
  },
  {
   "cell_type": "code",
   "execution_count": 26,
   "metadata": {},
   "outputs": [
    {
     "name": "stdout",
     "output_type": "stream",
     "text": [
      "0.5999945823997807\n",
      "296905353608.7761\n"
     ]
    }
   ],
   "source": [
    "print(p_electrica_mean(3.4e16, T_e_ini, 17.9, R_cl_ini))\n",
    "print(p_electrica(3.4e16, T_e_ini, 17.9, R_cl_ini))"
   ]
  },
  {
   "cell_type": "code",
   "execution_count": 288,
   "metadata": {},
   "outputs": [
    {
     "name": "stdout",
     "output_type": "stream",
     "text": [
      "1.4\n",
      "3.3422538049298016e+16\n"
     ]
    }
   ],
   "source": [
    "print(N_e_max_1b*n_bubston/1e11)\n",
    "print(n_e_mean(R_cl_ini))"
   ]
  },
  {
   "cell_type": "code",
   "execution_count": 39,
   "metadata": {},
   "outputs": [
    {
     "name": "stdout",
     "output_type": "stream",
     "text": [
      "Presion electrica:  28690519.582501564\n",
      "Presión externa:  1013250.0\n",
      "Cociente de presiones:  28.31534131014218\n"
     ]
    }
   ],
   "source": [
    "print(\"Presion electrica: \", p_electrica(n_e_mean(R_cl_ini), T_e(R_cl_ini), 17.9, R_cl_ini))\n",
    "print(\"Presión externa: \", p0)\n",
    "print(\"Cociente de presiones: \", p_electrica(n_e_mean(R_cl_ini), T_e(R_cl_ini), 17.9, R_cl_ini)/p0)"
   ]
  },
  {
   "cell_type": "code",
   "execution_count": 67,
   "metadata": {},
   "outputs": [
    {
     "data": {
      "text/plain": [
       "[<matplotlib.lines.Line2D at 0x148f14b2cd0>]"
      ]
     },
     "execution_count": 67,
     "metadata": {},
     "output_type": "execute_result"
    },
    {
     "data": {
      "image/png": "[encoded data removed]",
      "text/plain": [
       "<Figure size 432x288 with 1 Axes>"
      ]
     },
     "metadata": {
      "needs_background": "light"
     },
     "output_type": "display_data"
    }
   ],
   "source": [
    "#Grafico la presión eléctrica en función del radio\n",
    "R_array = R_cl_ini*np.linspace(0.01, 1, 100)\n",
    "p_electrica_array = np.zeros(len(R_array))\n",
    "p_comportamiento_array = np.zeros(len(R_array))\n",
    "\n",
    "\n",
    "for i in range(len(R_array)):\n",
    "    p_electrica_array[i] = p_electrica(n_e_mean(R_cl_ini), T_e(R_cl_ini), 17.9, R_array[i])\n",
    "    p_comportamiento_array[i] = (R_cl_ini/R_array[i])**4\n",
    "\n",
    "plt.plot(R_array/R_cl_ini, p_electrica_array)\n",
    "# plt.plot(R_array, 3e11*p_comportamiento_array)\n",
    "\n",
    "#Parece tener el comportamiento buscado. El problema es el orden de magnitud. Inicialmente es casi 10 órdenes de magnitud la presión p0"
   ]
  },
  {
   "cell_type": "markdown",
   "metadata": {},
   "source": [
    "### Ecuación diferencial\n",
    "Esta ecuación es la que gobierna la dinámica del sistema. Por simplicidad voy a considerar la ecuación (14) del papaer de Bunkin a la que le voy a sumar una presión p0 del exterior"
   ]
  },
  {
   "cell_type": "code",
   "execution_count": 7,
   "metadata": {},
   "outputs": [],
   "source": [
    "from scipy.integrate import quad\n",
    "\n",
    "\n",
    "#Defino el sistema de ecuaciones diferenciales. La diferencia con el anterior es el radio inicial y la carga contenida\n",
    "W_array = np.array([])\n",
    "\n",
    "def dydt(t,y):\n",
    "    #Sistema de ecuaciones de primer orden para la evolución del radio en función del tiempo. Entiéndase y = (R, Rp) = (R, v_R)\n",
    "    v_R = y[1]\n",
    "    R = y[0]\n",
    "\n",
    "    #Defino las ctes del sistema\n",
    "    \n",
    "    # R0_ = R1*n_bubston\n",
    "    # q_e_ = q_e*n_bubston #NO SÉ SI ESTO ESTÁ BIEN\n",
    "\n",
    "    #Defino los términos de la ecuación diferencial de R(t). Genéricamente coloco como inputs mp, mpp, R y v_R aunque no haya tal dependencia\n",
    "    #Los términos se encuentran definidos en mi cuadernillo\n",
    "\n",
    "    #Expreso dydt_0 = dR/dt = v_R\n",
    "    dydt_0 = v_R\n",
    "\n",
    "    #Para dydt_2 = d(v_R/dt) = d2(R)/dt2 hay 2 posibilidades\n",
    "    #(1) usar la ecuación diferencial de la tesis de Gabriela\n",
    "    #(2) usar la ecuación diferencial del paper de Bunkin que es una aproximación de la ecuación diferencial de Gabriela\n",
    "\n",
    "    #(1)\n",
    "    # term1 = -(3/2)*v_R**2*(1 - v_R/(3*c_L) + 2*mp(t)/(3*c_L*rho_L_i))\n",
    "    # term2 = (1/rho_L_i)*(1 + v_R/c_L)*(p_B(R,T_e_, q_e_, R0_) - p_inf)\n",
    "    # term3 = (mpp(t)*R/rho_L_i)*(1 - v_R/c_L + mp(t)/(c_L*rho_L_i))\n",
    "    # term4 = (mp(t)/rho_L_i)*(v_R - mp(t)/(2*rho_L_i) + mp(t)*v_R/(2*c_L*rho_L_i))\n",
    "    # term5 = (R/c_L*rho_L_inf)*dpBdt(R, v_R,T_e_, q_e_, R0_)\n",
    "    # dydt_1 = (1/(R*(1 - v_R/c_L + mp(t)/(c_L*rho_L_i))     ))*(term1 + term2 + term3 + term4 + term5)\n",
    "\n",
    "    #(2)\n",
    "    #Calculo x_cl\n",
    "    x_cl = x(T_e(R), R_cl_ini, N_e_max_1b*n_bubston)\n",
    "    # print(x_cl)\n",
    "\n",
    "    #Calculo la energía\n",
    "    # def Energia_exp(R):\n",
    "    # #Energía coulombiana debido a p_coulomb que es distinta a p_e\n",
    "    #     def f(r):\n",
    "    #         #Función a integrar para obtener la energía\n",
    "    #             8*pi/2*p_electrica(n_e_mean(r), T_e(r), x_cl, r)*r**2\n",
    "    #     return quad(f,0.001,R)\n",
    "    # print(W_energia(R)[0]/Energia_teo(R, x_cl))\n",
    "    \n",
    "    dydt_1 = ((p_electrica_mean(n_e_mean(R), T_e(R), x_cl, R) - p0 -2*sigma/R -4*mu_vis*v_R/R)/(rho_L_i) - 3/2*v_R**2)/R\n",
    "\n",
    "\n",
    "    # print((p_electrica(n_e_mean(R), T_e(R, R_cl_ini), x_cl, R_cl_ini) - p0))\n",
    "    # print(T_e(R, R_cl_ini)/(1.602176565e-19)/(1/1e-7))\n",
    "\n",
    "    return [dydt_0, dydt_1]"
   ]
  },
  {
   "cell_type": "markdown",
   "metadata": {},
   "source": [
    "### Solución numérica"
   ]
  },
  {
   "cell_type": "code",
   "execution_count": 23,
   "metadata": {},
   "outputs": [],
   "source": [
    "#Resuelvo el sistema dy/dt usando solve_ivp\n",
    "t_ini = 0\n",
    "t_max = 0.002 #200e-5 #2.5e-6 #70 ns\n",
    "\n",
    "v_R0 = 1747.4962431181277\n",
    "y_ini = [R_cl_ini, v_R0] #Condición inicial\n",
    "rtol = 1e-12 #tolerancia relativa para el método numérico\n",
    "sol = solve_ivp(dydt, [t_ini, t_max], y_ini, method = \"LSODA\")\n",
    "#asumo que el problema no es stiff\n",
    "\n",
    "# print(sol)"
   ]
  },
  {
   "cell_type": "code",
   "execution_count": 24,
   "metadata": {},
   "outputs": [
    {
     "data": {
      "image/png": "[encoded data removed]",
      "text/plain": [
       "<Figure size 432x288 with 1 Axes>"
      ]
     },
     "metadata": {
      "needs_background": "light"
     },
     "output_type": "display_data"
    }
   ],
   "source": [
    "import matplotlib.pyplot as plt\n",
    "\n",
    "#Grafico\n",
    "plt.plot(sol.t, sol.y[0], label = \"R(t)\")\n",
    "plt.legend()\n",
    "plt.show()\n",
    "\n",
    "# plt.plot(sol.t, sol.y[1], label = \"v_R(t)\")\n",
    "# plt.legend()\n",
    "# plt.show()\n",
    "\n",
    "# plt.plot(sol.t, p_electrica(n_e_mean(sol.y[0]), T_e(sol.y[0], R_cl_ini), x_cl, R_cl_ini), label = \"p_electrica(t)\")\n",
    "# plt.legend()\n",
    "# plt.show()"
   ]
  },
  {
   "cell_type": "code",
   "execution_count": 25,
   "metadata": {},
   "outputs": [
    {
     "name": "stdout",
     "output_type": "stream",
     "text": [
      "Radio máximo:  0.7948251773046968  cm\n",
      "Tiempo al que se da el radio máximo:  0.0007372348544479772  s\n",
      "Radio teórico: 0.1 cm\n",
      "Tiempo al que se da el radio máximo:  0.00009 s approx 0.0001 s \n"
     ]
    }
   ],
   "source": [
    "#Radio máximo\n",
    "print(\"Radio máximo: \", max(sol.y[0]), \" cm\")\n",
    "#Tiempo al que se da el radio máximo\n",
    "print(\"Tiempo al que se da el radio máximo: \", sol.t[np.argmax(sol.y[0])], \" s\")\n",
    "\n",
    "#Radio teórico\n",
    "print(\"Radio teórico: 0.1 cm\")\n",
    "#Tiempo teórico\n",
    "print(\"Tiempo al que se da el radio máximo:  0.00009 s approx 0.0001 s \")\n",
    "\n",
    "#Radio máximo:  0.7964667611350028  cm\n",
    "#sin , rtol = rtol, atol = rtol: 0.7906010999088974  cm\n",
    "#RK4 Radio máximo:  0.801649547052475  cm\n",
    "#RK4 sin rtol: Radio máximo:  0.7965458768602968  cm\n",
    "\n"
   ]
  },
  {
   "cell_type": "code",
   "execution_count": 161,
   "metadata": {},
   "outputs": [],
   "source": [
    "#Cálculo de energía\n",
    "\n",
    "def Energia_teo(R_cl,x):\n",
    "    return (N_e_max_1b*n_bubston)**2*q_e**2/(4*x*R_cl)\n",
    "\n",
    "\n",
    "def Energia_exp():\n",
    "    #Para cada valor de R tengo que calcular la presión y multiplicarla por el diferencial de volumen\n",
    "    p_e_array = np.zeros(len(sol.t))\n",
    "    for i in range(len(sol.t)):\n",
    "        R = sol.y[0][i]\n",
    "        x_cl = x(T_e(R), R_cl_ini, N_e_max_1b*n_bubston)\n",
    "        p_e_array[i] = (p_electrica(n_e_mean(R), T_e(R), x_cl, R))\n",
    "\n",
    "    \n",
    "    #Para cada dV calculo la presión promedio y la energía como el producto de la presión con el volumen\n",
    "    Energia = 0\n",
    "    for j in range(len(sol.t)-1):\n",
    "        dV = 4/3*pi*(sol.y[0][j+1]**3 - sol.y[0][j]**3)\n",
    "        p_e_prom = (p_e_array[j+1] + p_e_array[j])/2\n",
    "        Energia = Energia + dV*p_e_prom\n",
    "    return Energia\n",
    "\n"
   ]
  },
  {
   "cell_type": "code",
   "execution_count": 165,
   "metadata": {},
   "outputs": [
    {
     "name": "stdout",
     "output_type": "stream",
     "text": [
      "Energía teórica:  6311.678551035401  erg\n",
      "Energía experimental:  3805612.243489969  erg\n",
      "Cociente de energías:  602.9477282022983\n"
     ]
    }
   ],
   "source": [
    "print(\"Energía teórica: \", Energia_teo(R_cl_ini, 17.9), \" erg\")\n",
    "print(\"Energía experimental: \", Energia_exp(), \" erg\")\n",
    "print(\"Cociente de energías: \",  Energia_exp()/Energia_teo(R_cl_ini, 17.9)) "
   ]
  },
  {
   "cell_type": "code",
   "execution_count": null,
   "metadata": {},
   "outputs": [],
   "source": []
  },
  {
   "cell_type": "markdown",
   "metadata": {},
   "source": [
    "## (II) Evolución de cluster\n",
    "\n",
    "Me olvido de las cuentas que hice antes y arranco desde cero. El objetivo es calcular la dinámica del cluster hasta que se llega a Rmax y ver si obtengo el mismo Rmax que el paper.\n",
    "\n",
    "A diferencia del caso anterior suponemos que durante la evolución del sistema solo hay presión hidrostática (suponiendo a su vez que la burbuja tiene vacío dentro). Mientras que la presión de electrones sólo está presente a t=0 y se convierte enteramente en energía cinética. Esto está en concordancia con la fórmula de Willis"
   ]
  },
  {
   "cell_type": "code",
   "execution_count": 11,
   "metadata": {},
   "outputs": [],
   "source": [
    "#Importo librerías\n",
    "import numpy as np\n",
    "from math import pi\n",
    "from scipy.integrate import solve_ivp\n",
    "import matplotlib.pyplot as plt\n",
    "from scipy.integrate import quad #Para calcular integrales numéricamente\n",
    "from scipy.optimize import fsolve #Para resolver ecuaciones algebráicas numéricamente\n"
   ]
  },
  {
   "cell_type": "code",
   "execution_count": 12,
   "metadata": {},
   "outputs": [],
   "source": [
    "#Defino parámetros\n",
    "\n",
    "q_e = -1.602176634e-19 #carga del electrón en [Coulomb]\n",
    "q_e = q_e*(1/3.336641e-10) #en [Fr] (CGS). Conversión (C)*(Fr/3.336641e-10 C)\n",
    "\n",
    "rho_L_i = 1101.8 #densidad del líquido en la superficie de la burbuja en [kg/m3] para agua D2O a Tinf=35+273.15. Lo copié del código de Gabriela. \n",
    "rho_L_i = rho_L_i*(1/100)**3*(1000) #en [g/cm3] (CGS). Conversión (kg/m3)*(1m/100cm)^3*(1000g/1Kg)\n",
    "rho_L_inf = rho_L_i #densidad del líquido en el infinito. A priori considero rho_L_inf = rho_L_i\n",
    "\n",
    "rho_Bunkin = rho_L_inf #densidad del líquido\n",
    "\n",
    "n_bubston = 1e8 #nro de bubston que forman un cluster\n",
    "\n",
    "R0_1b = 1e-6 #radio inicial de un bubston en [cm]\n",
    "R_cl_ini = 1e-2 #radio inicial del cluster en [cm]\n",
    "\n",
    "N_e_max_1b = 1.4e3 #nro máximo de electrones en un bubston\n",
    "\n",
    "T_e_ini = 2 #temperatura inicial de los electrones a R0_1b [eV]\n",
    "T_e_ini = T_e_ini*(1.602176565e-19)*(1/1e-7) #en [erg] (CGS). Conversión (1ev)(1.602176565e-19J/1ev)*(1erg/1e-7 J)\n",
    "\n",
    "p_inf = 1 #0.925 #Presión ambiente en el infinito en [atm]. Son 0.925 atm correspondientes a Bariloche. \n",
    "p_inf = p_inf*(101325)*(1/0.1) #en [baria] (CGS). Conversión: (atm)(101325 Pa/atm)(baria/ 0.1 Pa)\n",
    "p0 = p_inf"
   ]
  },
  {
   "cell_type": "markdown",
   "metadata": {},
   "source": [
    "### Cálculo de la energía cinética a t=0\n",
    "\n",
    "Asumo que la energía coulombiana (expresión anterior a la 27) se convierte eneteramente en energía cinética. La expresión de la energía cinética está dada antes de 2.29 del libro The Acustic Bubble de T.G.Leighton y es $E_{cin} = 2 \\pi \\rho v_R^2 R^3$"
   ]
  },
  {
   "cell_type": "code",
   "execution_count": 26,
   "metadata": {},
   "outputs": [
    {
     "data": {
      "text/plain": [
       "17.97444125009335"
      ]
     },
     "execution_count": 26,
     "metadata": {},
     "output_type": "execute_result"
    }
   ],
   "source": [
    "def Vol(R):\n",
    "    #Calcula el volumen de una esfera de radio R\n",
    "    return 4/3*pi*R**3\n",
    "\n",
    "def n_e_mean(R):\n",
    "    #Densidad media de los electrones. En el modelo de Bunkin se asume que en un tiempo muy corto cada bubston alcanza el valor máximo de electrones. Luego, cuando se forma el cluster, se tienen n_bubston*N_emax_1bubston electrones\n",
    "    return  N_e_max_1b*n_bubston/Vol(R)\n",
    "\n",
    "def T_e(R):\n",
    "    #Asumo que para la evolución del cluster sigue valiendo la aproximación de régimen autoconsistente\n",
    "\n",
    "    #Está hecho para que a R = R_cl_ini obtenga 0.1 ev. De este modo, se está asumiendo que los electrones del cluster están a la misma temperatura que los electrones en la máxima expansión de cada bubston.\n",
    "    return 0.1*(1.602176565e-19)*(1/1e-7)\n",
    "    return 0.1*(1.602176565e-19)*(1/1e-7)*(R_cl_ini/R)\n",
    "    # return T_e_ini*(R0_1b/R)\n",
    "\n",
    "def x(T_e, R0, Ne):\n",
    "\n",
    "    def ec_9(x):\n",
    "        #Expresión (9) del paper de Bunkin tal que está igualada a cero\n",
    "        return np.log(3*Ne*q_e**2/(T_e*R0)) + np.log(1/(1-1/x)) - x\n",
    "\n",
    "    return fsolve(ec_9, 2)[0]\n",
    "\n",
    "x(T_e_ini*(R0_1b/(20*R0_1b)), R_cl_ini, N_e_max_1b*n_bubston)\n"
   ]
  },
  {
   "cell_type": "code",
   "execution_count": 27,
   "metadata": {},
   "outputs": [],
   "source": [
    "def p_coulomb(n_e_mean, x, R):\n",
    "    #Presión de coulomb calculada a partir de la expresión anterior a la (17) del paper de Bunkin\n",
    "    #n_e_mean es la densidad media de electrones\n",
    "    #T_e es la temperatura de los electrones\n",
    "    #x es un parámetros que depende de la densidad de electrones. Es un numerito\n",
    "    #R_ini es el radio inicial de la burbuja. En el caso de la evolución del cluster es el radio inicial del cluster R_ini_cl\n",
    "    return (2/3)*n_e_mean*(x/3)*(pi*((x-1)/x)**2*((q_e*R)**2*n_e_mean))"
   ]
  },
  {
   "cell_type": "code",
   "execution_count": 31,
   "metadata": {},
   "outputs": [
    {
     "name": "stdout",
     "output_type": "stream",
     "text": [
      "6263.723883853653\n",
      "30079.80276947704\n"
     ]
    }
   ],
   "source": [
    "#Calculo la energía cinética a t=0\n",
    "# def W_coulomb(R_cl):\n",
    "#     #Calculo la energía de coulomb a partir de la expresión anterior a la (27) del Bunkin\n",
    "    \n",
    "#     return\n",
    "#Energía coulombiana debido a p_coulomb que es distinta a p_e\n",
    "\n",
    "\n",
    "# def W_coulomb(R_cl_ini):\n",
    "#     x_cl_ini = x(T_e(R_cl_ini), R_cl_ini, N_e_max_1b*n_bubston)\n",
    "#     def f(r):\n",
    "#         #Función a integrar para obtener la energía\n",
    "#         return 8*pi/2*p_coulomb(n_e_mean(R_cl_ini), x_cl_ini, r)*r**2\n",
    "#     return quad(f,0.0,R_cl_ini)[0]\n",
    "\n",
    "def W_coulomb(R_cl_ini):\n",
    "\n",
    "    #Calculo x\n",
    "    x_cl_ini = x(T_e(R_cl_ini), R_cl_ini, N_e_max_1b*n_bubston)\n",
    "    #Calculo electron Debye Radius\n",
    "    a_e = R_cl_ini/x_cl_ini\n",
    "\n",
    "    #Defino el campo eléctrico a partir de la expresión (16)\n",
    "    def E(r):\n",
    "        return 2*T_e(R_cl_ini)*a_e/(3*q_e*r**2)*(np.sinh(r/a_e) - (r/a_e)*np.cosh(r/a_e))\n",
    "    \n",
    "    #Defino la función a integrar para calcular W_coulomb\n",
    "    def f(r):\n",
    "        return r**2*E(r)**2\n",
    "\n",
    "    #Integro\n",
    "    return 1/2*quad(f,0,R_cl_ini)[0]\n",
    "\n",
    "\n",
    "\n",
    "print(W_coulomb(R_cl_ini))\n",
    "\n",
    "# W_coulomb = 6.3e3 # [ergios] (CGS)\n",
    "\n",
    "#Calculo la volocidad a t=0 a partir de la igualdad E_cin = W_coulomb\n",
    "v_R0 = np.sqrt(W_coulomb(R_cl_ini)/(2*pi*rho_Bunkin*R_cl_ini**3))\n",
    "print(v_R0)\n"
   ]
  },
  {
   "cell_type": "markdown",
   "metadata": {},
   "source": [
    "### Ecuación diferencial"
   ]
  },
  {
   "cell_type": "code",
   "execution_count": 32,
   "metadata": {},
   "outputs": [],
   "source": [
    "#Defino la ecuación diferencial\n",
    "\n",
    "def dydt(t,y):\n",
    "    #Sistema de ecuaciones de primer orden para la evolución del radio en función del tiempo. Entiéndase y = (R, Rp) = (R, v_R)\n",
    "    v_R = y[1]\n",
    "    R = y[0]\n",
    "\n",
    "    #Expreso dydt_0 = dR/dt = v_R\n",
    "    dydt_0 = v_R\n",
    "\n",
    "    #Para dydt_2 = d(v_R/dt) = d2(R)/dt2 hay 2 posibilidades\n",
    "    #(1) usar la ecuación diferencial de la tesis de Gabriela\n",
    "    #(2) usar la ecuación diferencial del paper de Bunkin que es una aproximación de la ecuación diferencial de Gabriela\n",
    "\n",
    "    dydt_1 = ((-p0)/(rho_Bunkin) - 3/2*v_R**2)/R\n",
    "\n",
    "    return [dydt_0, dydt_1]"
   ]
  },
  {
   "cell_type": "markdown",
   "metadata": {},
   "source": [
    "### Solución numérica"
   ]
  },
  {
   "cell_type": "code",
   "execution_count": 37,
   "metadata": {},
   "outputs": [],
   "source": [
    "#Resuelvo el sistema dy/dt usando solve_ivp\n",
    "t_ini = 0\n",
    "t_max = 0.002 #200e-5 #2.5e-6 #70 ns\n",
    "\n",
    "y_ini = [R_cl_ini, v_R0] #Condición inicial\n",
    "rtol = 1e-12 #tolerancia relativa para el método numérico\n",
    "sol = solve_ivp(dydt, [t_ini, t_max], y_ini, method = \"DOP853\", rtol = rtol, atol = rtol)\n",
    "#asumo que el problema no es stiff\n"
   ]
  },
  {
   "cell_type": "code",
   "execution_count": 38,
   "metadata": {},
   "outputs": [
    {
     "data": {
      "image/png": "[encoded data removed]",
      "text/plain": [
       "<Figure size 432x288 with 1 Axes>"
      ]
     },
     "metadata": {
      "needs_background": "light"
     },
     "output_type": "display_data"
    },
    {
     "data": {
      "image/png": "[encoded data removed]",
      "text/plain": [
       "<Figure size 432x288 with 1 Axes>"
      ]
     },
     "metadata": {
      "needs_background": "light"
     },
     "output_type": "display_data"
    }
   ],
   "source": [
    "#Grafico\n",
    "plt.plot(sol.t, sol.y[0], label = \"R(t)\")\n",
    "plt.legend()\n",
    "plt.show()\n",
    "\n",
    "plt.plot(sol.t, sol.y[1], label = \"v_R(t)\")\n",
    "plt.legend()\n",
    "plt.show()\n",
    "\n",
    "# plt.plot(sol.t, p_electrica(n_e_mean(sol.y[0]), T_e(sol.y[0], R_cl_ini), x_cl, R_cl_ini), label = \"p_electrica(t)\")\n",
    "# plt.legend()\n",
    "# plt.show()"
   ]
  },
  {
   "cell_type": "code",
   "execution_count": 39,
   "metadata": {},
   "outputs": [
    {
     "name": "stdout",
     "output_type": "stream",
     "text": [
      "Radio máximo:  0.11387350277376078  cm\n",
      "Tiempo al que se da el radio máximo:  0.00010740911096376285  s\n",
      "Radio teórico: 0.1 cm\n",
      "Tiempo al que se da el radio máximo:  0.00009 s approx 0.0001 s \n"
     ]
    }
   ],
   "source": [
    "#Radio máximo\n",
    "print(\"Radio máximo: \", max(sol.y[0]), \" cm\")\n",
    "#Tiempo al que se da el radio máximo\n",
    "print(\"Tiempo al que se da el radio máximo: \", sol.t[np.argmax(sol.y[0])], \" s\")\n",
    "\n",
    "#Radio teórico\n",
    "print(\"Radio teórico: 0.1 cm\")\n",
    "#Tiempo teórico\n",
    "print(\"Tiempo al que se da el radio máximo:  0.00009 s approx 0.0001 s \")\n",
    "\n",
    "#Radio máximo:  0.7964667611350028  cm\n",
    "#sin , rtol = rtol, atol = rtol: 0.7906010999088974  cm\n",
    "#RK4 Radio máximo:  0.801649547052475  cm\n",
    "#RK4 sin rtol: Radio máximo:  0.7965458768602968  cm\n"
   ]
  },
  {
   "cell_type": "markdown",
   "metadata": {},
   "source": [
    "#### Comentarios\n",
    "* Usando W_coulomb = 6.3e3 # [ergios] (CGS) obtengo R_max = 0.11 cm a t = 0.00011 s.\n",
    "* Haciendo la cuenta para obtener W_coulomb = 6.263e [ergios] (CGS) obtengo lo mismo.\n",
    "\n",
    "\n",
    "OBTENGO EL RESULTADO DEL BUNKIN!!"
   ]
  },
  {
   "cell_type": "code",
   "execution_count": null,
   "metadata": {},
   "outputs": [],
   "source": []
  }
 ],
 "metadata": {
  "kernelspec": {
   "display_name": "Python 3.9.12 ('Maestria')",
   "language": "python",
   "name": "python3"
  },
  "language_info": {
   "codemirror_mode": {
    "name": "ipython",
    "version": 3
   },
   "file_extension": ".py",
   "mimetype": "text/x-python",
   "name": "python",
   "nbconvert_exporter": "python",
   "pygments_lexer": "ipython3",
   "version": "3.9.12"
  },
  "orig_nbformat": 4,
  "vscode": {
   "interpreter": {
    "hash": "cb1dcd6e0b4bfbec9d527d1ab7c6c7d4b743ae11c2e9f2e62e6759bb0aaa74ae"
   }
  }
 },
 "nbformat": 4,
 "nbformat_minor": 2
}
