{
 "cells": [
  {
   "cell_type": "markdown",
   "metadata": {},
   "source": [
    "## R(t)\n",
    "Calculo la evolución del bubston desde que tiene N_{e max} electrones hasta que el cluster formado por n_bubstons está en su máxima expansión.\n",
    "\n",
    "La diferencia con el archivo _old es que en aquel tengo cuentas extras mal hechas y, además, las hice con algunos errores (factores 2/3) debido a los errores que encontré en el paper de Bunkin\n",
    "\n",
    "El programa está construido en el sistema de unidades CGS:\n",
    "https://es.wikipedia.org/wiki/Sistema_Cegesimal_de_Unidades"
   ]
  },
  {
   "cell_type": "code",
   "execution_count": 133,
   "metadata": {},
   "outputs": [],
   "source": [
    "#Importo librerías\n",
    "import numpy as np\n",
    "import matplotlib.pyplot as plt\n",
    "from scipy.integrate import solve_ivp\n",
    "\n",
    "from math import pi"
   ]
  },
  {
   "cell_type": "markdown",
   "metadata": {},
   "source": [
    "### Evolución desde N_{e max} hasta R = R1\n",
    "\n",
    "Parto de un bubston con radio R_0, temperatura T_e = Delta/3 y N_{e max} electrones en su interior. Calculo evolución del radio a partir de la ecuación fluidodinámica, empleando como presión la presión eléctrica"
   ]
  },
  {
   "cell_type": "code",
   "execution_count": 134,
   "metadata": {},
   "outputs": [],
   "source": [
    "#En CGS:\n",
    "#Parámetros de la ecuación diferencial\n",
    "p_inf = 0.925 #Presión ambiente en el infinito en [atm]. Son 0.925 atm correspondientes a Bariloche. \n",
    "p_inf = p_inf*(101325)*(1/0.1) #en [baria] (CGS). Conversión: (atm)(101325 Pa/atm)(baria/ 0.1 Pa)\n",
    "c_L = 1415.1 #velocidad del sonido del líquido en [m/s] para agua D2O a Tinf=35+273.15. Lo copié del código de Gabriela.\n",
    "c_L = c_L*100 #en [cm/s] (CGS). Conversión (m/s)*(100 cm/m)\n",
    "rho_L = 1101.8 #densidad del líquido en la superficie de la burbuja en [kg/m3] para agua D2O a Tinf=35+273.15. Lo copié del código de Gabriela. \n",
    "rho_L = rho_L*(1/100)**3*(1000) #en [g/cm3] (CGS). Conversión (kg/m3)*(1m/100cm)^3*(1000g/1Kg)\n",
    "\n",
    "#Parámetros de la presión eléctrica p_e\n",
    "#Condiciones iniciales de la ecuación diferencial\n",
    "Delta = 6 #Energía mecánica para arrancar un electrón de la pared en [eV]\n",
    "T_e_bubs_ini = Delta/3 #Temperatura de los electrones dentro de la burbuja en [eV]. Conversión: (ev)*()\n",
    "T_e_bubs_ini = T_e_bubs_ini*(1.602176565e-19)*(1/1e-7) #en [erg] (CGS). Conversión (1ev)(1.602176565e-19J/1ev)*(1erg/1e-7 J)\n",
    "\n",
    "q_e = -1.602176634e-19 #carga del electrón en [Coulomb]\n",
    "q_e = q_e*(1/3.336641e-10) #en [Fr] (CGS). Conversión (C)*(Fr/3.336641e-10 C)\n",
    "\n",
    "R0 = 1e-6 #Radio inicial de un bubston en [cm]. Este valor lo saqué del supuesto inicial del Bunkin\n"
   ]
  },
  {
   "cell_type": "code",
   "execution_count": 158,
   "metadata": {},
   "outputs": [],
   "source": [
    "#Defino la temperatura (régimen de autoconsistencia)\n",
    "def T_e(R):\n",
    "    return T_e_bubs_ini*R0/R"
   ]
  },
  {
   "cell_type": "code",
   "execution_count": 159,
   "metadata": {},
   "outputs": [],
   "source": [
    "#Defino el nro máximo de electrones\n",
    "def N_emax(R):\n",
    "    return 64/9*(T_e(R)*R/q_e**2)**2"
   ]
  },
  {
   "cell_type": "code",
   "execution_count": 162,
   "metadata": {},
   "outputs": [],
   "source": [
    "#Defino electron Debye radius a_e\n",
    "#a_e es solución de la ecuación de N_e asumiendo que N_e está dado por T_e, R0 y q_e al considerar x grande\n",
    "\n",
    "from scipy.optimize import fsolve\n",
    "\n",
    "def x(R):\n",
    "    def ec_de_x(x):\n",
    "        return T_e(R)*R/q_e**2*(x*np.cosh(x)- np.sinh(x))/(x) - N_emax(R)\n",
    "    return fsolve(ec_de_x, 6)[0]\n",
    "\n",
    "def a_e(R):\n",
    "    return R/x(R)\n"
   ]
  },
  {
   "cell_type": "code",
   "execution_count": 164,
   "metadata": {},
   "outputs": [],
   "source": [
    "#Defino la densidad de electrones\n",
    "\n",
    "def Vol(R):\n",
    "    return 4/3*pi*R**3\n",
    "\n",
    "def n_e0(R):\n",
    "    #En r = 0, pero depende del valor en la pared de la burbuja\n",
    "    return T_e(R)/(4*pi*q_e**2*a_e(R)**2)\n",
    "\n",
    "def n_e_R(R):\n",
    "    #en la pared de la burbuja\n",
    "    return n_e0(R)*np.sinh(R/a_e(R))/(R/a_e(R))\n",
    "\n",
    "def n_e_mean(R):\n",
    "    #promedio:\n",
    "    return N_emax(R)/Vol(R)\n"
   ]
  },
  {
   "cell_type": "code",
   "execution_count": 168,
   "metadata": {},
   "outputs": [],
   "source": [
    "#Defino el campo eléctrico\n",
    "\n",
    "def E(R):\n",
    "    ae = a_e(R)\n",
    "    x = R/ae\n",
    "    return T_e(R)*ae/(q_e*R**2)*(np.sinh(x) - (x)*np.cosh(x))"
   ]
  },
  {
   "cell_type": "code",
   "execution_count": 169,
   "metadata": {},
   "outputs": [],
   "source": [
    "#Defino la presión eléctrica\n",
    "\n",
    "def p_gas(R):\n",
    "    return 2/3*n_e_R(R)*T_e(R)\n",
    "\n",
    "def p_coul(R):\n",
    "    return E(R)**2/(8*pi)\n",
    "\n",
    "def p_e(R):\n",
    "    return p_gas(R) + p_coul(R)"
   ]
  },
  {
   "cell_type": "code",
   "execution_count": 170,
   "metadata": {},
   "outputs": [
    {
     "data": {
      "image/png": "[encoded data removed]",
      "text/plain": [
       "<Figure size 432x288 with 1 Axes>"
      ]
     },
     "metadata": {
      "needs_background": "light"
     },
     "output_type": "display_data"
    }
   ],
   "source": [
    "#Grafico la presión en función del radio\n",
    "R_array = R0*np.linspace(1,10)\n",
    "p_e_array = np.zeros(len(R_array))\n",
    "for i in range(len(R_array)):\n",
    "    p_e_array[i] = E(R_array[i])\n",
    "\n",
    "plt.plot(R_array, p_e_array, label = \"p_e(t)\")\n",
    "plt.legend()\n",
    "plt.show()\n"
   ]
  },
  {
   "cell_type": "markdown",
   "metadata": {},
   "source": [
    "#### Sistema de ecuaciones diferenciales"
   ]
  },
  {
   "cell_type": "code",
   "execution_count": 171,
   "metadata": {},
   "outputs": [],
   "source": [
    "def dydt(t,y):\n",
    "    #Sistema de ecuaciones de primer orden para la evolución del radio en función del tiempo. Entiéndase y = (R, Rp) = (R, v_R)\n",
    "    v_R = y[1]\n",
    "    R = y[0]\n",
    "\n",
    "    #Expreso dydt_0 = dR/dt = v_R\n",
    "    dydt_0 = v_R\n",
    "\n",
    "    #Expreso dydt_2 = d(v_R/dt) = d2(R)/dt2\n",
    "    dydt_1 = (p_e(R)/rho_L - 3/2*v_R**2)/R\n",
    "\n",
    "    return [dydt_0, dydt_1]\n",
    "\n",
    "\n"
   ]
  },
  {
   "cell_type": "code",
   "execution_count": 176,
   "metadata": {},
   "outputs": [],
   "source": [
    "#Resuelvo el sistema dy/dt usando solve_ivp\n",
    "t_ini = 0\n",
    "t_max = 5e-9 #70 ns\n",
    "y_ini = [R0, 0] #Condición inicial\n",
    "rtol = 1e-12 #tolerancia relativa para el método numérico\n",
    "sol = solve_ivp(dydt, [t_ini, t_max], y_ini, method = \"DOP853\", rtol = rtol, atol = rtol)\n",
    "#asumo que el problema no es stiff\n"
   ]
  },
  {
   "cell_type": "code",
   "execution_count": 177,
   "metadata": {},
   "outputs": [
    {
     "data": {
      "image/png": "[encoded data removed]",
      "text/plain": [
       "<Figure size 432x288 with 1 Axes>"
      ]
     },
     "metadata": {
      "needs_background": "light"
     },
     "output_type": "display_data"
    },
    {
     "data": {
      "image/png": "[encoded data removed]",
      "text/plain": [
       "<Figure size 432x288 with 1 Axes>"
      ]
     },
     "metadata": {
      "needs_background": "light"
     },
     "output_type": "display_data"
    },
    {
     "data": {
      "image/png": "[encoded data removed]",
      "text/plain": [
       "<Figure size 432x288 with 1 Axes>"
      ]
     },
     "metadata": {
      "needs_background": "light"
     },
     "output_type": "display_data"
    }
   ],
   "source": [
    "#Grafico\n",
    "plt.plot(sol.t, sol.y[0]/R0, label = \"R(t)/R0\")\n",
    "plt.legend()\n",
    "plt.show()\n",
    "\n",
    "plt.plot(sol.t, sol.y[1], label = \"v_R(t)\")\n",
    "plt.legend()\n",
    "plt.show()\n",
    "\n",
    "p_e_array = np.zeros(len(sol.t))\n",
    "for i in range(len(sol.t)):\n",
    "    p_e_array[i] = p_e(sol.y[0][i])\n",
    "\n",
    "plt.plot(sol.t, p_e_array, label = \"p_e(t)\")\n",
    "plt.legend()\n",
    "plt.show()\n"
   ]
  },
  {
   "cell_type": "markdown",
   "metadata": {},
   "source": [
    "### Evolución desde formación del cluster instantánea hasta máxima expansión"
   ]
  }
 ],
 "metadata": {
  "kernelspec": {
   "display_name": "Python 3.9.12 ('Maestria')",
   "language": "python",
   "name": "python3"
  },
  "language_info": {
   "codemirror_mode": {
    "name": "ipython",
    "version": 3
   },
   "file_extension": ".py",
   "mimetype": "text/x-python",
   "name": "python",
   "nbconvert_exporter": "python",
   "pygments_lexer": "ipython3",
   "version": "3.9.12"
  },
  "orig_nbformat": 4,
  "vscode": {
   "interpreter": {
    "hash": "cb1dcd6e0b4bfbec9d527d1ab7c6c7d4b743ae11c2e9f2e62e6759bb0aaa74ae"
   }
  }
 },
 "nbformat": 4,
 "nbformat_minor": 2
}
