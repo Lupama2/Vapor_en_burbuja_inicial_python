{
 "cells": [
  {
   "cell_type": "markdown",
   "metadata": {},
   "source": [
    "## R(t)\n",
    "\n",
    "Calculo la evolución del bubston desde que tiene N_{e max} electrones hasta que el cluster formado por n_bubstons está en su máxima expansión.\n",
    "\n",
    "La diferencia con el archivo _old es que en aquel tengo cuentas extras mal hechas y, además, las hice con algunos errores (factores 2/3) debido a los errores que encontré en el paper de Bunkin\n",
    "Además, intenté juntar todas las evoluciones empleando las mismas funciones\n",
    "\n",
    "El programa está construido en el sistema de unidades CGS:\n",
    "https://es.wikipedia.org/wiki/Sistema_Cegesimal_de_Unidades\n"
   ]
  },
  {
   "cell_type": "code",
   "execution_count": 351,
   "metadata": {},
   "outputs": [],
   "source": [
    "#Importo librerías\n",
    "import numpy as np\n",
    "import matplotlib.pyplot as plt\n",
    "from scipy.integrate import solve_ivp\n",
    "from scipy.integrate import quad #Para calcular integrales numéricamente\n",
    "from math import pi\n",
    "from scipy.optimize import fsolve #Para resolver ecuaciones algebraicas"
   ]
  },
  {
   "cell_type": "markdown",
   "metadata": {},
   "source": [
    "### Parámetros generales"
   ]
  },
  {
   "cell_type": "code",
   "execution_count": 352,
   "metadata": {},
   "outputs": [],
   "source": [
    "#En CGS:\n",
    "#Parámetros de la ecuación diferencial\n",
    "p_inf = 0.925 #Presión ambiente en el infinito en [atm]. Son 0.925 atm correspondientes a Bariloche. \n",
    "p_inf = p_inf*(101325)*(1/0.1) #en [baria] (CGS). Conversión: (atm)(101325 Pa/atm)(baria/ 0.1 Pa)\n",
    "c_L = 1415.1 #velocidad del sonido del líquido en [m/s] para agua D2O a Tinf=35+273.15. Lo copié del código de Gabriela.\n",
    "c_L = c_L*100 #en [cm/s] (CGS). Conversión (m/s)*(100 cm/m)\n",
    "rho_L = 1101.8 #densidad del líquido en la superficie de la burbuja en [kg/m3] para agua D2O a Tinf=35+273.15. Lo copié del código de Gabriela. \n",
    "rho_L = rho_L*(1/100)**3*(1000) #en [g/cm3] (CGS). Conversión (kg/m3)*(1m/100cm)^3*(1000g/1Kg)\n",
    "\n",
    "#Parámetros de la presión eléctrica p_e\n",
    "#Condiciones iniciales de la ecuación diferencial\n",
    "Delta = 6 #Energía mecánica para arrancar un electrón de la pared en [eV]\n",
    "T_e_bubs_ini = Delta/3 #Temperatura de los electrones dentro de la burbuja en [eV]. Conversión: (ev)*()\n",
    "T_e_bubs_ini = T_e_bubs_ini*(1.602176565e-19)*(1/1e-7) #en [erg] (CGS). Conversión (1ev)(1.602176565e-19J/1ev)*(1erg/1e-7 J)\n",
    "\n",
    "q_e = -1.602176634e-19 #carga del electrón en [Coulomb]\n",
    "q_e = q_e*(1/3.336641e-10) #en [Fr] (CGS). Conversión (C)*(Fr/3.336641e-10 C)\n",
    "\n",
    "R0 = 1e-6 #Radio inicial de un bubston en [cm]. Este valor lo saqué del supuesto inicial del Bunkin\n",
    "\n",
    "\n",
    "#Parámetros para determinar el radio de Debye de un electrolito dentro de un líquido\n",
    "# T_L = 35+273.15 #temperatura del líquido. La obtuve del código de Gabriela. A este valor corresponden rho_L y c_L\n",
    "# Epsilon0 = 8.8541878128e-12 # Permitividad del vacío en [F/m] (SI)\n",
    "# Epsilon0 = Epsilon0*(1/100)*(1/1.113e-12) #en [cm] (CGS). Conversión (F/m)*(1m/100cm)*(1cm/1.113e-12F) En CGS el \"cm\" es una medida de capacidad eléctrica (F faradio en SI)\n",
    "# Epsilon_L = 80.2*Epsilon0 #ESTE VALOR LO SAQUÉ DE WIKIPEDIA. DEPENDE DE T y se puede mejorar\n",
    "# n_i0 =  3e15 #en [cm^-3] (CGS). No sé qué representa, se puede mejorar\n",
    "\n",
    "\n",
    "a_i = 2e-5 #radio de Debye de un electrolito dentro de un líquido en [cm]. Valor extraído del Bunkin\n",
    "R1 = a_i #radio de los bubstons tal que comienzan a tocarse entre sí\n",
    "\n",
    "#Parámetros del cluster\n",
    "N_bubston = 1e8 #nro de bubston dentro de un cluster. Valor extraído del Bunkin\n",
    "\n",
    "Beta = 0.74 #Factor de empaquetamiento de los bubstons en el cluster. Valor extraído del Bunkin\n",
    "R_cl_ini = a_i*(N_bubston/Beta)**(1/3) #radio inicial del núcleo formado por N_bubston bubstons en [cm] (CGS)\n"
   ]
  },
  {
   "cell_type": "markdown",
   "metadata": {},
   "source": [
    "### Evolución desde $N_{e max}$ hasta R = R1\n",
    "\n",
    "Parto de un bubston con radio R_0, temperatura T_e = Delta/3 y N_{e max} electrones en su interior. Calculo evolución del radio a partir de la ecuación fluidodinámica, empleando como presión la presión eléctrica. En base a que el proceso es cuasiestático (suposición de Bunkin), se consideró que todos los parámetros que dependen de R0 ahora lo hacen de R (radio de la burbuja)"
   ]
  },
  {
   "cell_type": "markdown",
   "metadata": {},
   "source": [
    "#### Definición de funciones"
   ]
  },
  {
   "cell_type": "code",
   "execution_count": 353,
   "metadata": {},
   "outputs": [],
   "source": [
    "def T_e(R):\n",
    "    #Temperatura bajo el régimen de autoconsistencia\n",
    "    return T_e_bubs_ini*R0/R"
   ]
  },
  {
   "cell_type": "code",
   "execution_count": 354,
   "metadata": {},
   "outputs": [],
   "source": [
    "def N_emax(R):\n",
    "    #Nro máximo de electrones\n",
    "    return 64/9*(T_e(R)*R/q_e**2)**2"
   ]
  },
  {
   "cell_type": "code",
   "execution_count": 355,
   "metadata": {},
   "outputs": [],
   "source": [
    "def x(R):\n",
    "    #factor x = R/a_e. Resulta ser el mismo que el factor x del Bunkin. Recordar que por consideraciones cuasiestáticas lo que antes dependía de R0 ahora lo hace de R.\n",
    "    def ec_de_x(x):\n",
    "        #Esta ec está definida en el Bunkin\n",
    "        return T_e(R)*R/q_e**2*(x*np.cosh(x)- np.sinh(x))/(x) - N_emax(R)\n",
    "    return fsolve(ec_de_x, 4)[0]\n",
    "\n",
    "def a_e(R):\n",
    "    #Electron Debye Radius. a_e es solución de la ecuación de N_e asumiendo que N_e está dado por T_e, R0 y q_e al considerar x grande\n",
    "    return R/x(R)\n"
   ]
  },
  {
   "cell_type": "code",
   "execution_count": 356,
   "metadata": {},
   "outputs": [],
   "source": [
    "#Defino la densidad de electrones\n",
    "\n",
    "def Vol(R):\n",
    "    #Volumen de una esfera del radio R\n",
    "    return 4/3*pi*R**3\n",
    "\n",
    "def n_e0(R):\n",
    "    #Densidad en r = 0\n",
    "    #R: radio de la burbuja\n",
    "    return T_e(R)/(4*pi*q_e**2*a_e(R)**2)\n",
    "\n",
    "def n_e_R(R):\n",
    "    #Densidad en r = R\n",
    "    #R: radio de la burbuja\n",
    "    return n_e0(R)*np.sinh(R/a_e(R))/(R/a_e(R))\n",
    "\n",
    "def n_e_mean(R):\n",
    "    #Densidad promedio en la burbuja\n",
    "    #R: radio de la burbuja\n",
    "    return N_emax(R)/Vol(R)\n"
   ]
  },
  {
   "cell_type": "code",
   "execution_count": 357,
   "metadata": {},
   "outputs": [],
   "source": [
    "def E(R):\n",
    "    #Campo eléctrico debido a la distribución de carga. No es la misma expresión que el Bunkin porque en el Bunkin están mal algunos factores\n",
    "    ae = a_e(R)\n",
    "    x = R/ae\n",
    "    return T_e(R)*ae/(q_e*R**2)*(np.sinh(x) - (x)*np.cosh(x))"
   ]
  },
  {
   "cell_type": "code",
   "execution_count": 358,
   "metadata": {},
   "outputs": [],
   "source": [
    "#Defino la presión eléctrica\n",
    "\n",
    "def p_gas(R):\n",
    "    #Presión producida por el gas de electrones\n",
    "    return 2/3*n_e_R(R)*T_e(R)\n",
    "\n",
    "def p_coul(R):\n",
    "    #Presión electrostática producida por la distribución de carga (electrones)\n",
    "    return E(R)**2/(8*pi)\n",
    "\n",
    "def p_e(R):\n",
    "    #Presión total producida por los electrones\n",
    "    return p_gas(R) + p_coul(R)"
   ]
  },
  {
   "cell_type": "markdown",
   "metadata": {},
   "source": [
    "#### Sistema de ecuaciones diferenciales"
   ]
  },
  {
   "cell_type": "code",
   "execution_count": 360,
   "metadata": {},
   "outputs": [],
   "source": [
    "def dydt(t,y):\n",
    "    #Sistema de ecuaciones de primer orden para la evolución del radio en función del tiempo. Entiéndase y = (R, Rp) = (R, v_R)\n",
    "    v_R = y[1]\n",
    "    R = y[0]\n",
    "\n",
    "    #Expreso dydt_0 = dR/dt = v_R\n",
    "    dydt_0 = v_R\n",
    "\n",
    "    #Expreso dydt_2 = d(v_R/dt) = d2(R)/dt2\n",
    "    dydt_1 = (p_e(R)/rho_L - 3/2*v_R**2)/R\n",
    "\n",
    "    return [dydt_0, dydt_1]\n"
   ]
  },
  {
   "cell_type": "code",
   "execution_count": 361,
   "metadata": {},
   "outputs": [],
   "source": [
    "#Defino la condición de stop de la evolución\n",
    "def event_bubs(t, y):\n",
    "    #Evoluciona hasta que R = R1 = l/2 \\approx a_i\n",
    "    return y[0] - a_i #Da cero cuando la condición ocurre\n"
   ]
  },
  {
   "cell_type": "markdown",
   "metadata": {},
   "source": [
    "#### Resultados"
   ]
  },
  {
   "cell_type": "code",
   "execution_count": 362,
   "metadata": {},
   "outputs": [],
   "source": [
    "#Resuelvo el sistema dy/dt usando solve_ivp\n",
    "t_ini = 0\n",
    "t_max = 5e-9 #70 ns\n",
    "y_ini = [R0, 0] #Condición inicial\n",
    "rtol = 1e-12 #tolerancia relativa para el método numérico\n",
    "sol = solve_ivp(dydt, [t_ini, t_max], y_ini, method = \"DOP853\", rtol = rtol, atol = rtol, events = event_bubs)\n",
    "#asumo que el problema no es stiff\n"
   ]
  },
  {
   "cell_type": "code",
   "execution_count": 363,
   "metadata": {},
   "outputs": [
    {
     "data": {
      "image/png": "[encoded data removed]",
      "text/plain": [
       "<Figure size 432x288 with 1 Axes>"
      ]
     },
     "metadata": {
      "needs_background": "light"
     },
     "output_type": "display_data"
    },
    {
     "data": {
      "image/png": "[encoded data removed]",
      "text/plain": [
       "<Figure size 432x288 with 1 Axes>"
      ]
     },
     "metadata": {
      "needs_background": "light"
     },
     "output_type": "display_data"
    },
    {
     "data": {
      "image/png": "[encoded data removed]",
      "text/plain": [
       "<Figure size 432x288 with 1 Axes>"
      ]
     },
     "metadata": {
      "needs_background": "light"
     },
     "output_type": "display_data"
    }
   ],
   "source": [
    "#Grafico\n",
    "plt.plot(sol.t, sol.y[0]/R0, label = \"R(t)/R0\")\n",
    "plt.legend()\n",
    "plt.show()\n",
    "\n",
    "plt.plot(sol.t, sol.y[1], label = \"v_R(t)\")\n",
    "plt.legend()\n",
    "plt.show()\n",
    "\n",
    "p_e_array = np.zeros(len(sol.t))\n",
    "for i in range(len(sol.t)):\n",
    "    p_e_array[i] = p_e(sol.y[0][i])\n",
    "\n",
    "plt.plot(sol.t, p_e_array, label = \"p_e(t)\")\n",
    "plt.legend()\n",
    "plt.show()\n"
   ]
  },
  {
   "cell_type": "code",
   "execution_count": 364,
   "metadata": {},
   "outputs": [
    {
     "name": "stdout",
     "output_type": "stream",
     "text": [
      "El valor R = R1 = a_i es:  1.9999999971671374e-05\n",
      "que ocurre a tiempo t =  4.044391184745951e-09\n"
     ]
    }
   ],
   "source": [
    "print(\"El valor R = R1 = a_i es: \", sol.y_events[0][0][0])\n",
    "print(\"que ocurre a tiempo t = \", sol.t_events[0][0])"
   ]
  },
  {
   "cell_type": "markdown",
   "metadata": {},
   "source": [
    "### Evolución desde formación del cluster instantánea hasta máxima expansión\n",
    "\n",
    "Parto de una bubrbuja de radio R = R_cl_ini cuya pared se expande a velocidad v_R dada por la energía coulombiana presente en la burbuja. Esta energía se calcula a partir del campo eléctrico en el interior de la burbuja. Se considera que la temperatura de los electrones es aquella a R = R1, es decir, \"los electrones poseen la misma temperatura\". Además, tmb cambia el nro de electrones $N_e$ dentro de la burbuja. Ahora es $N_{e max} * N_{bubstons}$ donde $N_{e max}$ correspondía al proceso anterior"
   ]
  },
  {
   "cell_type": "markdown",
   "metadata": {},
   "source": [
    "#### Redefinición de funciones"
   ]
  },
  {
   "cell_type": "code",
   "execution_count": 365,
   "metadata": {},
   "outputs": [],
   "source": [
    "#Redefino x. A diferencia de antes, la temperatura se considera igual a aquella en R = R1, pero el radio en la fórmula se toma como R = R_cl_ini. También cambia el nro máximo de electrones\n",
    "def x(R):\n",
    "    def ec_de_x(x):\n",
    "        return T_e(R1)*R/q_e**2*(x*np.cosh(x)- np.sinh(x))/(x) - N_emax(R)*N_bubston\n",
    "    return fsolve(ec_de_x, 17)[0]\n",
    "\n",
    "#Redefino el campo eléctrico por la misma razón que antes. Además, voy a integrarlo en r así que necesito que tenga dos variables: r y R_burbuja\n",
    "def E(r,R):\n",
    "    ae = a_e(R)\n",
    "    x = r/ae\n",
    "    return T_e(R1)*ae/(q_e*r**2)*(np.sinh(x) - (x)*np.cosh(x))"
   ]
  },
  {
   "cell_type": "markdown",
   "metadata": {},
   "source": [
    "#### Cálculo de la velocidad $v_R$"
   ]
  },
  {
   "cell_type": "code",
   "execution_count": 366,
   "metadata": {},
   "outputs": [
    {
     "name": "stdout",
     "output_type": "stream",
     "text": [
      "6023.164857429956\n",
      "28368.86256179598\n"
     ]
    }
   ],
   "source": [
    "#Calculo la energía cinética a t=0\n",
    "\n",
    "def W_coulomb(R_cl_ini):\n",
    "\n",
    "    #Defino la función a integrar para calcular W_coulomb\n",
    "    def f(r):\n",
    "        return r**2*E(r, R_cl_ini)**2\n",
    "\n",
    "    #Integro\n",
    "    return 1/2*quad(f,0.,R_cl_ini)[0]\n",
    "\n",
    "print(W_coulomb(R_cl_ini))\n",
    "\n",
    "# W_coulomb = 6.3e3 # [ergios] (CGS)\n",
    "\n",
    "#Calculo la volocidad a t=0 a partir de la igualdad E_cin = W_coulomb\n",
    "v_R0 = np.sqrt(W_coulomb(R_cl_ini)/(2*pi*rho_L*R_cl_ini**3))\n",
    "print(v_R0)"
   ]
  },
  {
   "cell_type": "markdown",
   "metadata": {},
   "source": [
    "#### Sistema de ecuaciones diferenciales"
   ]
  },
  {
   "cell_type": "code",
   "execution_count": 367,
   "metadata": {},
   "outputs": [],
   "source": [
    "#Defino la condición límite\n",
    "def event_cluster(t,y):\n",
    "    return y[1] - 0 #Que pare cuando la velocidad se hace cero (máxima expansión)\n",
    "\n",
    "def dydt(t,y):\n",
    "    #Sistema de ecuaciones de primer orden para la evolución del radio en función del tiempo. Entiéndase y = (R, Rp) = (R, v_R)\n",
    "    v_R = y[1]\n",
    "    R = y[0]\n",
    "\n",
    "    #Expreso dydt_0 = dR/dt = v_R\n",
    "    dydt_0 = v_R\n",
    "\n",
    "    #Para dydt_2 = d(v_R/dt) = d2(R)/dt2 hay 2 posibilidades\n",
    "    #(1) usar la ecuación diferencial de la tesis de Gabriela\n",
    "    #(2) usar la ecuación diferencial del paper de Bunkin que es una aproximación de la ecuación diferencial de Gabriela\n",
    "\n",
    "    dydt_1 = ((-p_inf)/(rho_L) - 3/2*v_R**2)/R\n",
    "\n",
    "    return [dydt_0, dydt_1]"
   ]
  },
  {
   "cell_type": "markdown",
   "metadata": {},
   "source": [
    "#### Resultados"
   ]
  },
  {
   "cell_type": "code",
   "execution_count": 368,
   "metadata": {},
   "outputs": [],
   "source": [
    "#Resuelvo el sistema dy/dt usando solve_ivp\n",
    "t_ini = 0\n",
    "t_max = 0.002 #200e-5 #2.5e-6 #70 ns\n",
    "\n",
    "y_ini = [R_cl_ini, v_R0] #Condición inicial\n",
    "rtol = 1e-12 #tolerancia relativa para el método numérico\n",
    "sol = solve_ivp(dydt, [t_ini, t_max], y_ini, method = \"DOP853\", rtol = rtol, atol = rtol, events = event_cluster)\n",
    "#asumo que el problema no es stiff\n"
   ]
  },
  {
   "cell_type": "code",
   "execution_count": 369,
   "metadata": {},
   "outputs": [
    {
     "data": {
      "image/png": "[encoded data removed]",
      "text/plain": [
       "<Figure size 432x288 with 1 Axes>"
      ]
     },
     "metadata": {
      "needs_background": "light"
     },
     "output_type": "display_data"
    },
    {
     "data": {
      "image/png": "[encoded data removed]",
      "text/plain": [
       "<Figure size 432x288 with 1 Axes>"
      ]
     },
     "metadata": {
      "needs_background": "light"
     },
     "output_type": "display_data"
    }
   ],
   "source": [
    "#Grafico\n",
    "plt.plot(sol.t, sol.y[0], label = \"R(t)\")\n",
    "plt.legend()\n",
    "plt.show()\n",
    "\n",
    "plt.plot(sol.t, sol.y[1], label = \"v_R(t)\")\n",
    "# plt.yscale(\"log\")\n",
    "plt.legend()\n",
    "plt.show()\n",
    "\n",
    "# plt.plot(sol.t, p_electrica(n_e_mean(sol.y[0]), T_e(sol.y[0], R_cl_ini), x_cl, R_cl_ini), label = \"p_electrica(t)\")\n",
    "# plt.legend()\n",
    "# plt.show()"
   ]
  },
  {
   "cell_type": "code",
   "execution_count": 370,
   "metadata": {},
   "outputs": [
    {
     "name": "stdout",
     "output_type": "stream",
     "text": [
      "El máximo ocurre a R =  0.11536159167995169 , a t =  0.0001142624951991371\n"
     ]
    }
   ],
   "source": [
    "print(\"El máximo ocurre a R = \", sol.y_events[0][0][0], \", a t = \", sol.t_events[0][0])"
   ]
  },
  {
   "cell_type": "code",
   "execution_count": null,
   "metadata": {},
   "outputs": [],
   "source": []
  }
 ],
 "metadata": {
  "kernelspec": {
   "display_name": "Python 3.9.12 ('Maestria')",
   "language": "python",
   "name": "python3"
  },
  "language_info": {
   "codemirror_mode": {
    "name": "ipython",
    "version": 3
   },
   "file_extension": ".py",
   "mimetype": "text/x-python",
   "name": "python",
   "nbconvert_exporter": "python",
   "pygments_lexer": "ipython3",
   "version": "3.9.12"
  },
  "orig_nbformat": 4,
  "vscode": {
   "interpreter": {
    "hash": "cb1dcd6e0b4bfbec9d527d1ab7c6c7d4b743ae11c2e9f2e62e6759bb0aaa74ae"
   }
  }
 },
 "nbformat": 4,
 "nbformat_minor": 2
}
