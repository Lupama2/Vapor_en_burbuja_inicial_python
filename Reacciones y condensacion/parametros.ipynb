{
 "cells": [
  {
   "cell_type": "markdown",
   "metadata": {},
   "source": [
    "## Parámetros\n",
    "\n",
    "Aquí se resumen los parámetros considerados en el problema, más o menos ordenados. Cuando es posible se adjunta la bibliografía de la que se obtuvo la info."
   ]
  },
  {
   "cell_type": "code",
   "execution_count": 22,
   "metadata": {},
   "outputs": [],
   "source": [
    "#Importo librerías\n",
    "import numpy as np\n",
    "import math"
   ]
  },
  {
   "cell_type": "code",
   "execution_count": 23,
   "metadata": {},
   "outputs": [],
   "source": [
    "# parameter\tnumber\n",
    "# tmax[s]\t100e-6\n",
    "# R0[m]\t1e-6\n",
    "# Rmax[m]\t1000e-6\n",
    "# T0[K]\t300\n",
    "# Tmax[K]\t350\n",
    "# sigmaT[s]\t1e-6"
   ]
  },
  {
   "cell_type": "markdown",
   "metadata": {},
   "source": [
    "### Masa de partículas y moléculas\n",
    "\n",
    "expresadas en kg"
   ]
  },
  {
   "cell_type": "code",
   "execution_count": 24,
   "metadata": {},
   "outputs": [],
   "source": [
    "masa_H_molar = 1.00784 #u (unidad de masa atómica). Valor de Wikipedia\n",
    "masa_H = masa_H_molar*1.66053906660e-27 #kg. La cte de proporcionalidad es la masa de una u, obtenida de NIST Reference https://physics.nist.gov/cuu/Constants/index.html\n",
    "masa_D_molar = 2.01410178 #u. Valor de Wikipedia\n",
    "masa_D = masa_D_molar*1.66053906660e-27 #kg.\n",
    "masa_O_molar = 15.999 #u. Valor de Wikipedia\n",
    "masa_O = masa_O_molar*1.66053906660e-27 #kg\n",
    "\n",
    "\n"
   ]
  },
  {
   "cell_type": "markdown",
   "metadata": {},
   "source": [
    "### Constantes físico-químicas\n",
    "\n",
    "NIST Reference: https://physics.nist.gov/cuu/Constants/index.html"
   ]
  },
  {
   "cell_type": "code",
   "execution_count": 25,
   "metadata": {},
   "outputs": [],
   "source": [
    "\n",
    "Na = 6.02214076e23 #Nro de avogadro [1/mol], obtenida de NIST\n",
    "K= 1.380649e-23 #constante de Boltzmann [J/K], obtenida de NIST\n",
    "Rg=Na*K #constante de los gases [J/mol K], obtenida de NIST\n",
    " "
   ]
  },
  {
   "cell_type": "markdown",
   "metadata": {},
   "source": [
    "### Propiedades de gases"
   ]
  },
  {
   "cell_type": "code",
   "execution_count": 26,
   "metadata": {},
   "outputs": [],
   "source": [
    "\n",
    "\n",
    "#Gas Properties - Argon\n",
    "a_Ar=0.1345 #constante de Van der Waals del argon []\n",
    "b_Ar=3.219e-5#constante de Van der Waals del argon []\n",
    "MAr=0.03942 #masa molar del argon [kg/gmol]\n",
    "# CvAr=3.0/2.0*Rg #heat capacity at constant volume gas[J/kg K]\n",
    "k1Ar=0.009 #constantes de la conductividad del gas [W/m K]\n",
    "k2Ar=3.2e-5\n",
    "# gama=Rg/(3.0*Rg)+1.0\n",
    "\n",
    "\n",
    "#Gas Properties - Oxigeno\n",
    "#a_Ar=0.136; #constante de Van der Waals del argon []\n",
    "#b_Ar=3.183e-5;#constante de Van der Waals del argon []\n",
    "MO2=0.032; #masa molar del argon [kg/gmol]\n",
    "#CvO2=3.0/2.0*Rg; #heat capacity at constant volume gas[J/kg K]\n",
    "k1O2=0.009; #constantes de la conductividad del gas [W/m K]\n",
    "k2O2=3.2e-5;\n",
    "\n",
    "#Gas Properties - Nitrogeno\n",
    "#a_Ar=0.139; #constante de Van der Waals del argon []\n",
    "#b_Ar=3.913e-5;#constante de Van der Waals del argon []\n",
    "MN2=0.028; #masa molar del argon [kg/gmol]\n",
    "# CvN2=5.0/2.0*Rg; #heat capacity at constant volume gas[J/kg K]\n",
    "k1N2=669e-5; #constantes de la conductividad del gas [W/m K]\n",
    "k2N2=6.24357e-5;"
   ]
  },
  {
   "cell_type": "markdown",
   "metadata": {},
   "source": [
    "### Parámetros asociados a las reacciones químicas\n",
    "\n",
    "Ctes asociadas a las reacciones químimcas\n",
    "\n",
    "El orden en el vector n_species está dado por  \n",
    "n[n_species] =      {H2,       H,      O,      O2,     OH,     H2O,    H2O2,   HO2}"
   ]
  },
  {
   "cell_type": "code",
   "execution_count": 27,
   "metadata": {},
   "outputs": [],
   "source": [
    "n_species = 8 #Nro de especies consideradas\n",
    "n_reacc = 28 #Nro de reacciones químicas consideradas\n",
    "\n",
    "#Masas:\n",
    "masa_species = np.array([2*masa_D, masa_D, masa_O, 2*masa_O, masa_D + masa_O, 2*masa_D + masa_O, 2*masa_D + 2*masa_O, masa_D + 2*masa_O])"
   ]
  },
  {
   "cell_type": "code",
   "execution_count": 32,
   "metadata": {},
   "outputs": [
    {
     "name": "stdout",
     "output_type": "stream",
     "text": [
      "0.02002720356\n"
     ]
    }
   ],
   "source": [
    "print()"
   ]
  },
  {
   "cell_type": "markdown",
   "metadata": {},
   "source": [
    "### Parámetros para la condensación, evaporación y difusión (REVISAR!!)"
   ]
  },
  {
   "cell_type": "code",
   "execution_count": 29,
   "metadata": {},
   "outputs": [],
   "source": [
    "#D2O\n",
    "#Vapor Properties\n",
    "a_h2o=0.5583 #constante de Van der Waals del agua [m6 Pa/mol]\n",
    "b_h2o=3.0877e-5 #constante de Van der Waals del agua [m3/mol]\n",
    "masa_H2O_kgmol= (2*masa_D_molar + masa_O_molar)/1000 #masa molar del gas [kg/mol]. Gabriela había escrito [kg/gmol], qué significa la g?\n",
    "#    Cvh2o=3.0*Rg #calor especifico a volumen constante del vapor de agua\n",
    "k1h2o=-0.02028 #constantes de la conductividad del vapor [W/m K]\n",
    "k2h2o=1.15006e-4\n",
    "Rv=Rg/masa_H2O_kgmol #constante de los gases para el vapor de agua [J/kg K]\n",
    "#    beta=1.0\n",
    "#\n",
    "\n",
    "#switches del modelo\n",
    "rapidez=1 #switch utilizado para tomar a Gama como una funcion de mp, o como constante igual a uno. Si es 1 es rapido, otro numero y es lento\n",
    "modelo = 2 #Permite elegir el modelo para calcular TB. 1: Yasui, 2: Toegel\n",
    "\n",
    "#Ctes del modelo de Yasui para calcular TB\n",
    "n_Yasui=5.0 #constante [1] Yasui\n",
    "ap=0.827 #constante [1] Yasui\n",
    "sigmap=0.4e-18 #[] Yasui\n",
    "\n",
    "#Liquid-vapor properties\n",
    "# L=2258987.94;# H2O calor latente de vaporizacion [J/kg]\n",
    "# L=2066700.0;# D2O calor latente de vaporizacion [J/kg]\n",
    "alfae=1.0; #coeficiente de acomodacion termico [1]\n",
    "alfaM=0.1; #[1]#coeficiente de acomodacion para los procesos de evaporación o condensación\n",
    "\n",
    "#Parámetros del agua a distintas temperaturas\n",
    "#Los siguientes parámetros dependen de la temperatura. Los copié del código de Gabriela a:\n",
    "Tinf=35+273.15 #D2O\n",
    "# rol=1101.8 #densidad del liquido [kg/m3]\n",
    "# mu=0.000869  #viscosidad [Pa s]\n",
    "# cl=1415.1 #velocidad del sonido del liquido [m/s]\n",
    "# cpl=4236.50#calor especifico del liquido [J/kg K]\n",
    "# kl=0.60562#conductividad termica del agua [W/m K]\n",
    "# sigma=0.07031  #tension superficial [J/m2]\n",
    "# alfa=kl/cpl/rol\n",
    "pvap0=4949 #este parámetro depende de T_nf y cambia si es D2O o H2O. Yo copié el de D2O. Es importante en la fórmual 2.2.1.4 para calcular m_punto\n",
    "\n",
    "\n",
    "\n",
    "\n",
    "\n",
    "\n",
    "#Masas Molares D2O en\n",
    "#Estos parámetros se emplean en la función MasaMolar().\n",
    "MH2=0.004\n",
    "MH=0.002\n",
    "MO=0.016\n",
    "MOH=0.018\n",
    "MN=0.014\n",
    "MNH=0.015\n",
    "MNH2=0.016\n",
    "MNH3=0.017\n",
    "MN2H=0.029\n",
    "MNO=0.03\n",
    "MNO2=0.046\n",
    "MN2O=0.044\n",
    "MHNO=0.031\n",
    "MH2O2 = 0.034\n",
    "MHO2 = 0.033\n",
    "\n",
    "#ANTES: CÓDIGO DE GABRIELA\n",
    "# MH2=0.004\n",
    "# MH=0.002\n",
    "# MO=0.016\n",
    "# MOH=0.018\n",
    "# MN=0.014\n",
    "# MNH=0.015\n",
    "# MNH2=0.016\n",
    "# MNH3=0.017\n",
    "# MN2H=0.029\n",
    "# MNO=0.03\n",
    "# MNO2=0.046\n",
    "# MN2O=0.044\n",
    "# MHNO=0.031\n",
    "# MH2O2 = 0.034\n",
    "# MHO2 = 0.033\n",
    "\n",
    "\n",
    "\n",
    "#Conductividades\n",
    "#ordenadas al origen\n",
    "k1H2=k1O2 \n",
    "k1H=k1O2\n",
    "k1O=k1O2\n",
    "k1OH=k1O2\n",
    "k1N=k1O2\n",
    "k1NH=k1O2\n",
    "k1NH2=k1O2\n",
    "k1NH3=k1O2\n",
    "k1N2H=k1O2\n",
    "k1NO=k1O2\n",
    "k1NO2=k1O2\n",
    "k1N2O=k1O2\n",
    "k1HNO=k1O2\n",
    "k1O2=k1O2\n",
    "\n",
    "#pendientes (respecto de la temperatura: k1i+k2i*T)\n",
    "k2H2=k2O2 \n",
    "k2H=k2O2\n",
    "k2O=k2O2\n",
    "k2OH=k2O2\n",
    "k2N=k2O2\n",
    "k2NH=k2O2\n",
    "k2NH2=k2O2\n",
    "k2NH3=k2O2\n",
    "k2N2H=k2O2\n",
    "k2NO=k2O2\n",
    "k2NO2=k2O2\n",
    "k2N2O=k2O2\n",
    "k2HNO=k2O2\n"
   ]
  },
  {
   "cell_type": "markdown",
   "metadata": {},
   "source": [
    "### Parámetros de la evolución\n",
    "\n",
    "Por lo pronto se considera que el radio de la burbuja y la temperatura evolucionan a través de funciones conocidas\n"
   ]
  },
  {
   "cell_type": "code",
   "execution_count": 30,
   "metadata": {},
   "outputs": [],
   "source": [
    "#Parámetros de la evolución química del sistema\n",
    "tmax = 100e-6 #1.833973816e-010 // 1e5 //100e-6\n",
    "R0 = 1e-6\n",
    "Rmax = 1000e-6\n",
    "T0 = 300\n",
    "Tmax = 6000\n",
    "sigmaT = 1e-6\n",
    "\n",
    "# var_termo = [R, v_R, T, P_B]\n",
    "\n",
    "def R(t):\n",
    "    return ((Rmax-R0)/tmax*t  + R0)\n",
    "\n",
    "def Velocidad(t):\n",
    "    return (Rmax-R0)/tmax\n",
    "\n",
    "def Vol(R):\n",
    "    return 4/3 * math.pi * R**3\n",
    "\n",
    "def dVoldt(t):\n",
    "    return 0\n",
    "    #return 4*Pi*pow(R(t),2)*(Rmax-R0)/tmax;\n",
    "\n",
    "#Mantengo esta def para la parte de reacciones:\n",
    "def V(t):\n",
    "    return 4/3 * math.pi * R(t)**3\n",
    "\n",
    "def dVdt(t):\n",
    "    return 0\n",
    "    #return 4*Pi*pow(R(t),2)*(Rmax-R0)/tmax;\n",
    "\n",
    "def T(t):\n",
    "    return (Tmax-T0)*np.exp(-0.5*pow(t/sigmaT,2)) + T0\n",
    "\n"
   ]
  },
  {
   "cell_type": "markdown",
   "metadata": {},
   "source": [
    "### Parámetros del método numérico"
   ]
  },
  {
   "cell_type": "code",
   "execution_count": 31,
   "metadata": {},
   "outputs": [],
   "source": [
    "#Temporal integration control\n",
    "# eps=1.0e-7;#error\n",
    "# step=1.0e-11; #Time step [s]\n",
    "# hmin=1.0e-16; #el paso minimo que debe tener en cuenta\n",
    "# numciclos=1; #numero de ciclos que calcula NO USADO\n",
    "epsilon=1.0e-6; #Convergence criterion para las cantidades que se calculan con el metodo de biseccion[1]. Lo necesito para, entre otras cosas, calcular m_punto.\n",
    "# N=100; # cantidad de pasos utilizados para integrar la funcion error (ERF()). No lo uso porque en Python uso directamente la función math.erf() para calcular la función error.\n",
    "\n",
    "#Parámetros para bisección\n",
    "#Limits\n",
    "Tmin=200.0 #Minimum temperature para el calculo de biseccion [K]\n",
    "Tmax=20000.0 #Maximum temperature para el calculo de biseccion [K]\n",
    "\n",
    "#Para calcular mp en la fórmula 2.2.1.3 de la tesis de Gabriela\n",
    "mpmin=-5.5e4 #Minimum mp para el calculo de biseccion [kg/m2 s]\n",
    "mpmax=5.5e4 #Maximum mp para el calculo de biseccion [kg/m2 s]\n",
    "epsilon=1.0e-6; #Convergence criterion para las cantidades que se calculan con el metodo de biseccion[1]. Lo necesito para, entre otras cosas, calcular m_punto.\n",
    "\n",
    "\n",
    "# Cmin=0.0\n",
    "# Cmax=4.0\n",
    "# Rmax=1.0e-6"
   ]
  }
 ],
 "metadata": {
  "kernelspec": {
   "display_name": "Python 3.9.12 ('Maestria')",
   "language": "python",
   "name": "python3"
  },
  "language_info": {
   "codemirror_mode": {
    "name": "ipython",
    "version": 3
   },
   "file_extension": ".py",
   "mimetype": "text/x-python",
   "name": "python",
   "nbconvert_exporter": "python",
   "pygments_lexer": "ipython3",
   "version": "3.9.12"
  },
  "orig_nbformat": 4,
  "vscode": {
   "interpreter": {
    "hash": "cb1dcd6e0b4bfbec9d527d1ab7c6c7d4b743ae11c2e9f2e62e6759bb0aaa74ae"
   }
  }
 },
 "nbformat": 4,
 "nbformat_minor": 2
}
