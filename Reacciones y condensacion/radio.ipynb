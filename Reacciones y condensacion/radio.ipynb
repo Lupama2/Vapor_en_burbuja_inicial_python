{
 "cells": [
  {
   "cell_type": "markdown",
   "metadata": {},
   "source": [
    "## R(t)\n",
    "\n",
    "Calculo el radio en función del tiempo usando la ecuación 2.2.1.1 de la tesis de Gabriela  \n",
    "1. A través del cambio de variables R = R, v_R = R', transformo la ecuación diferencial de orden 2 en dos ecuaciones diferenciales de orden 1\n",
    "2. Me armo el sistema dy/dt = f(y,t) donde y = (R, v_R) y resuelvo la ecuación numéricamente\n",
    "(El desarrollo de las ecuaciones está en el cuadernillo)\n",
    "\n",
    "Comentarios:  \n",
    "* La dependencia de la presión de la burbuja p_B está dada por la presión eléctrica p_e del paper de Bunkin\n",
    "* La dependencia de la masa m(t) se asume conocida pero realmente habría que estimarla usando el problema de reacciones + condensación o, mejor dicho, resolviendo todo autoconsistentemente.\n",
    "* Las fórmulas del paper están en el sistema CGS, así que expreso todo en esas unidades\n",
    "\n",
    "DUDAS:\n",
    "* Estoy considerando rho_L_inf = rho_L_i, está bien?\n",
    "* Estoy tomando x_max = 6 (aproximación del paper antes de la ec. (18)), está bien?\n",
    "* rho_Bunkin = rho_L_inf  o rho_L_i ? Estoy considerando a priori lo primero, está bien?\n",
    "* u0 (mu) da igual que a lo que da la ec. 19a (19b)? Sí, da lo mismo. u0 da ligeramente distinto pero creo que puede deberse a que estoy tomando una densidad distinta.\n",
    "* Estoy asumiendo que las ecuaciones de Bunkin están en el sistema MKS y por lo tanto los parámetros del problema están en MKS\n",
    "* Verificar si T_e = Delta/3 siempre o cambia durante la evolución\n",
    "* R0 = 1e-6 \n",
    "* v_R0 = 0? condición inicial\n",
    "* En la solución numérica se asumió que el problema no es stiff\n",
    "* a_i = 2e-5 para nuestro problema? radio del electrolito\n",
    "* l = 2*a_i #aproximación hecha en el Bunkin"
   ]
  },
  {
   "cell_type": "code",
   "execution_count": 196,
   "metadata": {},
   "outputs": [],
   "source": [
    "#Importo librerías\n",
    "import numpy as np\n",
    "import matplotlib.pyplot as plt\n",
    "from scipy.integrate import solve_ivp\n",
    "\n",
    "from math import pi"
   ]
  },
  {
   "cell_type": "markdown",
   "metadata": {},
   "source": [
    "### Parámetros del problema\n",
    "en sistema de unidades CGS:\n",
    "https://es.wikipedia.org/wiki/Sistema_Cegesimal_de_Unidades"
   ]
  },
  {
   "cell_type": "code",
   "execution_count": 197,
   "metadata": {},
   "outputs": [],
   "source": [
    "#En CGS:\n",
    "#Parámetros de la ecuación diferencial\n",
    "p_inf = 0.925 #Presión ambiente en el infinito en [atm]. Son 0.925 atm correspondientes a Bariloche. \n",
    "p_inf = p_inf*(101325)*(1/0.1) #en [baria] (CGS). Conversión: (atm)(101325 Pa/atm)(baria/ 0.1 Pa)\n",
    "c_L = 1415.1 #velocidad del sonido del líquido en [m/s] para agua D2O a Tinf=35+273.15. Lo copié del código de Gabriela.\n",
    "c_L = c_L*100 #en [cm/s] (CGS). Conversión (m/s)*(100 cm/m)\n",
    "rho_L_i = 1101.8 #densidad del líquido en la superficie de la burbuja en [kg/m3] para agua D2O a Tinf=35+273.15. Lo copié del código de Gabriela. \n",
    "rho_L_i = rho_L_i*(1/100)**3*(1000) #en [g/cm3] (CGS). Conversión (kg/m3)*(1m/100cm)^3*(1000g/1Kg)\n",
    "rho_L_inf = rho_L_i #densidad del líquido en el infinito. A priori considero rho_L_inf = rho_L_i\n",
    "\n",
    "#Parámetros de la presión eléctrica p_e\n",
    "\n",
    "#En CGS:\n",
    "#Condiciones iniciales de la ecuación diferencial\n",
    "Delta = 6 #Energía mecánica para arrancar un electrón de la pared en [eV]\n",
    "T_e = Delta/3 #Temperatura de los electrones dentro de la burbuja en [eV]. Conversión: (ev)*()\n",
    "T_e = T_e*(1.602176565e-19)*(1/1e-7) #en [erg] (CGS). Conversión (1ev)(1.602176565e-19J/1ev)*(1erg/1e-7 J)\n",
    "x_max = 6 #Esto es una aproximación considerada en el paper antes de la ec. (18)\n",
    "q_e = -1.602176634e-19 #carga del electrón en [Coulomb]\n",
    "q_e = q_e*(1/3.336641e-10) #en [Fr] (CGS). Conversión (C)*(Fr/3.336641e-10 C)\n",
    "\n",
    "R0 = 1e-6 #Radio inicial de un bubston en [cm]. Este valor lo saqué del supuesto inicial del Bunkin\n",
    "\n",
    "n_e_max_mean = (16/3)*T_e**2/(pi*q_e**4*R0) #densidad media máxima\n",
    "rho_Bunkin = rho_L_inf #densidad del líquido\n",
    "u0 = np.sqrt( (2*x_max/9)*n_e_max_mean*T_e/rho_Bunkin ) #Calculo u0 a partir de expresión (19a) del paper de Bunkin\n",
    "mu = (8/(3*x_max))*((x_max-1)/x_max)**2*(T_e*R0/q_e**2) #Calculo mu a partir de expresión (19b) del paper de Bunkin"
   ]
  },
  {
   "cell_type": "code",
   "execution_count": 198,
   "metadata": {},
   "outputs": [
    {
     "name": "stdout",
     "output_type": "stream",
     "text": [
      "n_e_max_mean =  3.278883224283173e+20\n",
      "u0 =  35657.52082504035\n",
      "mu =  4.289370267350276\n"
     ]
    }
   ],
   "source": [
    "#Verifico si obtengo los mismos valores\n",
    "print(\"n_e_max_mean = \", n_e_max_mean)\n",
    "print(\"u0 = \", u0)\n",
    "print(\"mu = \", mu)"
   ]
  },
  {
   "cell_type": "markdown",
   "metadata": {},
   "source": [
    "### Funciones de presión y masa"
   ]
  },
  {
   "cell_type": "code",
   "execution_count": null,
   "metadata": {},
   "outputs": [],
   "source": [
    "from parametros import Na\n"
   ]
  },
  {
   "cell_type": "code",
   "execution_count": 199,
   "metadata": {},
   "outputs": [],
   "source": [
    "#Defino la función de masa y sus derivadas\n",
    "\n",
    "#Asumo que a t = 0 hay N_H2O_0 partículas de agua vapor (es indistinto que sea vapor o líquido)\n",
    "Na = 6.02214076e23 #Nro de Avogadro\n",
    "m_H2O = 18/Na #Masa de una molécula de agua en [g]\n",
    "N_H2O_0 = 1e3 #Nro de partículas de agua iniciales\n",
    "m0 = N_H2O_0*m_H2O #Masa inicial\n",
    "\n",
    "def m(t):\n",
    "    # Dependencia de la masa en [g] en función del tiempo. \n",
    "    # A priori se asume que es conocida e igual a parábola de coeficientes alpha y m0 arbitrarios\n",
    "    # Realmente habría que estimarla usando el problema reacciones + condensación o, mejor dicho, resolviendo todo autoconsistentemente\n",
    "    #Asumo que a t=0 la masa es m0 y a t=100 mu s la masa es 10*m0:\n",
    "    alpha = 9*m0/(100e-6)**2\n",
    "    return alpha*t**2 + m0\n",
    "\n",
    "def mp(t):\n",
    "    #Derivada de la masa en función del tiempo\n",
    "    alpha = 9*m0/(100e-6)**2\n",
    "    return 2*alpha*t\n",
    "\n",
    "def mpp(t):\n",
    "    #Segunda derivada de la masa en función del tiempo\n",
    "    alpha = 9*m0/(100e-6)**2\n",
    "    return 2*alpha"
   ]
  },
  {
   "cell_type": "code",
   "execution_count": 200,
   "metadata": {},
   "outputs": [
    {
     "data": {
      "image/png": "[encoded data removed]",
      "text/plain": [
       "<Figure size 432x288 with 1 Axes>"
      ]
     },
     "metadata": {
      "needs_background": "light"
     },
     "output_type": "display_data"
    }
   ],
   "source": [
    "#Grafico m(t)\n",
    "t = np.linspace(0, 100e-6, 1000)\n",
    "plt.plot(t, m(t));"
   ]
  },
  {
   "cell_type": "code",
   "execution_count": 201,
   "metadata": {},
   "outputs": [],
   "source": [
    "#Presión eléctrica del paper de Bunkin\n",
    "def p_e(R):\n",
    "    #Presión eléctrica en [baria] (CGS) del paper de Bunkin ec. (24)\n",
    "    #R: radio del bubston en cm\n",
    "    return rho_Bunkin*u0**2*(1 + 2*mu)*(R0/R)**4\n",
    "\n",
    "def dpdt_e(R, v_R):\n",
    "    #Derivada de la presión eléctrica respecto a t en [baria/s] del paper de Bunkin\n",
    "    #R: radio del bubston en cm\n",
    "    dpdR_e = rho_Bunkin*u0**2*(1 + 2*mu)*(-4/R0)*(R0/R)**5 #Derivada respecto al radio\n",
    "    dpdt_e = dpdR_e*v_R #Derivada respecto al tiempo\n",
    "    return dpdt_e"
   ]
  },
  {
   "cell_type": "code",
   "execution_count": 202,
   "metadata": {},
   "outputs": [],
   "source": [
    "#Presión de las partículas de gas asumiendo comportamiento ideal (MODELO FENOMENOLOGICO)\n",
    "\n",
    "def V(R):\n",
    "    #Volumen de una esfera de radio R\n",
    "    return (4/3)*pi*R**3\n",
    "\n",
    "def dVdR(R):\n",
    "    #Derivada del volumen de una esfera de radio R respecto a su radio\n",
    "    return 4*pi*R**2\n",
    "\n",
    "def p_GI(R):\n",
    "    #Presión de las partículas de gas asumiendo comportamiento ideal en [baria] (CGS). Asumo que la temperatura corresponde a la del líquido en el infinito\n",
    "    \n",
    "    Tinf=35+273.15 #Esto lo usamos para calcular rho_L_i\n",
    "\n",
    "    m_H20 = 18/Na #Masa de una partícula de H20 en [g]. Está en g porque m(R) también lo está\n",
    "    N = m(R)/m_H20 #Nro de partículas\n",
    "\n",
    "    K_B = 1.380649e-23 #cte de Boltzmann en [J/K]\n",
    "    K_B = K_B/1e-7 #en [ergio/K]. Conversión: (J/K)*(1erg/10−7J)\n",
    "\n",
    "    P = N * K_B * Tinf / V(R)\n",
    "\n",
    "    return P\n",
    "\n",
    "def dpdt_GI(R, v_R):\n",
    "    #Derivada de la presión del gas respecto al tiempo en [baria/s] (CGS)\n",
    "    dpdR_GI = -p_GI(R)/V(R)*dVdR(R) #Derivada respecto al radio\n",
    "    dpdt_GI = dpdR_GI*v_R #Derivada respecto al tiempo\n",
    "\n",
    "    return dpdt_GI\n"
   ]
  },
  {
   "cell_type": "code",
   "execution_count": 204,
   "metadata": {},
   "outputs": [],
   "source": [
    "#Defino funciones de presión\n",
    "\n",
    "def p_B(R):\n",
    "    #Presión de la burbuja. Se considera que es igual a la presión de eléctrica p_e del paper de Bunkin más una presión de GI. El objetivo de esta presión es verificar si tienen o no efecto las moléculas dentro del bubston.\n",
    "    return p_e(R) + p_GI(R)\n",
    "\n",
    "def dpBdt(R, v_R):\n",
    "    #Derivada de la presión de la burbuja\n",
    "    return dpdt_e(R, v_R) + dpdt_GI(R, v_R)\n"
   ]
  },
  {
   "cell_type": "markdown",
   "metadata": {},
   "source": [
    "### Sistema de ecuaciones diferenciales"
   ]
  },
  {
   "cell_type": "code",
   "execution_count": 205,
   "metadata": {},
   "outputs": [],
   "source": [
    "#Defino el sistema de ecuaciones de primer orden\n",
    "\n",
    "def dydt(t,y):\n",
    "    #Sistema de ecuaciones de primer orden para la evolución del radio en función del tiempo. Entiéndase y = (R, Rp) = (R, v_R)\n",
    "    v_R = y[1]\n",
    "    R = y[0]\n",
    "    #Defino los términos de la ecuación diferencial de R(t). Genéricamente coloco como inputs mp, mpp, R y v_R aunque no haya tal dependencia\n",
    "    #Los términos se encuentran definidos en mi cuadernillo\n",
    "\n",
    "    #Expreso dydt_0 = dR/dt = v_R\n",
    "    dydt_0 = v_R\n",
    "\n",
    "    #Expreso dydt_1 = d(v_R/dt) = d2(R)/dt2 \n",
    "    term1 = -(3/2)*v_R**2*(1 - v_R/(3*c_L) + 2*mp(t)/(3*c_L*rho_L_i))\n",
    "    term2 = (1/rho_L_i)*(1 + v_R/c_L)*(p_B(R) - p_inf)\n",
    "    term3 = (mpp(t)*R/rho_L_i)*(1 - v_R/c_L + mp(t)/(c_L*rho_L_i))\n",
    "    term4 = (mp(t)/rho_L_i)*(v_R - mp(t)/(2*rho_L_i) + mp(t)*v_R/(2*c_L*rho_L_i))\n",
    "    term5 = (R/c_L*rho_L_inf)*dpBdt(R, v_R)\n",
    "\n",
    "    dydt_1 = (1/(R*(1 - v_R/c_L + mp(t)/(c_L*rho_L_i))     ))*(term1 + term2 + term3 + term4 + term5)\n",
    "\n",
    "    return [dydt_0, dydt_1]\n"
   ]
  },
  {
   "cell_type": "markdown",
   "metadata": {},
   "source": [
    "### Solución numérica"
   ]
  },
  {
   "cell_type": "code",
   "execution_count": 206,
   "metadata": {},
   "outputs": [],
   "source": [
    "#Resuelvo el sistema dy/dt usando solve_ivp\n",
    "t_ini = 0\n",
    "t_max = 70e-9 #70 ns\n",
    "y_ini = [R0, 0] #Condición inicial\n",
    "rtol = 1e-12 #tolerancia relativa para el método numérico\n",
    "sol = solve_ivp(dydt, [t_ini, t_max], y_ini, method = \"DOP853\", rtol = rtol, atol = rtol)\n",
    "#asumo que el problema no es stiff\n"
   ]
  },
  {
   "cell_type": "code",
   "execution_count": 207,
   "metadata": {},
   "outputs": [
    {
     "name": "stdout",
     "output_type": "stream",
     "text": [
      "  message: 'The solver successfully reached the end of the integration interval.'\n",
      "     nfev: 3806\n",
      "     njev: 0\n",
      "      nlu: 0\n",
      "      sol: None\n",
      "   status: 0\n",
      "  success: True\n",
      "        t: array([0.00000000e+00, 8.20522108e-23, 9.02574318e-22, 9.10779539e-21,\n",
      "       7.52210302e-20, 5.66652475e-19, 3.09411476e-18, 1.37586766e-17,\n",
      "       5.11147282e-17, 1.46100017e-16, 3.74247955e-16, 1.02860329e-15,\n",
      "       3.02124342e-15, 1.38848665e-14, 1.20441734e-13, 3.74682796e-13,\n",
      "       6.77793782e-13, 1.04205727e-12, 1.44479295e-12, 1.79842378e-12,\n",
      "       2.15205461e-12, 2.37815244e-12, 2.60425028e-12, 2.91336531e-12,\n",
      "       3.27639872e-12, 3.69991605e-12, 4.21703266e-12, 4.85672274e-12,\n",
      "       5.49641282e-12, 6.07595143e-12, 6.64940926e-12, 7.23440136e-12,\n",
      "       7.83960499e-12, 8.47138386e-12, 9.13526148e-12, 9.83652785e-12,\n",
      "       1.05806838e-11, 1.13734315e-11, 1.22208925e-11, 1.31297747e-11,\n",
      "       1.41074992e-11, 1.51623277e-11, 1.63034889e-11, 1.75412981e-11,\n",
      "       1.88872536e-11, 2.03540876e-11, 2.19557272e-11, 2.37071216e-11,\n",
      "       2.56238694e-11, 2.77215902e-11, 3.00149618e-11, 3.25162570e-11,\n",
      "       3.52328375e-11, 3.81617815e-11, 4.12747792e-11, 4.40988754e-11,\n",
      "       4.67508812e-11, 5.07737239e-11, 5.57345401e-11, 6.22029333e-11,\n",
      "       7.13794385e-11, 8.05559438e-11, 8.91785641e-11, 9.80390505e-11,\n",
      "       1.07322464e-10, 1.17130877e-10, 1.27542604e-10, 1.38627420e-10,\n",
      "       1.50452629e-10, 1.63086024e-10, 1.76597588e-10, 1.91060621e-10,\n",
      "       2.06552574e-10, 2.23155749e-10, 2.40957922e-10, 2.60052930e-10,\n",
      "       2.80541265e-10, 3.02530664e-10, 3.26136733e-10, 3.51483597e-10,\n",
      "       3.78704582e-10, 4.07942947e-10, 4.39352663e-10, 4.73099242e-10,\n",
      "       5.09360630e-10, 5.48328156e-10, 5.90207555e-10, 6.35220074e-10,\n",
      "       6.83603642e-10, 7.35614134e-10, 7.91526737e-10, 8.51637398e-10,\n",
      "       9.16264402e-10, 9.85750042e-10, 1.06046243e-09, 1.14079744e-09,\n",
      "       1.22718075e-09, 1.32007014e-09, 1.41995782e-09, 1.52737303e-09,\n",
      "       1.64288476e-09, 1.76710473e-09, 1.90069052e-09, 2.04434893e-09,\n",
      "       2.19883962e-09, 2.36497893e-09, 2.54364402e-09, 2.73577724e-09,\n",
      "       2.94239081e-09, 3.16457177e-09, 3.40348727e-09, 3.66039016e-09,\n",
      "       3.93662486e-09, 4.23363358e-09, 4.55296285e-09, 4.89627028e-09,\n",
      "       5.26533165e-09, 5.66204810e-09, 6.08845349e-09, 6.54672177e-09,\n",
      "       7.03917415e-09, 7.56828583e-09, 8.13669212e-09, 8.74719298e-09,\n",
      "       9.40275607e-09, 1.01065163e-08, 1.08617717e-08, 1.16719712e-08,\n",
      "       1.25406944e-08, 1.34716152e-08, 1.44684447e-08, 1.55348403e-08,\n",
      "       1.66742693e-08, 1.78898005e-08, 1.91838011e-08, 2.05575083e-08,\n",
      "       2.20104758e-08, 2.35400046e-08, 2.51410802e-08, 2.68092770e-08,\n",
      "       2.85692860e-08, 3.04470033e-08, 3.21651791e-08, 3.37988908e-08,\n",
      "       3.53513411e-08, 3.68165187e-08, 3.81903575e-08, 3.94718080e-08,\n",
      "       4.06622586e-08, 4.17647663e-08, 4.27834205e-08, 4.37228821e-08,\n",
      "       4.45880693e-08, 4.53839511e-08, 4.61154134e-08, 4.67871763e-08,\n",
      "       4.74037436e-08, 4.79693746e-08, 4.84880719e-08, 4.89635774e-08,\n",
      "       4.93993770e-08, 4.97987076e-08, 5.01645679e-08, 5.04997311e-08,\n",
      "       5.08067574e-08, 5.10880081e-08, 5.13456587e-08, 5.15817123e-08,\n",
      "       5.17980128e-08, 5.19962570e-08, 5.21780074e-08, 5.23447035e-08,\n",
      "       5.24976737e-08, 5.26381470e-08, 5.27672656e-08, 5.28860987e-08,\n",
      "       5.29956601e-08, 5.30969324e-08, 5.31909075e-08, 5.32786653e-08,\n",
      "       5.33615645e-08, 5.34418590e-08, 5.35262187e-08, 5.35713516e-08,\n",
      "       5.36090854e-08, 5.36301175e-08, 5.36511496e-08, 5.36803964e-08,\n",
      "       5.37103267e-08, 5.37391191e-08, 5.37662134e-08, 5.37915368e-08,\n",
      "       5.38151966e-08, 5.38373712e-08, 5.38582748e-08, 5.38781571e-08,\n",
      "       5.38973363e-08, 5.39163118e-08, 5.39362668e-08, 5.39502605e-08,\n",
      "       5.39642543e-08, 5.39752204e-08, 5.39847307e-08, 5.39924053e-08,\n",
      "       5.40000800e-08, 5.40080652e-08, 5.40174440e-08, 5.40288422e-08,\n",
      "       5.40376174e-08, 5.40454871e-08, 5.40533568e-08, 5.40606164e-08,\n",
      "       5.40674955e-08, 5.40742025e-08, 5.40809560e-08, 5.40872121e-08,\n",
      "       5.40934682e-08, 5.40993847e-08, 5.41055631e-08, 5.41120375e-08,\n",
      "       5.41188994e-08, 5.41263149e-08, 5.41346039e-08, 5.41446358e-08,\n",
      "       5.41539359e-08, 5.41632360e-08, 5.41693437e-08, 5.41754513e-08,\n",
      "       5.41834378e-08, 5.41927386e-08, 5.42033405e-08, 5.42156022e-08,\n",
      "       5.42305008e-08, 5.42503052e-08, 5.42681193e-08, 5.42859334e-08,\n",
      "       5.43036723e-08, 5.43218232e-08, 5.43406560e-08, 5.43603585e-08,\n",
      "       5.43810864e-08, 5.44029818e-08, 5.44261794e-08, 5.44508079e-08,\n",
      "       5.44769837e-08, 5.45047944e-08, 5.45342545e-08, 5.45651796e-08,\n",
      "       5.45857817e-08, 5.46063837e-08, 5.46406679e-08, 5.46833697e-08,\n",
      "       5.47375682e-08, 5.48129807e-08, 5.48953042e-08, 5.49776278e-08,\n",
      "       5.50605049e-08, 5.51466789e-08, 5.52374545e-08, 5.53336950e-08,\n",
      "       5.54361178e-08, 5.55453879e-08, 5.56621606e-08, 5.57871031e-08,\n",
      "       5.59209083e-08, 5.60643040e-08, 5.62180605e-08, 5.63829968e-08,\n",
      "       5.65599858e-08, 5.67499602e-08, 5.69539177e-08, 5.71729263e-08,\n",
      "       5.74081298e-08, 5.76607537e-08, 5.79321111e-08, 5.82236085e-08,\n",
      "       5.85367527e-08, 5.88731570e-08, 5.92345479e-08, 5.96227721e-08,\n",
      "       6.00398034e-08, 6.04877494e-08, 6.09688572e-08, 6.14855201e-08,\n",
      "       6.20402815e-08, 6.26358376e-08, 6.32750381e-08, 6.39608820e-08,\n",
      "       6.46965075e-08, 6.54851736e-08, 6.63302276e-08, 6.72350529e-08,\n",
      "       6.82029873e-08, 6.92371962e-08, 7.00000000e-08])\n",
      " t_events: None\n",
      "        y: array([[ 1.00000000e-06,  1.00000000e-06,  1.00000000e-06,\n",
      "         1.00000000e-06,  1.00000000e-06,  1.00000000e-06,\n",
      "         1.00000000e-06,  1.00000000e-06,  1.00000000e-06,\n",
      "         1.00000000e-06,  1.00000000e-06,  1.00000001e-06,\n",
      "         1.00000006e-06,  1.00000117e-06,  1.00008752e-06,\n",
      "         1.00082850e-06,  1.00263715e-06,  1.00601897e-06,\n",
      "         1.01111176e-06,  1.01659743e-06,  1.02289467e-06,\n",
      "         1.02729122e-06,  1.03194291e-06,  1.03866881e-06,\n",
      "         1.04703533e-06,  1.05732838e-06,  1.07052041e-06,\n",
      "         1.08756213e-06,  1.10518353e-06,  1.12150076e-06,\n",
      "         1.13787738e-06,  1.15474503e-06,  1.17230575e-06,\n",
      "         1.19070458e-06,  1.21006583e-06,  1.23050734e-06,\n",
      "         1.25215103e-06,  1.27512074e-06,  1.29954664e-06,\n",
      "         1.32556815e-06,  1.35333543e-06,  1.38301054e-06,\n",
      "         1.41476815e-06,  1.44879563e-06,  1.48529192e-06,\n",
      "         1.52446476e-06,  1.56652527e-06,  1.61167896e-06,\n",
      "         1.66011248e-06,  1.71197549e-06,  1.76735736e-06,\n",
      "         1.82625675e-06,  1.88853426e-06,  1.95381314e-06,\n",
      "         2.02119427e-06,  2.08064470e-06,  2.13510230e-06,\n",
      "         2.21533254e-06,  2.31061453e-06,  2.42935688e-06,\n",
      "         2.58839216e-06,  2.73783763e-06,  2.87070072e-06,\n",
      "         3.00054642e-06,  3.13017292e-06,  3.26081043e-06,\n",
      "         3.39317899e-06,  3.52776626e-06,  3.66493699e-06,\n",
      "         3.80498436e-06,  3.94815708e-06,  4.09467496e-06,\n",
      "         4.24473847e-06,  4.39853494e-06,  4.55624266e-06,\n",
      "         4.71803381e-06,  4.88407651e-06,  5.05453633e-06,\n",
      "         5.22957744e-06,  5.40936344e-06,  5.59405804e-06,\n",
      "         5.78382555e-06,  5.97883127e-06,  6.17924176e-06,\n",
      "         6.38522507e-06,  6.59695085e-06,  6.81459043e-06,\n",
      "         7.03831688e-06,  7.26830490e-06,  7.50473077e-06,\n",
      "         7.74777219e-06,  7.99760802e-06,  8.25441810e-06,\n",
      "         8.51838280e-06,  8.78968264e-06,  9.06849776e-06,\n",
      "         9.35500734e-06,  9.64938883e-06,  9.95181719e-06,\n",
      "         1.02624638e-05,  1.05814956e-05,  1.09090733e-05,\n",
      "         1.12453506e-05,  1.15904717e-05,  1.19445698e-05,\n",
      "         1.23077651e-05,  1.26801613e-05,  1.30618438e-05,\n",
      "         1.34528754e-05,  1.38532931e-05,  1.42631034e-05,\n",
      "         1.46822773e-05,  1.51107447e-05,  1.55483878e-05,\n",
      "         1.59950335e-05,  1.64504450e-05,  1.69143123e-05,\n",
      "         1.73862402e-05,  1.78657362e-05,  1.83521952e-05,\n",
      "         1.88448830e-05,  1.93429163e-05,  1.98452404e-05,\n",
      "         2.03506032e-05,  2.08575251e-05,  2.13642640e-05,\n",
      "         2.18687757e-05,  2.23686668e-05,  2.28611412e-05,\n",
      "         2.33429384e-05,  2.38102640e-05,  2.42587111e-05,\n",
      "         2.46831768e-05,  2.50777784e-05,  2.54357818e-05,\n",
      "         2.57495670e-05,  2.60106701e-05,  2.62099620e-05,\n",
      "         2.63380073e-05,  2.63854446e-05,  2.63410887e-05,\n",
      "         2.61862321e-05,  2.59452160e-05,  2.56248773e-05,\n",
      "         2.52341471e-05,  2.47835814e-05,  2.42838208e-05,\n",
      "         2.37448059e-05,  2.31754252e-05,  2.25834194e-05,\n",
      "         2.19754199e-05,  2.13570472e-05,  2.07330285e-05,\n",
      "         2.01073141e-05,  1.94831855e-05,  1.88633506e-05,\n",
      "         1.82500274e-05,  1.76450161e-05,  1.70497611e-05,\n",
      "         1.64654035e-05,  1.58928265e-05,  1.53326937e-05,\n",
      "         1.47854815e-05,  1.42515070e-05,  1.37309508e-05,\n",
      "         1.32238768e-05,  1.27302474e-05,  1.22499369e-05,\n",
      "         1.17827412e-05,  1.13283845e-05,  1.08865232e-05,\n",
      "         1.04567464e-05,  1.00385715e-05,  9.63143422e-06,\n",
      "         9.23466932e-06,  8.84747705e-06,  8.46886429e-06,\n",
      "         8.09753802e-06,  7.73169901e-06,  7.36859952e-06,\n",
      "         7.00343229e-06,  6.62570420e-06,  6.19866883e-06,\n",
      "         5.95539371e-06,  5.74298123e-06,  5.62070885e-06,\n",
      "         5.49547160e-06,  5.31608769e-06,  5.12577109e-06,\n",
      "         4.93577488e-06,  4.75035972e-06,  4.57091639e-06,\n",
      "         4.39765690e-06,  4.23023527e-06,  4.06794841e-06,\n",
      "         3.90971831e-06,  3.75383115e-06,  3.59704097e-06,\n",
      "         3.43049426e-06,  3.31363710e-06,  3.19777677e-06,\n",
      "         3.10850104e-06,  3.03281869e-06,  2.97336942e-06,\n",
      "         2.91578197e-06,  2.85830410e-06,  2.79469264e-06,\n",
      "         2.72437223e-06,  2.67652828e-06,  2.63903813e-06,\n",
      "         2.60726628e-06,  2.58347041e-06,  2.56611306e-06,\n",
      "         2.55425560e-06,  2.54748587e-06,  2.54587202e-06,\n",
      "         2.54869645e-06,  2.55535928e-06,  2.56631325e-06,\n",
      "         2.58196280e-06,  2.60291529e-06,  2.63020652e-06,\n",
      "         2.66585387e-06,  2.71531486e-06,  2.76638753e-06,\n",
      "         2.82158734e-06,  2.85970134e-06,  2.89905352e-06,\n",
      "         2.95207669e-06,  3.01562008e-06,  3.08981235e-06,\n",
      "         3.17720224e-06,  3.28465816e-06,  3.42807458e-06,\n",
      "         3.55643209e-06,  3.68337405e-06,  3.80788672e-06,\n",
      "         3.93302796e-06,  4.06026082e-06,  4.19042420e-06,\n",
      "         4.32408934e-06,  4.46168209e-06,  4.60352976e-06,\n",
      "         4.74986918e-06,  4.90082011e-06,  5.05630392e-06,\n",
      "         5.21583708e-06,  5.37794685e-06,  5.48308009e-06,\n",
      "         5.58604532e-06,  5.75284790e-06,  5.95321124e-06,\n",
      "         6.19675524e-06,  6.51779393e-06,  6.84755860e-06,\n",
      "         7.15860550e-06,  7.45526011e-06,  7.74830114e-06,\n",
      "         8.04197476e-06,  8.33842268e-06,  8.63895802e-06,\n",
      "         8.94447717e-06,  9.25563856e-06,  9.57295095e-06,\n",
      "         9.89682161e-06,  1.02275839e-05,  1.05655139e-05,\n",
      "         1.09108400e-05,  1.12637487e-05,  1.16243872e-05,\n",
      "         1.19928643e-05,  1.23692496e-05,  1.27535707e-05,\n",
      "         1.31458106e-05,  1.35459025e-05,  1.39537244e-05,\n",
      "         1.43690923e-05,  1.47917515e-05,  1.52213674e-05,\n",
      "         1.56575144e-05,  1.60996623e-05,  1.65471618e-05,\n",
      "         1.69992262e-05,  1.74549119e-05,  1.79130945e-05,\n",
      "         1.83724413e-05,  1.88313803e-05,  1.92880627e-05,\n",
      "         1.97403213e-05,  2.01856206e-05,  2.06210007e-05,\n",
      "         2.10430129e-05,  2.14476475e-05,  2.18302569e-05,\n",
      "         2.20814807e-05],\n",
      "       [ 0.00000000e+00,  9.99999000e-07,  1.09999890e-05,\n",
      "         1.10999889e-04,  9.16745004e-04,  6.90599149e-03,\n",
      "         3.77090448e-02,  1.67681522e-01,  6.22949161e-01,\n",
      "         1.78054004e+00,  4.56088087e+00,  1.25343625e+01,\n",
      "         3.68072682e+01,  1.68930406e+02,  1.44585954e+03,\n",
      "         4.34874261e+03,  7.53462375e+03,  1.09601078e+04,\n",
      "         1.42449213e+04,  1.67185328e+04,  1.88405366e+04,\n",
      "         2.00294561e+04,  2.10990591e+04,  2.23859150e+04,\n",
      "         2.36678491e+04,  2.48955683e+04,  2.60730088e+04,\n",
      "         2.71465977e+04,  2.79016959e+04,  2.83816810e+04,\n",
      "         2.87129519e+04,  2.89384970e+04,  2.90804363e+04,\n",
      "         2.91528558e+04,  2.91654976e+04,  2.91253951e+04,\n",
      "         2.90377167e+04,  2.89062883e+04,  2.87339354e+04,\n",
      "         2.85227058e+04,  2.82740376e+04,  2.79888916e+04,\n",
      "         2.76678660e+04,  2.73113049e+04,  2.69194108e+04,\n",
      "         2.64923704e+04,  2.60305045e+04,  2.55344445e+04,\n",
      "         2.50053386e+04,  2.44450745e+04,  2.38565037e+04,\n",
      "         2.32436657e+04,  2.26120816e+04,  2.19694162e+04,\n",
      "         2.13276387e+04,  2.07799066e+04,  2.02934334e+04,\n",
      "         1.96030809e+04,  1.88231523e+04,  1.79096122e+04,\n",
      "         1.67815931e+04,  1.58134526e+04,  1.50208640e+04,\n",
      "         1.43028377e+04,  1.36370443e+04,  1.30132104e+04,\n",
      "         1.24252080e+04,  1.18688763e+04,  1.13411429e+04,\n",
      "         1.08396026e+04,  1.03622903e+04,  9.90754825e+03,\n",
      "         9.47394364e+03,  9.06021401e+03,  8.66523045e+03,\n",
      "         8.28797144e+03,  7.92750373e+03,  7.58296828e+03,\n",
      "         7.25356926e+03,  6.93856567e+03,  6.63726466e+03,\n",
      "         6.34901602e+03,  6.07320783e+03,  5.80926270e+03,\n",
      "         5.55663471e+03,  5.31480677e+03,  5.08328830e+03,\n",
      "         4.86161327e+03,  4.64933846e+03,  4.44604192e+03,\n",
      "         4.25132155e+03,  4.06479395e+03,  3.88609317e+03,\n",
      "         3.71486979e+03,  3.55078993e+03,  3.39353442e+03,\n",
      "         3.24279796e+03,  3.09828838e+03,  2.95972596e+03,\n",
      "         2.82684281e+03,  2.69938216e+03,  2.57709788e+03,\n",
      "         2.45975387e+03,  2.34712358e+03,  2.23898946e+03,\n",
      "         2.13514254e+03,  2.03538191e+03,  1.93951436e+03,\n",
      "         1.84735384e+03,  1.75872114e+03,  1.67344344e+03,\n",
      "         1.59135389e+03,  1.51229125e+03,  1.43609946e+03,\n",
      "         1.36262725e+03,  1.29172773e+03,  1.22325798e+03,\n",
      "         1.15707858e+03,  1.09305323e+03,  1.03104821e+03,\n",
      "         9.70931864e+02,  9.12574105e+02,  8.55845757e+02,\n",
      "         8.00617915e+02,  7.46761194e+02,  6.94144913e+02,\n",
      "         6.42636151e+02,  5.92098732e+02,  5.42392061e+02,\n",
      "         4.93369858e+02,  4.44878827e+02,  3.96757321e+02,\n",
      "         3.48834128e+02,  3.00927691e+02,  2.52846030e+02,\n",
      "         2.04387822e+02,  1.55344438e+02,  1.05500065e+02,\n",
      "         5.46158157e+01,  2.32443359e+00, -5.27807860e+01,\n",
      "        -1.12378478e+02, -1.68497391e+02, -2.24101247e+02,\n",
      "        -2.79815166e+02, -3.35859851e+02, -3.92412765e+02,\n",
      "        -4.49663036e+02, -5.07815516e+02, -5.67085925e+02,\n",
      "        -6.27696046e+02, -6.89870777e+02, -7.53836835e+02,\n",
      "        -8.19822652e+02, -8.88058961e+02, -9.58779815e+02,\n",
      "        -1.03222383e+03, -1.10863552e+03, -1.18826679e+03,\n",
      "        -1.27137840e+03, -1.35824157e+03, -1.44913965e+03,\n",
      "        -1.54436996e+03, -1.64424576e+03, -1.74909857e+03,\n",
      "        -1.85928077e+03, -1.97516867e+03, -2.09716632e+03,\n",
      "        -2.22571016e+03, -2.36127491e+03, -2.50438134e+03,\n",
      "        -2.65560668e+03, -2.81559895e+03, -2.98509743e+03,\n",
      "        -3.16496312e+03, -3.35622567e+03, -3.56015998e+03,\n",
      "        -3.77841899e+03, -4.01328376e+03, -4.26818922e+03,\n",
      "        -4.54902246e+03, -4.86829156e+03, -5.26838541e+03,\n",
      "        -5.51643402e+03, -5.74556365e+03, -5.88285828e+03,\n",
      "        -6.02757674e+03, -6.24197926e+03, -6.47822575e+03,\n",
      "        -6.72222800e+03, -6.96673227e+03, -7.20715627e+03,\n",
      "        -7.43972000e+03, -7.66059649e+03, -7.86537459e+03,\n",
      "        -8.04849315e+03, -8.20230354e+03, -8.31487301e+03,\n",
      "        -8.36198009e+03, -8.32820349e+03, -8.21547459e+03,\n",
      "        -8.05454908e+03, -7.85033301e+03, -7.63370457e+03,\n",
      "        -7.36410778e+03, -7.02076093e+03, -6.52715680e+03,\n",
      "        -5.78500465e+03, -5.10334945e+03, -4.41216862e+03,\n",
      "        -3.65143126e+03, -2.89665431e+03, -2.14470495e+03,\n",
      "        -1.38831989e+03, -6.15715369e+02,  9.86855793e+01,\n",
      "         8.01506463e+02,  1.44704494e+03,  2.09358880e+03,\n",
      "         2.73381751e+03,  3.36442527e+03,  3.98539733e+03,\n",
      "         4.60198273e+03,  5.23919142e+03,  5.72840772e+03,\n",
      "         6.12827479e+03,  6.34695107e+03,  6.53421088e+03,\n",
      "         6.73647843e+03,  6.91879123e+03,  7.06768067e+03,\n",
      "         7.17631967e+03,  7.23740171e+03,  7.23238908e+03,\n",
      "         7.17131582e+03,  7.07600252e+03,  6.95971427e+03,\n",
      "         6.82765655e+03,  6.68333170e+03,  6.52941085e+03,\n",
      "         6.36802504e+03,  6.20093680e+03,  6.02965162e+03,\n",
      "         5.85550419e+03,  5.67974341e+03,  5.50364698e+03,\n",
      "         5.32873505e+03,  5.15731348e+03,  5.04961728e+03,\n",
      "         4.94680360e+03,  4.78580027e+03,  4.60131738e+03,\n",
      "         4.38971548e+03,  4.13077546e+03,  3.88665432e+03,\n",
      "         3.67485819e+03,  3.48801782e+03,  3.31665276e+03,\n",
      "         3.15688599e+03,  3.00665888e+03,  2.86466010e+03,\n",
      "         2.72996395e+03,  2.60186926e+03,  2.47981724e+03,\n",
      "         2.36334519e+03,  2.25205856e+03,  2.14561308e+03,\n",
      "         2.04370281e+03,  1.94605191e+03,  1.85240866e+03,\n",
      "         1.76254108e+03,  1.67623369e+03,  1.59328485e+03,\n",
      "         1.51350480e+03,  1.43671396e+03,  1.36274156e+03,\n",
      "         1.29142447e+03,  1.22260620e+03,  1.15613596e+03,\n",
      "         1.09186779e+03,  1.02965986e+03,  9.69373566e+02,\n",
      "         9.10872897e+02,  8.54023559e+02,  7.98692197e+02,\n",
      "         7.44745525e+02,  6.92049381e+02,  6.40467704e+02,\n",
      "         5.89861406e+02,  5.40087134e+02,  4.90995934e+02,\n",
      "         4.42431824e+02,  3.94230386e+02,  3.46217515e+02,\n",
      "         3.12712479e+02]])\n",
      " y_events: None\n"
     ]
    }
   ],
   "source": [
    "#Imprimo propiedades de la solución\n",
    "print(sol)"
   ]
  },
  {
   "cell_type": "code",
   "execution_count": 208,
   "metadata": {},
   "outputs": [
    {
     "data": {
      "image/png": "[encoded data removed]",
      "text/plain": [
       "<Figure size 432x288 with 1 Axes>"
      ]
     },
     "metadata": {
      "needs_background": "light"
     },
     "output_type": "display_data"
    },
    {
     "data": {
      "image/png": "[encoded data removed]",
      "text/plain": [
       "<Figure size 432x288 with 1 Axes>"
      ]
     },
     "metadata": {
      "needs_background": "light"
     },
     "output_type": "display_data"
    },
    {
     "name": "stderr",
     "output_type": "stream",
     "text": [
      "C:\\Users\\lupam\\AppData\\Local\\Temp\\ipykernel_6468\\3527361071.py:5: RuntimeWarning: divide by zero encountered in true_divide\n",
      "  return rho_Bunkin*u0**2*(1 + 2*mu)*(R0/R)**4\n",
      "C:\\Users\\lupam\\AppData\\Local\\Temp\\ipykernel_6468\\352508458.py:22: RuntimeWarning: divide by zero encountered in true_divide\n",
      "  P = N * K_B * Tinf / V(R)\n"
     ]
    },
    {
     "data": {
      "image/png": "[encoded data removed]",
      "text/plain": [
       "<Figure size 432x288 with 1 Axes>"
      ]
     },
     "metadata": {
      "needs_background": "light"
     },
     "output_type": "display_data"
    }
   ],
   "source": [
    "#Grafico\n",
    "plt.plot(sol.t, sol.y[0]/R0, label = \"R(t)/R0\")\n",
    "plt.legend()\n",
    "plt.show()\n",
    "\n",
    "plt.plot(sol.t, sol.y[1], label = \"v_R(t)\")\n",
    "plt.legend()\n",
    "plt.show()\n",
    "\n",
    "plt.plot(sol.t, p_B(sol.t), label = \"p_B(t)\")\n",
    "plt.legend()\n",
    "plt.show()\n"
   ]
  },
  {
   "cell_type": "markdown",
   "metadata": {},
   "source": [
    "### Verificación\n",
    "\n",
    "Según el paper de Bunkin, a t = t_coal debe ocurrir que R = R1, ambos parámetros bien definidos\n",
    "Supongamos por lo pronto que m = 0 para todo tiempo, asumiendo que la masa de los electrones entrantes, que son los responsables de la expansión inicial, es despreciable"
   ]
  },
  {
   "cell_type": "code",
   "execution_count": 209,
   "metadata": {},
   "outputs": [
    {
     "name": "stdout",
     "output_type": "stream",
     "text": [
      "tiempo de coalescencia (t_coal):  4.584739171374519e-09\n",
      "radio relativo teórico del bubston en t = t_coal (R1/R0):  20.000000000000004\n"
     ]
    }
   ],
   "source": [
    "a_i = 2e-5 #radio de Debye de un ion electrolito en un líquido. En este caso el agua (valor sacado del Bunkin) en [cm]\n",
    "t_coal = ( 2/5*(R0/u0) )/np.sqrt(2*(1 + 2*mu))*(a_i/R0)**(5/2) #tiempo de coalescencia en [s] (creo)\n",
    "l = 2*a_i #aproximación hecha en el Bunkin*\n",
    "R1 = l/2 #radio del bubston necesario para que las burbujas se toquen\n",
    "\n",
    "print(\"tiempo de coalescencia (t_coal): \", t_coal)\n",
    "print(\"radio relativo teórico del bubston en t = t_coal (R1/R0): \", R1/R0)"
   ]
  },
  {
   "cell_type": "code",
   "execution_count": 210,
   "metadata": {},
   "outputs": [
    {
     "name": "stdout",
     "output_type": "stream",
     "text": [
      "radio numérico del bubston en t = t_coal (R1):  16.038223065098016\n"
     ]
    }
   ],
   "source": [
    "#Resuelvo el sistema dy/dt usando solve_ivp\n",
    "t_ini = 0\n",
    "t_max = t_coal\n",
    "y_ini = [R0, 0] #Condición inicial\n",
    "rtol = 1e-12 #tolerancia relativa para el método numérico\n",
    "sol = solve_ivp(dydt, [t_ini, t_max], y_ini, method = \"DOP853\", rtol = rtol, atol = rtol)\n",
    "#asumo que el problema no es stiff\n",
    "\n",
    "print(\"radio numérico del bubston en t = t_coal (R1): \", sol.y[0][-1]/R0)\n"
   ]
  },
  {
   "cell_type": "markdown",
   "metadata": {},
   "source": [
    "#### Consideraciones\n",
    "Encontré que el resultado es independiente de si m(t) = 0 o no. Esto tiene sentido porque m(t) hace referencia a los iones/moléculas de dentro y según el paper de Bunkin no tienen efecto inicialmente tales partículas. Habría que verificar esto formalmente poniendo una presión debido a tales partículas, por ejemplo debido a un GI.\n",
    "\n",
    "A continuación se detallan el radio del bubston en t = t_coal(R1) considerando o no la masa y la presión de las partículas:\n",
    "* m = 0, p_GI = 0: 16.028292831866146\n",
    "* m!= 0 (N_H2O_0 = 1e9), p_GI = 0: 16.028292831866146\n",
    "* m!= 0 (N_H2O_0 = 1e9), p_GI!= 0: 81.30913083691735 \n",
    "CAMBIA CONSIDERABLEMENTE! Quizás el problema está en la cantidad de partículas consideradas. Gustavo me había dicho que el nro de partículas iniciales era despreciable respecto al nro de electrones máximos\n",
    "* m!= 0 (N_H2O_0 = 1e3), p_GI!= 0: 81.30913083691735 \n",
    "Tal cantidad de partículas de vapor implicaría una presión de 10 atm (p_GI(R0)*0.1*9.86923e-6\n",
    ") dentro de la burbuja. Es exagerado? Sí, pero con 109 partículas tengo 107 atm....\n",
    "\n",
    "\n",
    "\n",
    "\n",
    "Los nros siguientes los obtuve haciendo mal la cuenta. Había considerado que dpdt = dpdR y no es así\n",
    "* m != 0, p_GI = 0: 19.185427198440635\n",
    "* m = 0, p_GI = 0: 19.185427198440635\n",
    "* m != 0, p_GI != 0:"
   ]
  }
 ],
 "metadata": {
  "kernelspec": {
   "display_name": "Python 3.9.12 ('Maestria')",
   "language": "python",
   "name": "python3"
  },
  "language_info": {
   "codemirror_mode": {
    "name": "ipython",
    "version": 3
   },
   "file_extension": ".py",
   "mimetype": "text/x-python",
   "name": "python",
   "nbconvert_exporter": "python",
   "pygments_lexer": "ipython3",
   "version": "3.9.12"
  },
  "orig_nbformat": 4,
  "vscode": {
   "interpreter": {
    "hash": "cb1dcd6e0b4bfbec9d527d1ab7c6c7d4b743ae11c2e9f2e62e6759bb0aaa74ae"
   }
  }
 },
 "nbformat": 4,
 "nbformat_minor": 2
}
