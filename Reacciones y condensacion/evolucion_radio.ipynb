{
 "cells": [
  {
   "cell_type": "markdown",
   "metadata": {},
   "source": [
    "## Evolución del radio R(t)\n",
    "\n",
    "Calculo el efecto de la presión p_g debido a las moléculas presentes en el radio (variable termodinámica) empleando la ecuación diferencial 2.2.1.1 de la tesis de Gabriela y lo aprendido en la evolución del radio para el caso de la presión eléctrica. Por lo pronto sólo expreso la presión y su derivada"
   ]
  },
  {
   "cell_type": "code",
   "execution_count": null,
   "metadata": {},
   "outputs": [
    {
     "ename": "",
     "evalue": "",
     "output_type": "error",
     "traceback": [
      "\u001b[1;31mLa ejecución de celdas con 'Python 3.10.5 64-bit' requieren el paquete ipykernel.\n",
      "\u001b[1;31mEjecute el siguiente comando para instalar 'ipykernel' en el entorno de Python. comando \n",
      "\u001b[1;31m: 'c:/msys64/mingw64/bin/python.exe -m pip install ipykernel -U --user --force-reinstall'"
     ]
    }
   ],
   "source": [
    "\n",
    "\n",
    "\n",
    "\n",
    "\n",
    "\n",
    "\n",
    "\n",
    "\n",
    "def p_B()\n",
    "    #Presion en la interfase del lado del liquido\n",
    "    pg=Rg*y[3]/(v-b)-a/(v*v);//presion total\n",
    "\n",
    "    rog=M/V; //densidad de la mezcla\n",
    "\n",
    "    pB=pg-2.0*sigma/y[1]-4.0*mu/y[1]*(y[2]-mp/rol)-mp*mp*(1.0/rol-1.0/rog)\n",
    "\n",
    "\n",
    "\n",
    "    return pB"
   ]
  },
  {
   "cell_type": "code",
   "execution_count": null,
   "metadata": {},
   "outputs": [],
   "source": []
  }
 ],
 "metadata": {
  "kernelspec": {
   "display_name": "Python 3.9.12 ('Maestria')",
   "language": "python",
   "name": "python3"
  },
  "language_info": {
   "name": "python",
   "version": "3.9.12"
  },
  "orig_nbformat": 4,
  "vscode": {
   "interpreter": {
    "hash": "cb1dcd6e0b4bfbec9d527d1ab7c6c7d4b743ae11c2e9f2e62e6759bb0aaa74ae"
   }
  }
 },
 "nbformat": 4,
 "nbformat_minor": 2
}
