{
 "cells": [
  {
   "cell_type": "markdown",
   "metadata": {},
   "source": [
    "## R(t)\n",
    "\n",
    "Esto es relativamente viejo\n",
    "Último update: 2022.10.22\n",
    "\n",
    "Calculo el radio en función del tiempo usando la ecuación 2.2.1.1 de la tesis de Gabriela  \n",
    "1. A través del cambio de variables R = R, v_R = R', transformo la ecuación diferencial de orden 2 en dos ecuaciones diferenciales de orden 1\n",
    "2. Me armo el sistema dy/dt = f(y,t) donde y = (R, v_R) y resuelvo la ecuación numéricamente\n",
    "(El desarrollo de las ecuaciones está en el cuadernillo)\n",
    "\n",
    "Comentarios:  \n",
    "* La dependencia de la presión de la burbuja p_B está dada por la presión eléctrica p_e del paper de Bunkin\n",
    "* La dependencia de la masa m(t) se asume conocida pero realmente habría que estimarla usando el problema de reacciones + condensación o, mejor dicho, resolviendo todo autoconsistentemente.\n",
    "* Las fórmulas del paper están en el sistema CGS, así que expreso todo en esas unidades\n",
    "\n",
    "DUDAS:\n",
    "* Estoy considerando rho_L_inf = rho_L_i, está bien?\n",
    "* Estoy tomando x_max = 6 (aproximación del paper antes de la ec. (18)), está bien?\n",
    "* rho_Bunkin = rho_L_inf  o rho_L_i ? Estoy considerando a priori lo primero, está bien?\n",
    "* u0 (mu) da igual que a lo que da la ec. 19a (19b)? Sí, da lo mismo. u0 da ligeramente distinto pero creo que puede deberse a que estoy tomando una densidad distinta.\n",
    "* Estoy asumiendo que las ecuaciones de Bunkin están en el sistema MKS y por lo tanto los parámetros del problema están en MKS\n",
    "* Verificar si T_e = Delta/3 siempre o cambia durante la evolución\n",
    "* R0 = 1e-6 \n",
    "* v_R0 = 0? condición inicial\n",
    "* En la solución numérica se asumió que el problema no es stiff\n",
    "* a_i = 2e-5 para nuestro problema? radio del electrolito\n",
    "* l = 2*a_i #aproximación hecha en el Bunkin"
   ]
  },
  {
   "cell_type": "code",
   "execution_count": 83,
   "metadata": {},
   "outputs": [],
   "source": [
    "#Importo librerías\n",
    "import numpy as np\n",
    "import matplotlib.pyplot as plt\n",
    "from scipy.integrate import solve_ivp\n",
    "\n",
    "from math import pi"
   ]
  },
  {
   "cell_type": "markdown",
   "metadata": {},
   "source": [
    "### Parámetros del problema\n",
    "en sistema de unidades CGS:\n",
    "https://es.wikipedia.org/wiki/Sistema_Cegesimal_de_Unidades"
   ]
  },
  {
   "cell_type": "code",
   "execution_count": 84,
   "metadata": {},
   "outputs": [],
   "source": [
    "#En CGS:\n",
    "#Parámetros de la ecuación diferencial\n",
    "p_inf = 0.925 #Presión ambiente en el infinito en [atm]. Son 0.925 atm correspondientes a Bariloche. \n",
    "p_inf = p_inf*(101325)*(1/0.1) #en [baria] (CGS). Conversión: (atm)(101325 Pa/atm)(baria/ 0.1 Pa)\n",
    "c_L = 1415.1 #velocidad del sonido del líquido en [m/s] para agua D2O a Tinf=35+273.15. Lo copié del código de Gabriela.\n",
    "c_L = c_L*100 #en [cm/s] (CGS). Conversión (m/s)*(100 cm/m)\n",
    "rho_L_i = 1101.8 #densidad del líquido en la superficie de la burbuja en [kg/m3] para agua D2O a Tinf=35+273.15. Lo copié del código de Gabriela. \n",
    "rho_L_i = rho_L_i*(1/100)**3*(1000) #en [g/cm3] (CGS). Conversión (kg/m3)*(1m/100cm)^3*(1000g/1Kg)\n",
    "rho_L_inf = rho_L_i #densidad del líquido en el infinito. A priori considero rho_L_inf = rho_L_i\n",
    "\n",
    "#Parámetros de la presión eléctrica p_e\n",
    "\n",
    "#En CGS:\n",
    "#Condiciones iniciales de la ecuación diferencial\n",
    "Delta = 6 #Energía mecánica para arrancar un electrón de la pared en [eV]\n",
    "T_e = Delta/3 #Temperatura de los electrones dentro de la burbuja en [eV]. Conversión: (ev)*()\n",
    "T_e = T_e*(1.602176565e-19)*(1/1e-7) #en [erg] (CGS). Conversión (1ev)(1.602176565e-19J/1ev)*(1erg/1e-7 J)\n",
    "x_max = 6 #Esto es una aproximación considerada en el paper antes de la ec. (18)\n",
    "q_e = -1.602176634e-19 #carga del electrón en [Coulomb]\n",
    "q_e = q_e*(1/3.336641e-10) #en [Fr] (CGS). Conversión (C)*(Fr/3.336641e-10 C)\n",
    "\n",
    "R0 = 1e-6 #Radio inicial de un bubston en [cm]. Este valor lo saqué del supuesto inicial del Bunkin\n",
    "\n",
    "\n",
    "rho_Bunkin = rho_L_inf #densidad del líquido\n"
   ]
  },
  {
   "cell_type": "code",
   "execution_count": 85,
   "metadata": {},
   "outputs": [],
   "source": [
    "def n_e_max_mean(T_e, q_e, R0):\n",
    "    #densidad media máxima\n",
    "    return (16/3)*T_e**2/(pi*q_e**4*R0)\n",
    "\n",
    "def u0(T_e, q_e, R0):\n",
    "    #Calculo u0 a partir de expresión (19a) del paper de Bunkin\n",
    "    return np.sqrt( (2*x_max/9)*n_e_max_mean(T_e, q_e, R0)*T_e/rho_Bunkin )\n",
    "\n",
    "def mu(T_e, q_e, R0):\n",
    "    #Calculo mu a partir de expresión (19b) del paper de Bunkin\n",
    "    return (8/(3*x_max))*((x_max-1)/x_max)**2*(T_e*R0/q_e**2)"
   ]
  },
  {
   "cell_type": "code",
   "execution_count": 86,
   "metadata": {},
   "outputs": [
    {
     "name": "stdout",
     "output_type": "stream",
     "text": [
      "n_e_max_mean =  <function n_e_max_mean at 0x000001B74C36F0D0>\n",
      "u0 =  <function u0 at 0x000001B74BEAFA60>\n",
      "mu =  <function mu at 0x000001B74BE0E670>\n"
     ]
    }
   ],
   "source": [
    "#Verifico si obtengo los mismos valores\n",
    "print(\"n_e_max_mean = \", n_e_max_mean)\n",
    "print(\"u0 = \", u0)\n",
    "print(\"mu = \", mu)"
   ]
  },
  {
   "cell_type": "markdown",
   "metadata": {},
   "source": [
    "### Funciones de presión y masa"
   ]
  },
  {
   "cell_type": "code",
   "execution_count": 87,
   "metadata": {},
   "outputs": [],
   "source": [
    "#Defino la función de masa y sus derivadas\n",
    "\n",
    "#Asumo que a t = 0 hay N_H2O_0 partículas de agua vapor (es indistinto que sea vapor o líquido)\n",
    "Na = 6.02214076e23 #Nro de Avogadro\n",
    "m_H2O = 18/Na #Masa de una molécula de agua en [g]\n",
    "N_H2O_0 = 1e3 #Nro de partículas de agua iniciales\n",
    "m0 = N_H2O_0*m_H2O #Masa inicial\n",
    "\n",
    "def m(t):\n",
    "    # Dependencia de la masa en [g] en función del tiempo. \n",
    "    # A priori se asume que es conocida e igual a parábola de coeficientes alpha y m0 arbitrarios\n",
    "    # Realmente habría que estimarla usando el problema reacciones + condensación o, mejor dicho, resolviendo todo autoconsistentemente\n",
    "    #Asumo que a t=0 la masa es m0 y a t=100 mu s la masa es 10*m0:\n",
    "    alpha = 9*m0/(100e-6)**2\n",
    "    return alpha*t**2 + m0\n",
    "\n",
    "def mp(t):\n",
    "    #Derivada de la masa en función del tiempo\n",
    "    alpha = 9*m0/(100e-6)**2\n",
    "    return 2*alpha*t\n",
    "\n",
    "def mpp(t):\n",
    "    #Segunda derivada de la masa en función del tiempo\n",
    "    alpha = 9*m0/(100e-6)**2\n",
    "    return 2*alpha"
   ]
  },
  {
   "cell_type": "code",
   "execution_count": 88,
   "metadata": {},
   "outputs": [
    {
     "data": {
      "image/png": "[encoded data removed]",
      "text/plain": [
       "<Figure size 432x288 with 1 Axes>"
      ]
     },
     "metadata": {
      "needs_background": "light"
     },
     "output_type": "display_data"
    }
   ],
   "source": [
    "#Grafico m(t)\n",
    "t = np.linspace(0, 100e-6, 1000)\n",
    "plt.plot(t, m(t));"
   ]
  },
  {
   "cell_type": "code",
   "execution_count": 89,
   "metadata": {},
   "outputs": [],
   "source": [
    "#Presión eléctrica del paper de Bunkin\n",
    "def p_e(R, T_e, q_e, R0):\n",
    "    #Presión eléctrica en [baria] (CGS) del paper de Bunkin ec. (24)\n",
    "    #R: radio del bubston en cm\n",
    "    return rho_Bunkin*u0(T_e, q_e, R0)**2*(1 + 2*mu(T_e, q_e, R0))*(R0/R)**4\n",
    "\n",
    "def dpdt_e(R, v_R, T_e, q_e, R0):\n",
    "    #Derivada de la presión eléctrica respecto a t en [baria/s] del paper de Bunkin\n",
    "    #R: radio del bubston en cm\n",
    "    dpdR_e = rho_Bunkin*u0(T_e, q_e, R0)**2*(1 + 2*mu(T_e, q_e, R0))*(-4/R0)*(R0/R)**5 #Derivada respecto al radio\n",
    "    dpdt_e = dpdR_e*v_R #Derivada respecto al tiempo\n",
    "    return dpdt_e"
   ]
  },
  {
   "cell_type": "code",
   "execution_count": 90,
   "metadata": {},
   "outputs": [],
   "source": [
    "#Presión de las partículas de gas asumiendo comportamiento ideal (MODELO FENOMENOLOGICO)\n",
    "\n",
    "def V(R):\n",
    "    #Volumen de una esfera de radio R\n",
    "    return (4/3)*pi*R**3\n",
    "\n",
    "def dVdR(R):\n",
    "    #Derivada del volumen de una esfera de radio R respecto a su radio\n",
    "    return 4*pi*R**2\n",
    "\n",
    "def p_GI(R):\n",
    "    #Presión de las partículas de gas asumiendo comportamiento ideal en [baria] (CGS). Asumo que la temperatura corresponde a la del líquido en el infinito\n",
    "    \n",
    "    Tinf=35+273.15 #Esto lo usamos para calcular rho_L_i\n",
    "\n",
    "    m_H20 = 18/Na #Masa de una partícula de H20 en [g]. Está en g porque m(R) también lo está\n",
    "    N = m(R)/m_H20 #Nro de partículas\n",
    "\n",
    "    K_B = 1.380649e-23 #cte de Boltzmann en [J/K]\n",
    "    K_B = K_B/1e-7 #en [ergio/K]. Conversión: (J/K)*(1erg/10−7J)\n",
    "\n",
    "    P = N * K_B * Tinf / V(R)\n",
    "    return 0\n",
    "    return P\n",
    "\n",
    "def dpdt_GI(R, v_R):\n",
    "    #Derivada de la presión del gas respecto al tiempo en [baria/s] (CGS)\n",
    "    dpdR_GI = -p_GI(R)/V(R)*dVdR(R) #Derivada respecto al radio\n",
    "    dpdt_GI = dpdR_GI*v_R #Derivada respecto al tiempo\n",
    "    return 0\n",
    "    return dpdt_GI\n"
   ]
  },
  {
   "cell_type": "code",
   "execution_count": 91,
   "metadata": {},
   "outputs": [],
   "source": [
    "#Defino funciones de presión\n",
    "\n",
    "def p_B(R,T_e, q_e, R0):\n",
    "    #Presión de la burbuja. Se considera que es igual a la presión de eléctrica p_e del paper de Bunkin más una presión de GI. El objetivo de esta presión es verificar si tienen o no efecto las moléculas dentro del bubston.\n",
    "    return p_e(R,T_e, q_e, R0) + p_GI(R)\n",
    "\n",
    "def dpBdt(R, v_R,T_e, q_e, R0):\n",
    "    #Derivada de la presión de la burbuja\n",
    "    return dpdt_e(R, v_R,T_e, q_e, R0) + dpdt_GI(R, v_R)\n"
   ]
  },
  {
   "cell_type": "markdown",
   "metadata": {},
   "source": [
    "### Sistema de ecuaciones diferenciales"
   ]
  },
  {
   "cell_type": "code",
   "execution_count": 92,
   "metadata": {},
   "outputs": [],
   "source": [
    "#Defino el sistema de ecuaciones de primer orden\n",
    "\n",
    "def dydt(t,y):\n",
    "    #Sistema de ecuaciones de primer orden para la evolución del radio en función del tiempo. Entiéndase y = (R, Rp) = (R, v_R)\n",
    "    v_R = y[1]\n",
    "    R = y[0]\n",
    "\n",
    "    #Defino las ctes del sistema\n",
    "    T_e_ = T_e\n",
    "    q_e_ = q_e\n",
    "    R0_ = R0\n",
    "\n",
    "    #Defino los términos de la ecuación diferencial de R(t). Genéricamente coloco como inputs mp, mpp, R y v_R aunque no haya tal dependencia\n",
    "    #Los términos se encuentran definidos en mi cuadernillo\n",
    "\n",
    "    #Expreso dydt_0 = dR/dt = v_R\n",
    "    dydt_0 = v_R\n",
    "\n",
    "    #Expreso dydt_1 = d(v_R/dt) = d2(R)/dt2 \n",
    "    term1 = -(3/2)*v_R**2*(1 - v_R/(3*c_L) + 2*mp(t)/(3*c_L*rho_L_i))\n",
    "    term2 = (1/rho_L_i)*(1 + v_R/c_L)*(p_B(R,T_e_, q_e_, R0_) - p_inf)\n",
    "    term3 = (mpp(t)*R/rho_L_i)*(1 - v_R/c_L + mp(t)/(c_L*rho_L_i))\n",
    "    term4 = (mp(t)/rho_L_i)*(v_R - mp(t)/(2*rho_L_i) + mp(t)*v_R/(2*c_L*rho_L_i))\n",
    "    term5 = (R/c_L*rho_L_inf)*dpBdt(R, v_R,T_e_, q_e_, R0_)\n",
    "\n",
    "    dydt_1 = (1/(R*(1 - v_R/c_L + mp(t)/(c_L*rho_L_i))     ))*(term1 + term2 + term3 + term4 + term5)\n",
    "\n",
    "    return [dydt_0, dydt_1]\n"
   ]
  },
  {
   "cell_type": "markdown",
   "metadata": {},
   "source": [
    "### Solución numérica"
   ]
  },
  {
   "cell_type": "code",
   "execution_count": 93,
   "metadata": {},
   "outputs": [],
   "source": [
    "#Resuelvo el sistema dy/dt usando solve_ivp\n",
    "t_ini = 0\n",
    "t_max = 70e-9 #70 ns\n",
    "y_ini = [R0, 0] #Condición inicial\n",
    "rtol = 1e-12 #tolerancia relativa para el método numérico\n",
    "sol = solve_ivp(dydt, [t_ini, t_max], y_ini, method = \"DOP853\", rtol = rtol, atol = rtol)\n",
    "#asumo que el problema no es stiff\n"
   ]
  },
  {
   "cell_type": "code",
   "execution_count": 94,
   "metadata": {},
   "outputs": [
    {
     "name": "stdout",
     "output_type": "stream",
     "text": [
      "  message: 'The solver successfully reached the end of the integration interval.'\n",
      "     nfev: 3758\n",
      "     njev: 0\n",
      "      nlu: 0\n",
      "      sol: None\n",
      "   status: 0\n",
      "  success: True\n",
      "        t: array([0.00000000e+00, 8.21143770e-23, 9.03258147e-22, 9.11469585e-21,\n",
      "       9.12290729e-20, 6.14179556e-19, 3.41386683e-18, 1.56829170e-17,\n",
      "       5.75475377e-17, 1.79081778e-16, 5.80704156e-16, 1.91107959e-15,\n",
      "       9.51894850e-15, 7.07435957e-14, 3.08136465e-13, 5.99689815e-13,\n",
      "       9.45805786e-13, 1.41600235e-12, 1.76983397e-12, 2.12366559e-12,\n",
      "       2.37750501e-12, 2.63134444e-12, 2.94283450e-12, 3.31092985e-12,\n",
      "       3.74062829e-12, 4.26938544e-12, 4.89226705e-12, 5.51514866e-12,\n",
      "       6.09422638e-12, 6.66813661e-12, 7.25387998e-12, 7.86004100e-12,\n",
      "       8.49295093e-12, 9.15812415e-12, 9.86085231e-12, 1.06066499e-11,\n",
      "       1.14012277e-11, 1.22507251e-11, 1.31618715e-11, 1.41421132e-11,\n",
      "       1.51997406e-11, 1.63440150e-11, 1.75852877e-11, 1.89350950e-11,\n",
      "       2.04062065e-11, 2.20125839e-11, 2.37692021e-11, 2.56916709e-11,\n",
      "       2.77955957e-11, 3.00956053e-11, 3.26038653e-11, 3.53275186e-11,\n",
      "       3.82631554e-11, 4.13811032e-11, 4.45584813e-11, 4.74738959e-11,\n",
      "       5.16682333e-11, 5.68696262e-11, 6.37696338e-11, 7.25308291e-11,\n",
      "       8.12920245e-11, 8.99263735e-11, 9.88178151e-11, 1.08142838e-10,\n",
      "       1.18000163e-10, 1.28466989e-10, 1.39612706e-10, 1.51504563e-10,\n",
      "       1.64210485e-10, 1.77800695e-10, 1.92348815e-10, 2.07932682e-10,\n",
      "       2.24635038e-10, 2.42544150e-10, 2.61754398e-10, 2.82366861e-10,\n",
      "       3.04489921e-10, 3.28239879e-10, 3.53741611e-10, 3.81129256e-10,\n",
      "       4.10546948e-10, 4.42149602e-10, 4.76103744e-10, 5.12588413e-10,\n",
      "       5.51796113e-10, 5.93933848e-10, 6.39224224e-10, 6.87906632e-10,\n",
      "       7.40238520e-10, 7.96496770e-10, 8.56979146e-10, 9.22005883e-10,\n",
      "       9.91921377e-10, 1.06709599e-09, 1.14792802e-09, 1.23484577e-09,\n",
      "       1.32830978e-09, 1.42881527e-09, 1.53689471e-09, 1.65312055e-09,\n",
      "       1.77810821e-09, 1.91251925e-09, 2.05706473e-09, 2.21250889e-09,\n",
      "       2.37967297e-09, 2.55943938e-09, 2.75275607e-09, 2.96064128e-09,\n",
      "       3.18418846e-09, 3.42457164e-09, 3.68305097e-09, 3.96097867e-09,\n",
      "       4.25980524e-09, 4.58108604e-09, 4.92648801e-09, 5.29779685e-09,\n",
      "       5.69692411e-09, 6.12591461e-09, 6.58695378e-09, 7.08237471e-09,\n",
      "       7.61466491e-09, 8.18647214e-09, 8.80060898e-09, 9.46005533e-09,\n",
      "       1.01679579e-08, 1.09276246e-08, 1.17425130e-08, 1.26162071e-08,\n",
      "       1.35523801e-08, 1.45547334e-08, 1.56269029e-08, 1.67723145e-08,\n",
      "       1.79939686e-08, 1.92941237e-08, 2.06738548e-08, 2.21324905e-08,\n",
      "       2.36670619e-08, 2.52723768e-08, 2.69447106e-08, 2.87210995e-08,\n",
      "       3.05576761e-08, 3.22619914e-08, 3.38845846e-08, 3.54256096e-08,\n",
      "       3.68790354e-08, 3.82410958e-08, 3.95110111e-08, 4.06903589e-08,\n",
      "       4.17823128e-08, 4.27910247e-08, 4.37211810e-08, 4.45777010e-08,\n",
      "       4.53655391e-08, 4.60895573e-08, 4.67544460e-08, 4.73646764e-08,\n",
      "       4.79244741e-08, 4.84378078e-08, 4.89083866e-08, 4.93396641e-08,\n",
      "       4.97348471e-08, 5.00969056e-08, 5.04285857e-08, 5.07324225e-08,\n",
      "       5.10107539e-08, 5.12657334e-08, 5.14993444e-08, 5.17134119e-08,\n",
      "       5.19096160e-08, 5.20895036e-08, 5.22544999e-08, 5.24059206e-08,\n",
      "       5.25449834e-08, 5.26728205e-08, 5.27904930e-08, 5.28990086e-08,\n",
      "       5.29993472e-08, 5.30925033e-08, 5.31795719e-08, 5.32619588e-08,\n",
      "       5.33420915e-08, 5.34278977e-08, 5.34714170e-08, 5.35066681e-08,\n",
      "       5.35346647e-08, 5.35613419e-08, 5.35912717e-08, 5.36205411e-08,\n",
      "       5.36482354e-08, 5.36741573e-08, 5.36983679e-08, 5.37210259e-08,\n",
      "       5.37423341e-08, 5.37625270e-08, 5.37818911e-08, 5.38008362e-08,\n",
      "       5.38201694e-08, 5.38384427e-08, 5.38519599e-08, 5.38634499e-08,\n",
      "       5.38733710e-08, 5.38817329e-08, 5.38892061e-08, 5.38965023e-08,\n",
      "       5.39054724e-08, 5.39159311e-08, 5.39246911e-08, 5.39334510e-08,\n",
      "       5.39409185e-08, 5.39483859e-08, 5.39554083e-08, 5.39621660e-08,\n",
      "       5.39688546e-08, 5.39757876e-08, 5.39817156e-08, 5.39874129e-08,\n",
      "       5.39934393e-08, 5.39997423e-08, 5.40063767e-08, 5.40134652e-08,\n",
      "       5.40212292e-08, 5.40301486e-08, 5.40421590e-08, 5.40510513e-08,\n",
      "       5.40586980e-08, 5.40663447e-08, 5.40740202e-08, 5.40832636e-08,\n",
      "       5.40937769e-08, 5.41059206e-08, 5.41206153e-08, 5.41419717e-08,\n",
      "       5.41597273e-08, 5.41774830e-08, 5.41952085e-08, 5.42133571e-08,\n",
      "       5.42321945e-08, 5.42519062e-08, 5.42726473e-08, 5.42945592e-08,\n",
      "       5.43177764e-08, 5.43424269e-08, 5.43686265e-08, 5.43964610e-08,\n",
      "       5.44259407e-08, 5.44568692e-08, 5.44790735e-08, 5.45012777e-08,\n",
      "       5.45368270e-08, 5.45809082e-08, 5.46371932e-08, 5.47183089e-08,\n",
      "       5.48003436e-08, 5.48823782e-08, 5.49655955e-08, 5.50524064e-08,\n",
      "       5.51439857e-08, 5.52411581e-08, 5.53446256e-08, 5.54550485e-08,\n",
      "       5.55730819e-08, 5.56993959e-08, 5.58346880e-08, 5.59796921e-08,\n",
      "       5.61351857e-08, 5.63019959e-08, 5.64810045e-08, 5.66731543e-08,\n",
      "       5.68794537e-08, 5.71009821e-08, 5.73388960e-08, 5.75944343e-08,\n",
      "       5.78689244e-08, 5.81637881e-08, 5.84805485e-08, 5.88208361e-08,\n",
      "       5.91863959e-08, 5.95790938e-08, 6.00009241e-08, 6.04540152e-08,\n",
      "       6.09406366e-08, 6.14632039e-08, 6.20242833e-08, 6.26265937e-08,\n",
      "       6.32730068e-08, 6.39665413e-08, 6.47103525e-08, 6.55077105e-08,\n",
      "       6.63619654e-08, 6.72764901e-08, 6.82545914e-08, 6.92993730e-08,\n",
      "       7.00000000e-08])\n",
      " t_events: None\n",
      "        y: array([[ 1.00000000e-06,  1.00000000e-06,  1.00000000e-06,\n",
      "         1.00000000e-06,  1.00000000e-06,  1.00000000e-06,\n",
      "         1.00000000e-06,  1.00000000e-06,  1.00000000e-06,\n",
      "         1.00000000e-06,  1.00000000e-06,  1.00000002e-06,\n",
      "         1.00000055e-06,  1.00003030e-06,  1.00056322e-06,\n",
      "         1.00207794e-06,  1.00500172e-06,  1.01069733e-06,\n",
      "         1.01611120e-06,  1.02234730e-06,  1.02726060e-06,\n",
      "         1.03249556e-06,  1.03930576e-06,  1.04782561e-06,\n",
      "         1.05830990e-06,  1.07184749e-06,  1.08847987e-06,\n",
      "         1.10565118e-06,  1.12195773e-06,  1.13834706e-06,\n",
      "         1.15523437e-06,  1.17281935e-06,  1.19124616e-06,\n",
      "         1.21063881e-06,  1.23111509e-06,  1.25279716e-06,\n",
      "         1.27580886e-06,  1.30028060e-06,  1.32635208e-06,\n",
      "         1.35417374e-06,  1.38390794e-06,  1.41572968e-06,\n",
      "         1.44982660e-06,  1.48639785e-06,  1.52565123e-06,\n",
      "         1.56779767e-06,  1.61304218e-06,  1.66157040e-06,\n",
      "         1.71353035e-06,  1.76900903e-06,  1.82800158e-06,\n",
      "         1.89036307e-06,  1.95570634e-06,  2.02310528e-06,\n",
      "         2.08979724e-06,  2.14932964e-06,  2.23237453e-06,\n",
      "         2.33142197e-06,  2.45674638e-06,  2.60707644e-06,\n",
      "         2.74883461e-06,  2.88124191e-06,  3.01094345e-06,\n",
      "         3.14056736e-06,  3.27127636e-06,  3.40376327e-06,\n",
      "         3.53850188e-06,  3.67584907e-06,  3.81609319e-06,\n",
      "         3.95947978e-06,  4.10622650e-06,  4.25653235e-06,\n",
      "         4.41058354e-06,  4.56855759e-06,  4.73062609e-06,\n",
      "         4.89695670e-06,  5.06771465e-06,  5.24306384e-06,\n",
      "         5.42316768e-06,  5.60818969e-06,  5.79829405e-06,\n",
      "         5.99364594e-06,  6.19441181e-06,  6.40075960e-06,\n",
      "         6.61285887e-06,  6.83088083e-06,  7.05499841e-06,\n",
      "         7.28538618e-06,  7.52222024e-06,  7.76567810e-06,\n",
      "         8.01593839e-06,  8.27318063e-06,  8.53758489e-06,\n",
      "         8.80933128e-06,  9.08859949e-06,  9.37556815e-06,\n",
      "         9.67041409e-06,  9.97331152e-06,  1.02844310e-05,\n",
      "         1.06039384e-05,  1.09319935e-05,  1.12687484e-05,\n",
      "         1.16143459e-05,  1.19689177e-05,  1.23325816e-05,\n",
      "         1.27054394e-05,  1.30875737e-05,  1.34790445e-05,\n",
      "         1.38798853e-05,  1.42900987e-05,  1.47096514e-05,\n",
      "         1.51384682e-05,  1.55764255e-05,  1.60233439e-05,\n",
      "         1.64789791e-05,  1.69430124e-05,  1.74150391e-05,\n",
      "         1.78945557e-05,  1.83809443e-05,  1.88734564e-05,\n",
      "         1.93711921e-05,  1.98730779e-05,  2.03778399e-05,\n",
      "         2.08839736e-05,  2.13897085e-05,  2.18929675e-05,\n",
      "         2.23913194e-05,  2.28819246e-05,  2.33614730e-05,\n",
      "         2.38261128e-05,  2.42713721e-05,  2.46920749e-05,\n",
      "         2.50822584e-05,  2.54351037e-05,  2.57429078e-05,\n",
      "         2.59971381e-05,  2.61886287e-05,  2.63079582e-05,\n",
      "         2.63457854e-05,  2.62898947e-05,  2.61272495e-05,\n",
      "         2.58787979e-05,  2.55518091e-05,  2.51555339e-05,\n",
      "         2.47005724e-05,  2.41975018e-05,  2.36561511e-05,\n",
      "         2.30852817e-05,  2.24925090e-05,  2.18843492e-05,\n",
      "         2.12663209e-05,  2.06430625e-05,  2.00184481e-05,\n",
      "         1.93956941e-05,  1.87774528e-05,  1.81658953e-05,\n",
      "         1.75627819e-05,  1.69695233e-05,  1.63872322e-05,\n",
      "         1.58167676e-05,  1.52587730e-05,  1.47137078e-05,\n",
      "         1.41818747e-05,  1.36634422e-05,  1.31584638e-05,\n",
      "         1.26668934e-05,  1.21885977e-05,  1.17233659e-05,\n",
      "         1.12709163e-05,  1.08308993e-05,  1.04028982e-05,\n",
      "         9.98642368e-06,  9.58090344e-06,  9.18566165e-06,\n",
      "         8.79988355e-06,  8.42255306e-06,  8.05233944e-06,\n",
      "         7.68737584e-06,  7.32477813e-06,  6.95941150e-06,\n",
      "         6.57971328e-06,  6.14154548e-06,  5.90473749e-06,\n",
      "         5.70474164e-06,  5.54021324e-06,  5.37838695e-06,\n",
      "         5.19052998e-06,  4.99989815e-06,  4.81277066e-06,\n",
      "         4.63129274e-06,  4.45599646e-06,  4.28670020e-06,\n",
      "         4.12282283e-06,  3.96343723e-06,  3.80711437e-06,\n",
      "         3.65135243e-06,  3.49037121e-06,  3.33760267e-06,\n",
      "         3.22530713e-06,  3.13120489e-06,  3.05164048e-06,\n",
      "         2.98631590e-06,  2.92968906e-06,  2.87638408e-06,\n",
      "         2.81412781e-06,  2.74713052e-06,  2.69660671e-06,\n",
      "         2.65207334e-06,  2.61945541e-06,  2.59225027e-06,\n",
      "         2.57196340e-06,  2.55753706e-06,  2.54833633e-06,\n",
      "         2.54420679e-06,  2.54503174e-06,  2.54954756e-06,\n",
      "         2.55818450e-06,  2.57129197e-06,  2.58934146e-06,\n",
      "         2.61310639e-06,  2.64397352e-06,  2.68497468e-06,\n",
      "         2.74811854e-06,  2.79969672e-06,  2.84671499e-06,\n",
      "         2.89576422e-06,  2.94667280e-06,  3.00974766e-06,\n",
      "         3.08325336e-06,  3.16975143e-06,  3.27571148e-06,\n",
      "         3.43038909e-06,  3.55830971e-06,  3.68479899e-06,\n",
      "         3.80916958e-06,  3.93423442e-06,  4.06142488e-06,\n",
      "         4.19156554e-06,  4.32522033e-06,  4.46281051e-06,\n",
      "         4.60465975e-06,  4.75100096e-06,  4.90194834e-06,\n",
      "         5.05741339e-06,  5.21689126e-06,  5.37885245e-06,\n",
      "         5.49195252e-06,  5.60254567e-06,  5.77468825e-06,\n",
      "         5.98033517e-06,  6.23149533e-06,  6.57350530e-06,\n",
      "         6.89853301e-06,  7.20541474e-06,  7.50052694e-06,\n",
      "         7.79308835e-06,  8.08675563e-06,  8.38346850e-06,\n",
      "         8.68444309e-06,  8.99052228e-06,  9.30233158e-06,\n",
      "         9.62035786e-06,  9.94499265e-06,  1.02765573e-05,\n",
      "         1.06153179e-05,  1.09614943e-05,  1.13152653e-05,\n",
      "         1.16767703e-05,  1.20461107e-05,  1.24233478e-05,\n",
      "         1.28085012e-05,  1.32015444e-05,  1.36024007e-05,\n",
      "         1.40109368e-05,  1.44269559e-05,  1.48501892e-05,\n",
      "         1.52802862e-05,  1.57168028e-05,  1.61591882e-05,\n",
      "         1.66067691e-05,  1.70587321e-05,  1.75141024e-05,\n",
      "         1.79717199e-05,  1.84302113e-05,  1.88879576e-05,\n",
      "         1.93430560e-05,  1.97932771e-05,  2.02360139e-05,\n",
      "         2.06682240e-05,  2.10863641e-05,  2.14863171e-05,\n",
      "         2.18633137e-05,  2.20887207e-05],\n",
      "       [ 0.00000000e+00,  9.99999000e-07,  1.09999890e-05,\n",
      "         1.10999889e-04,  1.11099888e-03,  7.47955374e-03,\n",
      "         4.15744734e-02,  1.90988127e-01,  7.00816048e-01,\n",
      "         2.18083196e+00,  7.07138202e+00,  2.32678954e+01,\n",
      "         1.15787174e+02,  8.53978350e+02,  3.60625483e+03,\n",
      "         6.73793291e+03,  1.00906158e+04,  1.40178315e+04,\n",
      "         1.65216751e+04,  1.86711086e+04,  2.00145867e+04,\n",
      "         2.12077586e+04,  2.24866295e+04,  2.37658555e+04,\n",
      "         2.49879353e+04,  2.61632753e+04,  2.71842299e+04,\n",
      "         2.79084836e+04,  2.83831000e+04,  2.87109268e+04,\n",
      "         2.89338105e+04,  2.90735615e+04,  2.91441102e+04,\n",
      "         2.91551064e+04,  2.91135223e+04,  2.90244824e+04,\n",
      "         2.88917812e+04,  2.87182199e+04,  2.85058281e+04,\n",
      "         2.82560295e+04,  2.79697746e+04,  2.76476545e+04,\n",
      "         2.72900095e+04,  2.68970421e+04,  2.64689434e+04,\n",
      "         2.60060435e+04,  2.55089891e+04,  2.49789497e+04,\n",
      "         2.44178411e+04,  2.38285488e+04,  2.32151528e+04,\n",
      "         2.25832274e+04,  2.19405250e+04,  2.12992336e+04,\n",
      "         2.06866390e+04,  2.01582861e+04,  1.94500548e+04,\n",
      "         1.86481814e+04,  1.76975986e+04,  1.66458847e+04,\n",
      "         1.57357050e+04,  1.49509312e+04,  1.42381647e+04,\n",
      "         1.35764524e+04,  1.29560524e+04,  1.23710619e+04,\n",
      "         1.18174393e+04,  1.12921825e+04,  1.07929314e+04,\n",
      "         1.03177517e+04,  9.86500802e+03,  9.43328401e+03,\n",
      "         9.02133007e+03,  8.62802749e+03,  8.25236303e+03,\n",
      "         7.89341043e+03,  7.55031647e+03,  7.22229040e+03,\n",
      "         6.90859565e+03,  6.60854327e+03,  6.32148653e+03,\n",
      "         6.04681665e+03,  5.78395913e+03,  5.53237065e+03,\n",
      "         5.29153652e+03,  5.06096839e+03,  4.84020228e+03,\n",
      "         4.62879692e+03,  4.42633214e+03,  4.23240755e+03,\n",
      "         4.04664130e+03,  3.86866897e+03,  3.69814254e+03,\n",
      "         3.53472948e+03,  3.37811185e+03,  3.22798556e+03,\n",
      "         3.08405957e+03,  2.94605525e+03,  2.81370570e+03,\n",
      "         2.68675513e+03,  2.56495834e+03,  2.44808008e+03,\n",
      "         2.33589462e+03,  2.22818521e+03,  2.12474361e+03,\n",
      "         2.02536961e+03,  1.92987064e+03,  1.83806130e+03,\n",
      "         1.74976294e+03,  1.66480329e+03,  1.58301601e+03,\n",
      "         1.50424032e+03,  1.42832061e+03,  1.35510598e+03,\n",
      "         1.28444990e+03,  1.21620975e+03,  1.15024640e+03,\n",
      "         1.08642373e+03,  1.02460820e+03,  9.64668287e+02,\n",
      "         9.06473929e+02,  8.49895943e+02,  7.94805326e+02,\n",
      "         7.41072522e+02,  6.88566570e+02,  6.37154180e+02,\n",
      "         5.86698669e+02,  5.37058814e+02,  4.88087551e+02,\n",
      "         4.39630671e+02,  3.91525451e+02,  3.43599511e+02,\n",
      "         2.95670053e+02,  2.47543942e+02,  1.99018880e+02,\n",
      "         1.49885477e+02,  9.99266769e+01,  4.88977782e+01,\n",
      "        -3.60321696e+00, -5.93915971e+01, -1.17952358e+02,\n",
      "        -1.73941194e+02, -2.29552057e+02, -2.85303069e+02,\n",
      "        -3.41403108e+02, -3.98029886e+02, -4.55374244e+02,\n",
      "        -5.13642430e+02, -5.73051026e+02, -6.33822311e+02,\n",
      "        -6.96181494e+02, -7.60355564e+02, -8.26573254e+02,\n",
      "        -8.95065700e+02, -9.66067477e+02, -1.03981785e+03,\n",
      "        -1.11656216e+03, -1.19655324e+03, -1.28005300e+03,\n",
      "        -1.36733394e+03, -1.45868090e+03, -1.55439287e+03,\n",
      "        -1.65478504e+03, -1.76019109e+03, -1.87096587e+03,\n",
      "        -1.98748855e+03, -2.11016646e+03, -2.23943985e+03,\n",
      "        -2.37578803e+03, -2.51973728e+03, -2.67187161e+03,\n",
      "        -2.83284761e+03, -3.00341578e+03, -3.18445225e+03,\n",
      "        -3.37700801e+03, -3.58238976e+03, -3.80230093e+03,\n",
      "        -4.03911000e+03, -4.29642226e+03, -4.58052106e+03,\n",
      "        -4.90516946e+03, -5.32118343e+03, -5.56596966e+03,\n",
      "        -5.78411841e+03, -5.97152587e+03, -6.16280954e+03,\n",
      "        -6.39324476e+03, -6.63562386e+03, -6.88068006e+03,\n",
      "        -7.12316084e+03, -7.35912321e+03, -7.58482460e+03,\n",
      "        -7.79612121e+03, -7.98794460e+03, -8.15355310e+03,\n",
      "        -8.28297908e+03, -8.35835901e+03, -8.34505570e+03,\n",
      "        -8.25688519e+03, -8.11054365e+03, -7.91753334e+03,\n",
      "        -7.69723475e+03, -7.44883593e+03, -7.15368483e+03,\n",
      "        -6.71202914e+03, -6.07751063e+03, -5.44161176e+03,\n",
      "        -4.71023951e+03, -4.01534253e+03, -3.26200582e+03,\n",
      "        -2.50962341e+03, -1.75606052e+03, -9.93360269e+02,\n",
      "        -1.98287299e+02,  4.74779183e+02,  1.10757466e+03,\n",
      "         1.75435535e+03,  2.39872544e+03,  3.03476952e+03,\n",
      "         3.66076869e+03,  4.27863379e+03,  4.89920457e+03,\n",
      "         5.58852392e+03,  5.99866539e+03,  6.29008123e+03,\n",
      "         6.53082166e+03,  6.72725607e+03,  6.91152763e+03,\n",
      "         7.06236403e+03,  7.17328288e+03,  7.23713324e+03,\n",
      "         7.23236680e+03,  7.16977100e+03,  7.07362824e+03,\n",
      "         6.95664483e+03,  6.82403541e+03,  6.67926268e+03,\n",
      "         6.52497564e+03,  6.36329054e+03,  6.19595979e+03,\n",
      "         6.02448200e+03,  5.85018785e+03,  5.67432551e+03,\n",
      "         5.49817730e+03,  5.32327953e+03,  5.15198798e+03,\n",
      "         5.03623323e+03,  4.92612428e+03,  4.76074677e+03,\n",
      "         4.57258191e+03,  4.35612860e+03,  4.08356133e+03,\n",
      "         3.84633253e+03,  3.64004792e+03,  3.45639293e+03,\n",
      "         3.28727077e+03,  3.12929742e+03,  2.98059178e+03,\n",
      "         2.83992940e+03,  2.70643319e+03,  2.57943192e+03,\n",
      "         2.45838652e+03,  2.34284799e+03,  2.23243174e+03,\n",
      "         2.12680094e+03,  2.02565545e+03,  1.92872398e+03,\n",
      "         1.83575852e+03,  1.74653016e+03,  1.66082594e+03,\n",
      "         1.57844640e+03,  1.49920361e+03,  1.42291955e+03,\n",
      "         1.34942483e+03,  1.27855750e+03,  1.21016204e+03,\n",
      "         1.14408850e+03,  1.08019166e+03,  1.01833020e+03,\n",
      "         9.58365967e+02,  9.00163212e+02,  8.43587777e+02,\n",
      "         7.88506282e+02,  7.34785249e+02,  6.82290132e+02,\n",
      "         6.30884286e+02,  5.80427818e+02,  5.30776317e+02,\n",
      "         4.81779506e+02,  4.33279810e+02,  3.85110964e+02,\n",
      "         3.37096812e+02,  3.06546884e+02]])\n",
      " y_events: None\n"
     ]
    }
   ],
   "source": [
    "#Imprimo propiedades de la solución\n",
    "print(sol)"
   ]
  },
  {
   "cell_type": "code",
   "execution_count": 95,
   "metadata": {},
   "outputs": [
    {
     "data": {
      "image/png": "[encoded data removed]",
      "text/plain": [
       "<Figure size 432x288 with 1 Axes>"
      ]
     },
     "metadata": {
      "needs_background": "light"
     },
     "output_type": "display_data"
    },
    {
     "data": {
      "image/png": "[encoded data removed]",
      "text/plain": [
       "<Figure size 432x288 with 1 Axes>"
      ]
     },
     "metadata": {
      "needs_background": "light"
     },
     "output_type": "display_data"
    },
    {
     "name": "stderr",
     "output_type": "stream",
     "text": [
      "C:\\Users\\lupam\\AppData\\Local\\Temp\\ipykernel_4988\\3442091702.py:5: RuntimeWarning: divide by zero encountered in true_divide\n",
      "  return rho_Bunkin*u0(T_e, q_e, R0)**2*(1 + 2*mu(T_e, q_e, R0))*(R0/R)**4\n",
      "C:\\Users\\lupam\\AppData\\Local\\Temp\\ipykernel_4988\\2798353852.py:22: RuntimeWarning: divide by zero encountered in true_divide\n",
      "  P = N * K_B * Tinf / V(R)\n"
     ]
    },
    {
     "data": {
      "image/png": "[encoded data removed]",
      "text/plain": [
       "<Figure size 432x288 with 1 Axes>"
      ]
     },
     "metadata": {
      "needs_background": "light"
     },
     "output_type": "display_data"
    }
   ],
   "source": [
    "#Grafico\n",
    "plt.plot(sol.t, sol.y[0]/R0, label = \"R(t)/R0\")\n",
    "plt.legend()\n",
    "plt.show()\n",
    "\n",
    "plt.plot(sol.t, sol.y[1], label = \"v_R(t)\")\n",
    "plt.legend()\n",
    "plt.show()\n",
    "\n",
    "plt.plot(sol.t, p_B(sol.t,T_e, q_e, R0), label = \"p_B(t)\")\n",
    "plt.legend()\n",
    "plt.show()\n"
   ]
  },
  {
   "cell_type": "markdown",
   "metadata": {},
   "source": [
    "### Verificación\n",
    "\n",
    "Según el paper de Bunkin, a t = t_coal debe ocurrir que R = R1, ambos parámetros bien definidos\n",
    "Supongamos por lo pronto que m = 0 para todo tiempo, asumiendo que la masa de los electrones entrantes, que son los responsables de la expansión inicial, es despreciable"
   ]
  },
  {
   "cell_type": "code",
   "execution_count": 96,
   "metadata": {},
   "outputs": [
    {
     "name": "stdout",
     "output_type": "stream",
     "text": [
      "tiempo de coalescencia (t_coal):  4.584739171374519e-09\n",
      "radio relativo teórico del bubston en t = t_coal (R1/R0):  20.000000000000004\n"
     ]
    }
   ],
   "source": [
    "a_i = 2e-5 #radio de Debye de un ion electrolito en un líquido. En este caso el agua (valor sacado del Bunkin) en [cm]\n",
    "t_coal = ( 2/5*(R0/u0(T_e, q_e, R0)) )/np.sqrt(2*(1 + 2*mu(T_e, q_e, R0)))*(a_i/R0)**(5/2) #tiempo de coalescencia en [s] (creo)\n",
    "l = 2*a_i #aproximación hecha en el Bunkin*\n",
    "R1 = l/2 #radio del bubston necesario para que las burbujas se toquen\n",
    "\n",
    "print(\"tiempo de coalescencia (t_coal): \", t_coal)\n",
    "print(\"radio relativo teórico del bubston en t = t_coal (R1/R0): \", R1/R0)"
   ]
  },
  {
   "cell_type": "code",
   "execution_count": 97,
   "metadata": {},
   "outputs": [
    {
     "name": "stdout",
     "output_type": "stream",
     "text": [
      "radio numérico del bubston en t = t_coal (R1):  16.028292831866146\n"
     ]
    }
   ],
   "source": [
    "#Resuelvo el sistema dy/dt usando solve_ivp\n",
    "t_ini = 0\n",
    "t_max = t_coal\n",
    "y_ini = [R0, 0] #Condición inicial\n",
    "rtol = 1e-12 #tolerancia relativa para el método numérico\n",
    "sol = solve_ivp(dydt, [t_ini, t_max], y_ini, method = \"DOP853\", rtol = rtol, atol = rtol)\n",
    "#asumo que el problema no es stiff\n",
    "\n",
    "print(\"radio numérico del bubston en t = t_coal (R1): \", sol.y[0][-1]/R0)\n"
   ]
  },
  {
   "cell_type": "markdown",
   "metadata": {},
   "source": [
    "#### Consideraciones\n",
    "Encontré que el resultado es independiente de si m(t) = 0 o no. Esto tiene sentido porque m(t) hace referencia a los iones/moléculas de dentro y según el paper de Bunkin no tienen efecto inicialmente tales partículas. Habría que verificar esto formalmente poniendo una presión debido a tales partículas, por ejemplo debido a un GI.\n",
    "\n",
    "A continuación se detallan el radio del bubston en t = t_coal(R1) considerando o no la masa y la presión de las partículas:\n",
    "* m = 0, p_GI = 0: 16.028292831866146\n",
    "* m!= 0 (N_H2O_0 = 1e9), p_GI = 0: 16.028292831866146\n",
    "* m!= 0 (N_H2O_0 = 1e9), p_GI!= 0: 81.30913083691735 \n",
    "CAMBIA CONSIDERABLEMENTE! Quizás el problema está en la cantidad de partículas consideradas. Gustavo me había dicho que el nro de partículas iniciales era despreciable respecto al nro de electrones máximos\n",
    "* m!= 0 (N_H2O_0 = 1e3), p_GI!= 0: 81.30913083691735 \n",
    "Tal cantidad de partículas de vapor implicaría una presión de 10 atm (p_GI(R0)*0.1*9.86923e-6\n",
    ") dentro de la burbuja. Es exagerado? Sí, pero con 109 partículas tengo 107 atm....\n",
    "\n",
    "\n",
    "\n",
    "\n",
    "Los nros siguientes los obtuve haciendo mal la cuenta. Había considerado que dpdt = dpdR y no es así\n",
    "* m != 0, p_GI = 0: 19.185427198440635\n",
    "* m = 0, p_GI = 0: 19.185427198440635\n",
    "* m != 0, p_GI != 0:"
   ]
  },
  {
   "cell_type": "markdown",
   "metadata": {},
   "source": [
    "## Formación de burbuja a partir del cluster\n",
    "\n",
    "1. Calculamos el tiempo tal que R = R1\n",
    "2. Supongo que a ese tiempo, instantáneamente se forma una burbuja con todos los bubston del cluster, de tamaño n_bubston*R1\n",
    "3. Calculo la evolución de la nueva burbuja considerando tmb que hay una carga de n_bubston*e\n",
    "4. Ver el efecto de considerar o no una presión de gas p_GI\n",
    "\n",
    "Durante la evolución estoy asumiendo Te constante aunque no sea así necesariamente. También asumí que la carga \"inicial\" es q_e*n_bubston."
   ]
  },
  {
   "cell_type": "code",
   "execution_count": 116,
   "metadata": {},
   "outputs": [],
   "source": [
    "#Defino el sistema de ecuaciones diferenciales. La diferencia con el anterior es el radio inicial y la carga contenida\n",
    "n_bubston = 1e2\n",
    "\n",
    "\n",
    "\n",
    "\n",
    "def dydt(t,y):\n",
    "    #Sistema de ecuaciones de primer orden para la evolución del radio en función del tiempo. Entiéndase y = (R, Rp) = (R, v_R)\n",
    "    v_R = y[1]\n",
    "    R = y[0]\n",
    "\n",
    "    #Defino las ctes del sistema\n",
    "    T_e_ = T_e\n",
    "    R0_ = R1*n_bubston\n",
    "    q_e_ = q_e*n_bubston #NO SÉ SI ESTO ESTÁ BIEN\n",
    "\n",
    "    #Defino los términos de la ecuación diferencial de R(t). Genéricamente coloco como inputs mp, mpp, R y v_R aunque no haya tal dependencia\n",
    "    #Los términos se encuentran definidos en mi cuadernillo\n",
    "\n",
    "    #Expreso dydt_0 = dR/dt = v_R\n",
    "    dydt_0 = v_R\n",
    "\n",
    "    #Expreso dydt_1 = d(v_R/dt) = d2(R)/dt2 \n",
    "    term1 = -(3/2)*v_R**2*(1 - v_R/(3*c_L) + 2*mp(t)/(3*c_L*rho_L_i))\n",
    "    term2 = (1/rho_L_i)*(1 + v_R/c_L)*(p_B(R,T_e_, q_e_, R0_) - p_inf)\n",
    "    term3 = (mpp(t)*R/rho_L_i)*(1 - v_R/c_L + mp(t)/(c_L*rho_L_i))\n",
    "    term4 = (mp(t)/rho_L_i)*(v_R - mp(t)/(2*rho_L_i) + mp(t)*v_R/(2*c_L*rho_L_i))\n",
    "    term5 = (R/c_L*rho_L_inf)*dpBdt(R, v_R,T_e_, q_e_, R0_)\n",
    "\n",
    "    dydt_1 = (1/(R*(1 - v_R/c_L + mp(t)/(c_L*rho_L_i))     ))*(term1 + term2 + term3 + term4 + term5)\n",
    "\n",
    "    return [dydt_0, dydt_1]"
   ]
  },
  {
   "cell_type": "code",
   "execution_count": null,
   "metadata": {},
   "outputs": [],
   "source": []
  },
  {
   "cell_type": "code",
   "execution_count": 123,
   "metadata": {},
   "outputs": [
    {
     "name": "stdout",
     "output_type": "stream",
     "text": [
      "  message: 'The solver successfully reached the end of the integration interval.'\n",
      "     nfev: 20318\n",
      "     njev: 0\n",
      "      nlu: 0\n",
      "      sol: None\n",
      "   status: 0\n",
      "  success: True\n",
      "        t: array([0.00000000e+00, 4.69285031e-12, 3.18902312e-11, ...,\n",
      "       2.49758149e-06, 2.49875909e-06, 2.50000000e-06])\n",
      " t_events: None\n",
      "        y: array([[ 2.00000000e-03,  2.00000000e-03,  2.00000000e-03, ...,\n",
      "         2.71976866e-05,  2.58534390e-05,  2.43012877e-05],\n",
      "       [ 0.00000000e+00, -1.99600796e-03, -1.35638569e-02, ...,\n",
      "        -1.09362938e+03, -1.19182281e+03, -1.31329293e+03]])\n",
      " y_events: None\n"
     ]
    }
   ],
   "source": [
    "#Resuelvo el sistema dy/dt usando solve_ivp\n",
    "t_ini = 0\n",
    "t_max = 2.5e-6 #70 ns\n",
    "y_ini = [R1*n_bubston, 0] #Condición inicial\n",
    "rtol = 1e-12 #tolerancia relativa para el método numérico\n",
    "sol = solve_ivp(dydt, [t_ini, t_max], y_ini, method = \"DOP853\", rtol = rtol, atol = rtol)\n",
    "#asumo que el problema no es stiff\n",
    "\n",
    "print(sol)"
   ]
  },
  {
   "cell_type": "code",
   "execution_count": 124,
   "metadata": {},
   "outputs": [
    {
     "data": {
      "image/png": "[encoded data removed]",
      "text/plain": [
       "<Figure size 432x288 with 1 Axes>"
      ]
     },
     "metadata": {
      "needs_background": "light"
     },
     "output_type": "display_data"
    },
    {
     "data": {
      "image/png": "[encoded data removed]",
      "text/plain": [
       "<Figure size 432x288 with 1 Axes>"
      ]
     },
     "metadata": {
      "needs_background": "light"
     },
     "output_type": "display_data"
    },
    {
     "name": "stderr",
     "output_type": "stream",
     "text": [
      "C:\\Users\\lupam\\AppData\\Local\\Temp\\ipykernel_4988\\3442091702.py:5: RuntimeWarning: divide by zero encountered in true_divide\n",
      "  return rho_Bunkin*u0(T_e, q_e, R0)**2*(1 + 2*mu(T_e, q_e, R0))*(R0/R)**4\n",
      "C:\\Users\\lupam\\AppData\\Local\\Temp\\ipykernel_4988\\2798353852.py:22: RuntimeWarning: divide by zero encountered in true_divide\n",
      "  P = N * K_B * Tinf / V(R)\n"
     ]
    },
    {
     "data": {
      "image/png": "[encoded data removed]",
      "text/plain": [
       "<Figure size 432x288 with 1 Axes>"
      ]
     },
     "metadata": {
      "needs_background": "light"
     },
     "output_type": "display_data"
    }
   ],
   "source": [
    "#Grafico\n",
    "plt.plot(sol.t, sol.y[0]/R0, label = \"R(t)/R0\")\n",
    "plt.legend()\n",
    "plt.show()\n",
    "\n",
    "plt.plot(sol.t, sol.y[1], label = \"v_R(t)\")\n",
    "plt.legend()\n",
    "plt.show()\n",
    "\n",
    "plt.plot(sol.t, p_B(sol.t,T_e, q_e, R0), label = \"p_B(t)\")\n",
    "plt.legend()\n",
    "plt.show()\n"
   ]
  },
  {
   "cell_type": "markdown",
   "metadata": {},
   "source": [
    "### Consideraciones\n",
    "* A tal tamaño y tal cantidad de cargas la burbuja comienza a decrecer en tamaño. Esto es lo que se obtiene en el papaer?\n",
    "* Con n_bubston = 10e2, a t = 2e-6 s aproximadamente se llega al mínimo. Esto ocurre independientemente de la presión producida por el GI en el interior. Luego de que la burbuja llega al cero, se produce un comportamiento oscilatorio en el que se genera una nueva burbuja y así sucesivamente.\n",
    "* Con n_bubston = 10e8, el comportamiento anterior ocurre a los 2 s. Con el método numérico no puedo ejecutar el código para tiempos mayores, me da el error \"Required step size is less than spacing between numbers\". Según entiendo en ese punto hay una singularidad (infinito) en v_R que el solver no puede manejar"
   ]
  },
  {
   "cell_type": "code",
   "execution_count": 107,
   "metadata": {},
   "outputs": [
    {
     "data": {
      "text/plain": [
       "7000.0"
      ]
     },
     "execution_count": 107,
     "metadata": {},
     "output_type": "execute_result"
    }
   ],
   "source": [
    "70e2"
   ]
  },
  {
   "cell_type": "code",
   "execution_count": null,
   "metadata": {},
   "outputs": [],
   "source": []
  }
 ],
 "metadata": {
  "kernelspec": {
   "display_name": "Python 3.9.12 ('Maestria')",
   "language": "python",
   "name": "python3"
  },
  "language_info": {
   "codemirror_mode": {
    "name": "ipython",
    "version": 3
   },
   "file_extension": ".py",
   "mimetype": "text/x-python",
   "name": "python",
   "nbconvert_exporter": "python",
   "pygments_lexer": "ipython3",
   "version": "3.9.12"
  },
  "orig_nbformat": 4,
  "vscode": {
   "interpreter": {
    "hash": "cb1dcd6e0b4bfbec9d527d1ab7c6c7d4b743ae11c2e9f2e62e6759bb0aaa74ae"
   }
  }
 },
 "nbformat": 4,
 "nbformat_minor": 2
}
